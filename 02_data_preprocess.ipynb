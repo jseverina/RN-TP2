{
  "cells": [
    {
      "cell_type": "code",
      "execution_count": null,
      "metadata": {
        "id": "ac2wLSwHsjAd",
        "colab": {
          "base_uri": "https://localhost:8080/"
        },
        "outputId": "aaa18648-6b96-4542-97e5-a8d1bf3d310a"
      },
      "outputs": [
        {
          "output_type": "stream",
          "name": "stdout",
          "text": [
            "Looking in indexes: https://pypi.org/simple, https://us-python.pkg.dev/colab-wheels/public/simple/\n",
            "Collecting isoweek\n",
            "  Downloading isoweek-1.3.3-py2.py3-none-any.whl (7.1 kB)\n",
            "Installing collected packages: isoweek\n",
            "Successfully installed isoweek-1.3.3\n"
          ]
        }
      ],
      "source": [
        "import pandas as pd\n",
        "import numpy as np\n",
        "import datetime\n",
        "!pip install isoweek\n",
        "from isoweek import Week\n",
        "PATH = '/content/drive/MyDrive/Colab Notebooks/Redes Neuronales/TP2/dataset/'"
      ]
    },
    {
      "cell_type": "code",
      "source": [
        "from google.colab import drive\n",
        "drive.mount('/content/drive')"
      ],
      "metadata": {
        "colab": {
          "base_uri": "https://localhost:8080/"
        },
        "id": "W2hukU4zvAC8",
        "outputId": "afdd1a29-5179-405e-8d73-79e4f699ff1a"
      },
      "execution_count": null,
      "outputs": [
        {
          "output_type": "stream",
          "name": "stdout",
          "text": [
            "Mounted at /content/drive\n"
          ]
        }
      ]
    },
    {
      "cell_type": "code",
      "execution_count": null,
      "metadata": {
        "id": "oEhwN09ZsjAh"
      },
      "outputs": [],
      "source": [
        "table_names = ['train', 'test', 'store', 'store_states', 'state_names', 'googletrend', 'weather']\n",
        "train, test, store, store_states, state_names, googletrend, weather = dfs = [pd.read_csv(PATH + fname+'.csv', \n",
        "                                                                             low_memory=False) for fname in table_names]"
      ]
    },
    {
      "cell_type": "markdown",
      "metadata": {
        "id": "5po9Id2qsjAi"
      },
      "source": [
        "# Missing data \n",
        "\n",
        "Hay que averiguar cuales faltan y hay que llenarlos con algun valor idoneo"
      ]
    },
    {
      "cell_type": "code",
      "execution_count": null,
      "metadata": {
        "id": "YlhLqavrsjAn"
      },
      "outputs": [],
      "source": [
        "def get_missing_columns(df):\n",
        "    return list(df.columns[df.describe(include = 'all').loc['count']<len(df)])"
      ]
    },
    {
      "cell_type": "code",
      "execution_count": null,
      "metadata": {
        "id": "85fZkOMHsjAo",
        "outputId": "c0fe9900-1cf7-4e24-e1dd-ecd0a9d6c75f",
        "colab": {
          "base_uri": "https://localhost:8080/"
        }
      },
      "outputs": [
        {
          "output_type": "stream",
          "name": "stdout",
          "text": [
            "train []\n",
            "test ['Open']\n",
            "store ['CompetitionDistance', 'CompetitionOpenSinceMonth', 'CompetitionOpenSinceYear', 'Promo2SinceWeek', 'Promo2SinceYear', 'PromoInterval']\n",
            "store_states []\n",
            "state_names []\n",
            "googletrend []\n",
            "weather ['Max_VisibilityKm', 'Mean_VisibilityKm', 'Min_VisibilitykM', 'Max_Gust_SpeedKm_h', 'CloudCover', 'Events']\n"
          ]
        }
      ],
      "source": [
        "for i, df in enumerate(dfs):\n",
        "    print(table_names[i], get_missing_columns(df))"
      ]
    },
    {
      "cell_type": "code",
      "execution_count": null,
      "metadata": {
        "id": "wWBqNxy1sjAq"
      },
      "outputs": [],
      "source": [
        "# Si no es dia 7 esta abierto - Verificado que el store 622 esta usualmente cerrado el día 7\n",
        "test.loc[test['Open'].isna(), 'Open'] = (test[test['Open'].isna()]['DayOfWeek'] != 7)*1.0"
      ]
    },
    {
      "cell_type": "code",
      "execution_count": null,
      "metadata": {
        "id": "svkLpir0sjAr"
      },
      "outputs": [],
      "source": [
        "# Fechas de las mas antiguas segun datos y tambien las fechas anteriores las pongo como minimo en 1990\n",
        "store.loc[store['CompetitionOpenSinceYear'].isna() | (store['CompetitionOpenSinceYear']<1990), 'CompetitionOpenSinceYear'] = np.int32(1990)\n",
        "store.loc[store['CompetitionOpenSinceMonth'].isna() | (store['CompetitionOpenSinceYear']<1990), 'CompetitionOpenSinceMonth'] = np.int32(1)"
      ]
    },
    {
      "cell_type": "code",
      "execution_count": null,
      "metadata": {
        "id": "hhUtpy9vsjAt",
        "outputId": "ea394a73-0b56-4f4a-fd3e-63166fcee007",
        "colab": {
          "base_uri": "https://localhost:8080/"
        }
      },
      "outputs": [
        {
          "output_type": "stream",
          "name": "stdout",
          "text": [
            "75860.0 5404.901079136691 20.0\n"
          ]
        }
      ],
      "source": [
        "# Si no tengo la distancia, supongo que no hay (Como si estuviera lejos)\n",
        "print(store['CompetitionDistance'].max(), store['CompetitionDistance'].mean(), store['CompetitionDistance'].min())\n",
        "store.loc[store['CompetitionDistance'].isna(), 'CompetitionDistance'] = store['CompetitionDistance'].max()"
      ]
    },
    {
      "cell_type": "code",
      "execution_count": null,
      "metadata": {
        "id": "XOFqaMNvsjAu"
      },
      "outputs": [],
      "source": [
        "# Si no tiene Promo2 entonces la semana en donde empezo es cero. Esto será tratado como categórica por eso tiene sentido\n",
        "store.loc[store['Promo2SinceWeek'].isna() & (store['Promo2'] == 0), 'Promo2SinceWeek'] = np.int32(1)\n",
        "store.loc[store['Promo2SinceYear'].isna() & (store['Promo2'] == 0), 'Promo2SinceYear'] = np.int32(1990)\n",
        "store.loc[store['PromoInterval'].isna() & (store['Promo2'] == 0), 'PromoInterval'] = '-'"
      ]
    },
    {
      "cell_type": "code",
      "execution_count": null,
      "metadata": {
        "id": "94ze3skpsjAw"
      },
      "outputs": [],
      "source": [
        "# Supongo que son dias tranquilos (de todas formas no se usaran para la predicción)\n",
        "weather.loc[weather['Max_VisibilityKm'].isna(), 'Max_VisibilityKm'] = weather['Max_VisibilityKm'].max()\n",
        "weather.loc[weather['Mean_VisibilityKm'].isna(), 'Mean_VisibilityKm'] = weather['Mean_VisibilityKm'].max()\n",
        "weather.loc[weather['Min_VisibilitykM'].isna(), 'Min_VisibilitykM'] = weather['Min_VisibilitykM'].max()\n",
        "weather.loc[weather['Max_Gust_SpeedKm_h'].isna(), 'Max_Gust_SpeedKm_h'] = weather['Max_Gust_SpeedKm_h'].min()\n",
        "weather.loc[weather['CloudCover'].isna(), 'CloudCover'] = weather['CloudCover'].min()\n",
        "weather.loc[weather['Events'].isna(), 'Events'] = 'Sunny'"
      ]
    },
    {
      "cell_type": "code",
      "execution_count": null,
      "metadata": {
        "id": "H1G6otr-sjAz",
        "outputId": "59288582-ffc4-4c4b-9648-75b3dad7a035",
        "colab": {
          "base_uri": "https://localhost:8080/"
        }
      },
      "outputs": [
        {
          "output_type": "stream",
          "name": "stdout",
          "text": [
            "train []\n",
            "test []\n",
            "store []\n",
            "store_states []\n",
            "state_names []\n",
            "googletrend []\n",
            "weather []\n"
          ]
        }
      ],
      "source": [
        "for i, df in enumerate(dfs):\n",
        "    print(table_names[i], get_missing_columns(df))"
      ]
    },
    {
      "cell_type": "markdown",
      "metadata": {
        "id": "gmZHMCv-sjA0"
      },
      "source": [
        "# Paso a fecha algunas columnas para despues poder ponerla en días respecto a fecha"
      ]
    },
    {
      "cell_type": "code",
      "execution_count": null,
      "metadata": {
        "id": "Wb56Y7z4sjA0"
      },
      "outputs": [],
      "source": [
        "store['CompetitionOpenSinceYear'] = store['CompetitionOpenSinceYear'].astype(np.int32)\n",
        "store['CompetitionOpenSinceMonth'] = store['CompetitionOpenSinceMonth'].astype(np.int32)\n",
        "store['Promo2SinceWeek'] = store['Promo2SinceWeek'].astype(np.int32)\n",
        "store['Promo2SinceYear'] = store['Promo2SinceYear'].astype(np.int32)"
      ]
    },
    {
      "cell_type": "code",
      "execution_count": null,
      "metadata": {
        "id": "TvSuOveesjA1"
      },
      "outputs": [],
      "source": [
        "# Creo una nueva columna con fecha de apertura en formato de fecha (dia 15 por que no tengo el dato y no es relevante)\n",
        "store['CompetitionOpenSince'] = pd.to_datetime(store.apply(lambda x: datetime.datetime(\n",
        "    x.CompetitionOpenSinceYear, x.CompetitionOpenSinceMonth, 15), axis=1))"
      ]
    },
    {
      "cell_type": "code",
      "execution_count": null,
      "metadata": {
        "id": "ln-QtnQ7sjA2"
      },
      "outputs": [],
      "source": [
        "store[\"Promo2Since\"] = pd.to_datetime(store.apply(lambda x: Week(\n",
        "    x.Promo2SinceYear, x.Promo2SinceWeek).monday(), axis=1))"
      ]
    },
    {
      "cell_type": "markdown",
      "metadata": {
        "id": "EdNrMuIWsjA2"
      },
      "source": [
        "# Función para hacer el join\n",
        "\n",
        "Unir utilizando columnas de referencia."
      ]
    },
    {
      "cell_type": "code",
      "execution_count": null,
      "metadata": {
        "id": "DwnSOSQ2sjA2"
      },
      "outputs": [],
      "source": [
        "def join_df(left, right, left_on, right_on=None):\n",
        "    if right_on is None: right_on = left_on\n",
        "    return left.merge(right, how='left', left_on=left_on, right_on=right_on, \n",
        "                      suffixes=(\"\", \"_y\"))"
      ]
    },
    {
      "cell_type": "markdown",
      "metadata": {
        "id": "-GB3EmVhsjA3"
      },
      "source": [
        "## Join entre weather y states_names"
      ]
    },
    {
      "cell_type": "code",
      "execution_count": null,
      "metadata": {
        "id": "0om7l6FCsjA3",
        "outputId": "211afbd6-0309-4d72-8c8c-b98cc9469c38",
        "colab": {
          "base_uri": "https://localhost:8080/"
        }
      },
      "outputs": [
        {
          "output_type": "execute_result",
          "data": {
            "text/plain": [
              "Index(['file', 'Date', 'Max_TemperatureC', 'Mean_TemperatureC',\n",
              "       'Min_TemperatureC', 'Dew_PointC', 'MeanDew_PointC', 'Min_DewpointC',\n",
              "       'Max_Humidity', 'Mean_Humidity', 'Min_Humidity',\n",
              "       'Max_Sea_Level_PressurehPa', 'Mean_Sea_Level_PressurehPa',\n",
              "       'Min_Sea_Level_PressurehPa', 'Max_VisibilityKm', 'Mean_VisibilityKm',\n",
              "       'Min_VisibilitykM', 'Max_Wind_SpeedKm_h', 'Mean_Wind_SpeedKm_h',\n",
              "       'Max_Gust_SpeedKm_h', 'Precipitationmm', 'CloudCover', 'Events',\n",
              "       'WindDirDegrees'],\n",
              "      dtype='object')"
            ]
          },
          "metadata": {},
          "execution_count": 17
        }
      ],
      "source": [
        "weather.columns"
      ]
    },
    {
      "cell_type": "code",
      "execution_count": null,
      "metadata": {
        "id": "Em0UnTlzsjA3",
        "outputId": "fd046178-bdd2-41ae-efa7-3b46f33b53d5",
        "colab": {
          "base_uri": "https://localhost:8080/"
        }
      },
      "outputs": [
        {
          "output_type": "execute_result",
          "data": {
            "text/plain": [
              "NordrheinWestfalen       990\n",
              "Niedersachsen            990\n",
              "Bayern                   990\n",
              "Bremen                   990\n",
              "Brandenburg              990\n",
              "SachsenAnhalt            990\n",
              "Sachsen                  990\n",
              "Hessen                   990\n",
              "MecklenburgVorpommern    990\n",
              "RheinlandPfalz           990\n",
              "BadenWuerttemberg        990\n",
              "Berlin                   990\n",
              "Hamburg                  990\n",
              "SchleswigHolstein        990\n",
              "Thueringen               990\n",
              "Saarland                 990\n",
              "Name: file, dtype: int64"
            ]
          },
          "metadata": {},
          "execution_count": 18
        }
      ],
      "source": [
        "weather['file'].value_counts()"
      ]
    },
    {
      "cell_type": "code",
      "execution_count": null,
      "metadata": {
        "id": "XtwADq15sjA4",
        "outputId": "0f460839-4111-457c-b4d6-8c1cc0f05960",
        "colab": {
          "base_uri": "https://localhost:8080/",
          "height": 551
        }
      },
      "outputs": [
        {
          "output_type": "execute_result",
          "data": {
            "text/plain": [
              "                StateName  State\n",
              "0       BadenWuerttemberg     BW\n",
              "1                  Bayern     BY\n",
              "2                  Berlin     BE\n",
              "3             Brandenburg     BB\n",
              "4                  Bremen     HB\n",
              "5                 Hamburg     HH\n",
              "6                  Hessen     HE\n",
              "7   MecklenburgVorpommern     MV\n",
              "8           Niedersachsen  HB,NI\n",
              "9      NordrheinWestfalen     NW\n",
              "10         RheinlandPfalz     RP\n",
              "11               Saarland     SL\n",
              "12                Sachsen     SN\n",
              "13          SachsenAnhalt     ST\n",
              "14      SchleswigHolstein     SH\n",
              "15             Thueringen     TH"
            ],
            "text/html": [
              "\n",
              "  <div id=\"df-d5903c75-bfdc-428f-bb9d-39eae0dfbdc8\">\n",
              "    <div class=\"colab-df-container\">\n",
              "      <div>\n",
              "<style scoped>\n",
              "    .dataframe tbody tr th:only-of-type {\n",
              "        vertical-align: middle;\n",
              "    }\n",
              "\n",
              "    .dataframe tbody tr th {\n",
              "        vertical-align: top;\n",
              "    }\n",
              "\n",
              "    .dataframe thead th {\n",
              "        text-align: right;\n",
              "    }\n",
              "</style>\n",
              "<table border=\"1\" class=\"dataframe\">\n",
              "  <thead>\n",
              "    <tr style=\"text-align: right;\">\n",
              "      <th></th>\n",
              "      <th>StateName</th>\n",
              "      <th>State</th>\n",
              "    </tr>\n",
              "  </thead>\n",
              "  <tbody>\n",
              "    <tr>\n",
              "      <th>0</th>\n",
              "      <td>BadenWuerttemberg</td>\n",
              "      <td>BW</td>\n",
              "    </tr>\n",
              "    <tr>\n",
              "      <th>1</th>\n",
              "      <td>Bayern</td>\n",
              "      <td>BY</td>\n",
              "    </tr>\n",
              "    <tr>\n",
              "      <th>2</th>\n",
              "      <td>Berlin</td>\n",
              "      <td>BE</td>\n",
              "    </tr>\n",
              "    <tr>\n",
              "      <th>3</th>\n",
              "      <td>Brandenburg</td>\n",
              "      <td>BB</td>\n",
              "    </tr>\n",
              "    <tr>\n",
              "      <th>4</th>\n",
              "      <td>Bremen</td>\n",
              "      <td>HB</td>\n",
              "    </tr>\n",
              "    <tr>\n",
              "      <th>5</th>\n",
              "      <td>Hamburg</td>\n",
              "      <td>HH</td>\n",
              "    </tr>\n",
              "    <tr>\n",
              "      <th>6</th>\n",
              "      <td>Hessen</td>\n",
              "      <td>HE</td>\n",
              "    </tr>\n",
              "    <tr>\n",
              "      <th>7</th>\n",
              "      <td>MecklenburgVorpommern</td>\n",
              "      <td>MV</td>\n",
              "    </tr>\n",
              "    <tr>\n",
              "      <th>8</th>\n",
              "      <td>Niedersachsen</td>\n",
              "      <td>HB,NI</td>\n",
              "    </tr>\n",
              "    <tr>\n",
              "      <th>9</th>\n",
              "      <td>NordrheinWestfalen</td>\n",
              "      <td>NW</td>\n",
              "    </tr>\n",
              "    <tr>\n",
              "      <th>10</th>\n",
              "      <td>RheinlandPfalz</td>\n",
              "      <td>RP</td>\n",
              "    </tr>\n",
              "    <tr>\n",
              "      <th>11</th>\n",
              "      <td>Saarland</td>\n",
              "      <td>SL</td>\n",
              "    </tr>\n",
              "    <tr>\n",
              "      <th>12</th>\n",
              "      <td>Sachsen</td>\n",
              "      <td>SN</td>\n",
              "    </tr>\n",
              "    <tr>\n",
              "      <th>13</th>\n",
              "      <td>SachsenAnhalt</td>\n",
              "      <td>ST</td>\n",
              "    </tr>\n",
              "    <tr>\n",
              "      <th>14</th>\n",
              "      <td>SchleswigHolstein</td>\n",
              "      <td>SH</td>\n",
              "    </tr>\n",
              "    <tr>\n",
              "      <th>15</th>\n",
              "      <td>Thueringen</td>\n",
              "      <td>TH</td>\n",
              "    </tr>\n",
              "  </tbody>\n",
              "</table>\n",
              "</div>\n",
              "      <button class=\"colab-df-convert\" onclick=\"convertToInteractive('df-d5903c75-bfdc-428f-bb9d-39eae0dfbdc8')\"\n",
              "              title=\"Convert this dataframe to an interactive table.\"\n",
              "              style=\"display:none;\">\n",
              "        \n",
              "  <svg xmlns=\"http://www.w3.org/2000/svg\" height=\"24px\"viewBox=\"0 0 24 24\"\n",
              "       width=\"24px\">\n",
              "    <path d=\"M0 0h24v24H0V0z\" fill=\"none\"/>\n",
              "    <path d=\"M18.56 5.44l.94 2.06.94-2.06 2.06-.94-2.06-.94-.94-2.06-.94 2.06-2.06.94zm-11 1L8.5 8.5l.94-2.06 2.06-.94-2.06-.94L8.5 2.5l-.94 2.06-2.06.94zm10 10l.94 2.06.94-2.06 2.06-.94-2.06-.94-.94-2.06-.94 2.06-2.06.94z\"/><path d=\"M17.41 7.96l-1.37-1.37c-.4-.4-.92-.59-1.43-.59-.52 0-1.04.2-1.43.59L10.3 9.45l-7.72 7.72c-.78.78-.78 2.05 0 2.83L4 21.41c.39.39.9.59 1.41.59.51 0 1.02-.2 1.41-.59l7.78-7.78 2.81-2.81c.8-.78.8-2.07 0-2.86zM5.41 20L4 18.59l7.72-7.72 1.47 1.35L5.41 20z\"/>\n",
              "  </svg>\n",
              "      </button>\n",
              "      \n",
              "  <style>\n",
              "    .colab-df-container {\n",
              "      display:flex;\n",
              "      flex-wrap:wrap;\n",
              "      gap: 12px;\n",
              "    }\n",
              "\n",
              "    .colab-df-convert {\n",
              "      background-color: #E8F0FE;\n",
              "      border: none;\n",
              "      border-radius: 50%;\n",
              "      cursor: pointer;\n",
              "      display: none;\n",
              "      fill: #1967D2;\n",
              "      height: 32px;\n",
              "      padding: 0 0 0 0;\n",
              "      width: 32px;\n",
              "    }\n",
              "\n",
              "    .colab-df-convert:hover {\n",
              "      background-color: #E2EBFA;\n",
              "      box-shadow: 0px 1px 2px rgba(60, 64, 67, 0.3), 0px 1px 3px 1px rgba(60, 64, 67, 0.15);\n",
              "      fill: #174EA6;\n",
              "    }\n",
              "\n",
              "    [theme=dark] .colab-df-convert {\n",
              "      background-color: #3B4455;\n",
              "      fill: #D2E3FC;\n",
              "    }\n",
              "\n",
              "    [theme=dark] .colab-df-convert:hover {\n",
              "      background-color: #434B5C;\n",
              "      box-shadow: 0px 1px 3px 1px rgba(0, 0, 0, 0.15);\n",
              "      filter: drop-shadow(0px 1px 2px rgba(0, 0, 0, 0.3));\n",
              "      fill: #FFFFFF;\n",
              "    }\n",
              "  </style>\n",
              "\n",
              "      <script>\n",
              "        const buttonEl =\n",
              "          document.querySelector('#df-d5903c75-bfdc-428f-bb9d-39eae0dfbdc8 button.colab-df-convert');\n",
              "        buttonEl.style.display =\n",
              "          google.colab.kernel.accessAllowed ? 'block' : 'none';\n",
              "\n",
              "        async function convertToInteractive(key) {\n",
              "          const element = document.querySelector('#df-d5903c75-bfdc-428f-bb9d-39eae0dfbdc8');\n",
              "          const dataTable =\n",
              "            await google.colab.kernel.invokeFunction('convertToInteractive',\n",
              "                                                     [key], {});\n",
              "          if (!dataTable) return;\n",
              "\n",
              "          const docLinkHtml = 'Like what you see? Visit the ' +\n",
              "            '<a target=\"_blank\" href=https://colab.research.google.com/notebooks/data_table.ipynb>data table notebook</a>'\n",
              "            + ' to learn more about interactive tables.';\n",
              "          element.innerHTML = '';\n",
              "          dataTable['output_type'] = 'display_data';\n",
              "          await google.colab.output.renderOutput(dataTable, element);\n",
              "          const docLink = document.createElement('div');\n",
              "          docLink.innerHTML = docLinkHtml;\n",
              "          element.appendChild(docLink);\n",
              "        }\n",
              "      </script>\n",
              "    </div>\n",
              "  </div>\n",
              "  "
            ]
          },
          "metadata": {},
          "execution_count": 19
        }
      ],
      "source": [
        "state_names"
      ]
    },
    {
      "cell_type": "code",
      "execution_count": null,
      "metadata": {
        "id": "jN9zmcI9sjA4"
      },
      "outputs": [],
      "source": [
        "weather = join_df(weather, state_names, \"file\", \"StateName\")"
      ]
    },
    {
      "cell_type": "code",
      "execution_count": null,
      "metadata": {
        "id": "BqV4rhLisjA5",
        "outputId": "bc611555-f4e0-475d-d66f-e853a030e566",
        "colab": {
          "base_uri": "https://localhost:8080/"
        }
      },
      "outputs": [
        {
          "output_type": "execute_result",
          "data": {
            "text/plain": [
              "Index(['file', 'Date', 'Max_TemperatureC', 'Mean_TemperatureC',\n",
              "       'Min_TemperatureC', 'Dew_PointC', 'MeanDew_PointC', 'Min_DewpointC',\n",
              "       'Max_Humidity', 'Mean_Humidity', 'Min_Humidity',\n",
              "       'Max_Sea_Level_PressurehPa', 'Mean_Sea_Level_PressurehPa',\n",
              "       'Min_Sea_Level_PressurehPa', 'Max_VisibilityKm', 'Mean_VisibilityKm',\n",
              "       'Min_VisibilitykM', 'Max_Wind_SpeedKm_h', 'Mean_Wind_SpeedKm_h',\n",
              "       'Max_Gust_SpeedKm_h', 'Precipitationmm', 'CloudCover', 'Events',\n",
              "       'WindDirDegrees', 'StateName', 'State'],\n",
              "      dtype='object')"
            ]
          },
          "metadata": {},
          "execution_count": 21
        }
      ],
      "source": [
        "weather.columns"
      ]
    },
    {
      "cell_type": "markdown",
      "metadata": {
        "id": "ZCw7ZGAnsjA5"
      },
      "source": [
        "Notar como se agregaron las columnas"
      ]
    },
    {
      "cell_type": "markdown",
      "metadata": {
        "id": "CtE7N4XXsjA5"
      },
      "source": [
        "## Preprocess googletrend"
      ]
    },
    {
      "cell_type": "code",
      "execution_count": null,
      "metadata": {
        "id": "YJRpgi0dsjA6",
        "outputId": "b5d11545-2041-4c3b-f90e-f294221f4847",
        "colab": {
          "base_uri": "https://localhost:8080/",
          "height": 206
        }
      },
      "outputs": [
        {
          "output_type": "execute_result",
          "data": {
            "text/plain": [
              "             file                     week  trend\n",
              "0  Rossmann_DE_SN  2012-12-02 - 2012-12-08     96\n",
              "1  Rossmann_DE_SN  2012-12-09 - 2012-12-15     95\n",
              "2  Rossmann_DE_SN  2012-12-16 - 2012-12-22     91\n",
              "3  Rossmann_DE_SN  2012-12-23 - 2012-12-29     48\n",
              "4  Rossmann_DE_SN  2012-12-30 - 2013-01-05     67"
            ],
            "text/html": [
              "\n",
              "  <div id=\"df-c453fea1-0509-467b-bf94-2c3326921089\">\n",
              "    <div class=\"colab-df-container\">\n",
              "      <div>\n",
              "<style scoped>\n",
              "    .dataframe tbody tr th:only-of-type {\n",
              "        vertical-align: middle;\n",
              "    }\n",
              "\n",
              "    .dataframe tbody tr th {\n",
              "        vertical-align: top;\n",
              "    }\n",
              "\n",
              "    .dataframe thead th {\n",
              "        text-align: right;\n",
              "    }\n",
              "</style>\n",
              "<table border=\"1\" class=\"dataframe\">\n",
              "  <thead>\n",
              "    <tr style=\"text-align: right;\">\n",
              "      <th></th>\n",
              "      <th>file</th>\n",
              "      <th>week</th>\n",
              "      <th>trend</th>\n",
              "    </tr>\n",
              "  </thead>\n",
              "  <tbody>\n",
              "    <tr>\n",
              "      <th>0</th>\n",
              "      <td>Rossmann_DE_SN</td>\n",
              "      <td>2012-12-02 - 2012-12-08</td>\n",
              "      <td>96</td>\n",
              "    </tr>\n",
              "    <tr>\n",
              "      <th>1</th>\n",
              "      <td>Rossmann_DE_SN</td>\n",
              "      <td>2012-12-09 - 2012-12-15</td>\n",
              "      <td>95</td>\n",
              "    </tr>\n",
              "    <tr>\n",
              "      <th>2</th>\n",
              "      <td>Rossmann_DE_SN</td>\n",
              "      <td>2012-12-16 - 2012-12-22</td>\n",
              "      <td>91</td>\n",
              "    </tr>\n",
              "    <tr>\n",
              "      <th>3</th>\n",
              "      <td>Rossmann_DE_SN</td>\n",
              "      <td>2012-12-23 - 2012-12-29</td>\n",
              "      <td>48</td>\n",
              "    </tr>\n",
              "    <tr>\n",
              "      <th>4</th>\n",
              "      <td>Rossmann_DE_SN</td>\n",
              "      <td>2012-12-30 - 2013-01-05</td>\n",
              "      <td>67</td>\n",
              "    </tr>\n",
              "  </tbody>\n",
              "</table>\n",
              "</div>\n",
              "      <button class=\"colab-df-convert\" onclick=\"convertToInteractive('df-c453fea1-0509-467b-bf94-2c3326921089')\"\n",
              "              title=\"Convert this dataframe to an interactive table.\"\n",
              "              style=\"display:none;\">\n",
              "        \n",
              "  <svg xmlns=\"http://www.w3.org/2000/svg\" height=\"24px\"viewBox=\"0 0 24 24\"\n",
              "       width=\"24px\">\n",
              "    <path d=\"M0 0h24v24H0V0z\" fill=\"none\"/>\n",
              "    <path d=\"M18.56 5.44l.94 2.06.94-2.06 2.06-.94-2.06-.94-.94-2.06-.94 2.06-2.06.94zm-11 1L8.5 8.5l.94-2.06 2.06-.94-2.06-.94L8.5 2.5l-.94 2.06-2.06.94zm10 10l.94 2.06.94-2.06 2.06-.94-2.06-.94-.94-2.06-.94 2.06-2.06.94z\"/><path d=\"M17.41 7.96l-1.37-1.37c-.4-.4-.92-.59-1.43-.59-.52 0-1.04.2-1.43.59L10.3 9.45l-7.72 7.72c-.78.78-.78 2.05 0 2.83L4 21.41c.39.39.9.59 1.41.59.51 0 1.02-.2 1.41-.59l7.78-7.78 2.81-2.81c.8-.78.8-2.07 0-2.86zM5.41 20L4 18.59l7.72-7.72 1.47 1.35L5.41 20z\"/>\n",
              "  </svg>\n",
              "      </button>\n",
              "      \n",
              "  <style>\n",
              "    .colab-df-container {\n",
              "      display:flex;\n",
              "      flex-wrap:wrap;\n",
              "      gap: 12px;\n",
              "    }\n",
              "\n",
              "    .colab-df-convert {\n",
              "      background-color: #E8F0FE;\n",
              "      border: none;\n",
              "      border-radius: 50%;\n",
              "      cursor: pointer;\n",
              "      display: none;\n",
              "      fill: #1967D2;\n",
              "      height: 32px;\n",
              "      padding: 0 0 0 0;\n",
              "      width: 32px;\n",
              "    }\n",
              "\n",
              "    .colab-df-convert:hover {\n",
              "      background-color: #E2EBFA;\n",
              "      box-shadow: 0px 1px 2px rgba(60, 64, 67, 0.3), 0px 1px 3px 1px rgba(60, 64, 67, 0.15);\n",
              "      fill: #174EA6;\n",
              "    }\n",
              "\n",
              "    [theme=dark] .colab-df-convert {\n",
              "      background-color: #3B4455;\n",
              "      fill: #D2E3FC;\n",
              "    }\n",
              "\n",
              "    [theme=dark] .colab-df-convert:hover {\n",
              "      background-color: #434B5C;\n",
              "      box-shadow: 0px 1px 3px 1px rgba(0, 0, 0, 0.15);\n",
              "      filter: drop-shadow(0px 1px 2px rgba(0, 0, 0, 0.3));\n",
              "      fill: #FFFFFF;\n",
              "    }\n",
              "  </style>\n",
              "\n",
              "      <script>\n",
              "        const buttonEl =\n",
              "          document.querySelector('#df-c453fea1-0509-467b-bf94-2c3326921089 button.colab-df-convert');\n",
              "        buttonEl.style.display =\n",
              "          google.colab.kernel.accessAllowed ? 'block' : 'none';\n",
              "\n",
              "        async function convertToInteractive(key) {\n",
              "          const element = document.querySelector('#df-c453fea1-0509-467b-bf94-2c3326921089');\n",
              "          const dataTable =\n",
              "            await google.colab.kernel.invokeFunction('convertToInteractive',\n",
              "                                                     [key], {});\n",
              "          if (!dataTable) return;\n",
              "\n",
              "          const docLinkHtml = 'Like what you see? Visit the ' +\n",
              "            '<a target=\"_blank\" href=https://colab.research.google.com/notebooks/data_table.ipynb>data table notebook</a>'\n",
              "            + ' to learn more about interactive tables.';\n",
              "          element.innerHTML = '';\n",
              "          dataTable['output_type'] = 'display_data';\n",
              "          await google.colab.output.renderOutput(dataTable, element);\n",
              "          const docLink = document.createElement('div');\n",
              "          docLink.innerHTML = docLinkHtml;\n",
              "          element.appendChild(docLink);\n",
              "        }\n",
              "      </script>\n",
              "    </div>\n",
              "  </div>\n",
              "  "
            ]
          },
          "metadata": {},
          "execution_count": 22
        }
      ],
      "source": [
        "googletrend.head()"
      ]
    },
    {
      "cell_type": "code",
      "execution_count": null,
      "metadata": {
        "id": "bTE-e56osjA6"
      },
      "outputs": [],
      "source": [
        "# Armo columan date con el primer día de la semana\n",
        "googletrend['Date'] = googletrend.week.str.split(' - ', expand=True)[0]"
      ]
    },
    {
      "cell_type": "code",
      "execution_count": null,
      "metadata": {
        "id": "Fw_spoNCsjA6",
        "outputId": "e3f02238-9f39-4495-d916-e4b3cc9933bd",
        "colab": {
          "base_uri": "https://localhost:8080/",
          "height": 206
        }
      },
      "outputs": [
        {
          "output_type": "execute_result",
          "data": {
            "text/plain": [
              "             file                     week  trend        Date\n",
              "0  Rossmann_DE_SN  2012-12-02 - 2012-12-08     96  2012-12-02\n",
              "1  Rossmann_DE_SN  2012-12-09 - 2012-12-15     95  2012-12-09\n",
              "2  Rossmann_DE_SN  2012-12-16 - 2012-12-22     91  2012-12-16\n",
              "3  Rossmann_DE_SN  2012-12-23 - 2012-12-29     48  2012-12-23\n",
              "4  Rossmann_DE_SN  2012-12-30 - 2013-01-05     67  2012-12-30"
            ],
            "text/html": [
              "\n",
              "  <div id=\"df-a8ef21ec-a51a-408f-b921-decaf4e08f16\">\n",
              "    <div class=\"colab-df-container\">\n",
              "      <div>\n",
              "<style scoped>\n",
              "    .dataframe tbody tr th:only-of-type {\n",
              "        vertical-align: middle;\n",
              "    }\n",
              "\n",
              "    .dataframe tbody tr th {\n",
              "        vertical-align: top;\n",
              "    }\n",
              "\n",
              "    .dataframe thead th {\n",
              "        text-align: right;\n",
              "    }\n",
              "</style>\n",
              "<table border=\"1\" class=\"dataframe\">\n",
              "  <thead>\n",
              "    <tr style=\"text-align: right;\">\n",
              "      <th></th>\n",
              "      <th>file</th>\n",
              "      <th>week</th>\n",
              "      <th>trend</th>\n",
              "      <th>Date</th>\n",
              "    </tr>\n",
              "  </thead>\n",
              "  <tbody>\n",
              "    <tr>\n",
              "      <th>0</th>\n",
              "      <td>Rossmann_DE_SN</td>\n",
              "      <td>2012-12-02 - 2012-12-08</td>\n",
              "      <td>96</td>\n",
              "      <td>2012-12-02</td>\n",
              "    </tr>\n",
              "    <tr>\n",
              "      <th>1</th>\n",
              "      <td>Rossmann_DE_SN</td>\n",
              "      <td>2012-12-09 - 2012-12-15</td>\n",
              "      <td>95</td>\n",
              "      <td>2012-12-09</td>\n",
              "    </tr>\n",
              "    <tr>\n",
              "      <th>2</th>\n",
              "      <td>Rossmann_DE_SN</td>\n",
              "      <td>2012-12-16 - 2012-12-22</td>\n",
              "      <td>91</td>\n",
              "      <td>2012-12-16</td>\n",
              "    </tr>\n",
              "    <tr>\n",
              "      <th>3</th>\n",
              "      <td>Rossmann_DE_SN</td>\n",
              "      <td>2012-12-23 - 2012-12-29</td>\n",
              "      <td>48</td>\n",
              "      <td>2012-12-23</td>\n",
              "    </tr>\n",
              "    <tr>\n",
              "      <th>4</th>\n",
              "      <td>Rossmann_DE_SN</td>\n",
              "      <td>2012-12-30 - 2013-01-05</td>\n",
              "      <td>67</td>\n",
              "      <td>2012-12-30</td>\n",
              "    </tr>\n",
              "  </tbody>\n",
              "</table>\n",
              "</div>\n",
              "      <button class=\"colab-df-convert\" onclick=\"convertToInteractive('df-a8ef21ec-a51a-408f-b921-decaf4e08f16')\"\n",
              "              title=\"Convert this dataframe to an interactive table.\"\n",
              "              style=\"display:none;\">\n",
              "        \n",
              "  <svg xmlns=\"http://www.w3.org/2000/svg\" height=\"24px\"viewBox=\"0 0 24 24\"\n",
              "       width=\"24px\">\n",
              "    <path d=\"M0 0h24v24H0V0z\" fill=\"none\"/>\n",
              "    <path d=\"M18.56 5.44l.94 2.06.94-2.06 2.06-.94-2.06-.94-.94-2.06-.94 2.06-2.06.94zm-11 1L8.5 8.5l.94-2.06 2.06-.94-2.06-.94L8.5 2.5l-.94 2.06-2.06.94zm10 10l.94 2.06.94-2.06 2.06-.94-2.06-.94-.94-2.06-.94 2.06-2.06.94z\"/><path d=\"M17.41 7.96l-1.37-1.37c-.4-.4-.92-.59-1.43-.59-.52 0-1.04.2-1.43.59L10.3 9.45l-7.72 7.72c-.78.78-.78 2.05 0 2.83L4 21.41c.39.39.9.59 1.41.59.51 0 1.02-.2 1.41-.59l7.78-7.78 2.81-2.81c.8-.78.8-2.07 0-2.86zM5.41 20L4 18.59l7.72-7.72 1.47 1.35L5.41 20z\"/>\n",
              "  </svg>\n",
              "      </button>\n",
              "      \n",
              "  <style>\n",
              "    .colab-df-container {\n",
              "      display:flex;\n",
              "      flex-wrap:wrap;\n",
              "      gap: 12px;\n",
              "    }\n",
              "\n",
              "    .colab-df-convert {\n",
              "      background-color: #E8F0FE;\n",
              "      border: none;\n",
              "      border-radius: 50%;\n",
              "      cursor: pointer;\n",
              "      display: none;\n",
              "      fill: #1967D2;\n",
              "      height: 32px;\n",
              "      padding: 0 0 0 0;\n",
              "      width: 32px;\n",
              "    }\n",
              "\n",
              "    .colab-df-convert:hover {\n",
              "      background-color: #E2EBFA;\n",
              "      box-shadow: 0px 1px 2px rgba(60, 64, 67, 0.3), 0px 1px 3px 1px rgba(60, 64, 67, 0.15);\n",
              "      fill: #174EA6;\n",
              "    }\n",
              "\n",
              "    [theme=dark] .colab-df-convert {\n",
              "      background-color: #3B4455;\n",
              "      fill: #D2E3FC;\n",
              "    }\n",
              "\n",
              "    [theme=dark] .colab-df-convert:hover {\n",
              "      background-color: #434B5C;\n",
              "      box-shadow: 0px 1px 3px 1px rgba(0, 0, 0, 0.15);\n",
              "      filter: drop-shadow(0px 1px 2px rgba(0, 0, 0, 0.3));\n",
              "      fill: #FFFFFF;\n",
              "    }\n",
              "  </style>\n",
              "\n",
              "      <script>\n",
              "        const buttonEl =\n",
              "          document.querySelector('#df-a8ef21ec-a51a-408f-b921-decaf4e08f16 button.colab-df-convert');\n",
              "        buttonEl.style.display =\n",
              "          google.colab.kernel.accessAllowed ? 'block' : 'none';\n",
              "\n",
              "        async function convertToInteractive(key) {\n",
              "          const element = document.querySelector('#df-a8ef21ec-a51a-408f-b921-decaf4e08f16');\n",
              "          const dataTable =\n",
              "            await google.colab.kernel.invokeFunction('convertToInteractive',\n",
              "                                                     [key], {});\n",
              "          if (!dataTable) return;\n",
              "\n",
              "          const docLinkHtml = 'Like what you see? Visit the ' +\n",
              "            '<a target=\"_blank\" href=https://colab.research.google.com/notebooks/data_table.ipynb>data table notebook</a>'\n",
              "            + ' to learn more about interactive tables.';\n",
              "          element.innerHTML = '';\n",
              "          dataTable['output_type'] = 'display_data';\n",
              "          await google.colab.output.renderOutput(dataTable, element);\n",
              "          const docLink = document.createElement('div');\n",
              "          docLink.innerHTML = docLinkHtml;\n",
              "          element.appendChild(docLink);\n",
              "        }\n",
              "      </script>\n",
              "    </div>\n",
              "  </div>\n",
              "  "
            ]
          },
          "metadata": {},
          "execution_count": 24
        }
      ],
      "source": [
        "googletrend.head()"
      ]
    },
    {
      "cell_type": "code",
      "execution_count": null,
      "metadata": {
        "id": "I6l2WXxJsjA6"
      },
      "outputs": [],
      "source": [
        "# Armo columna de State con el nomnre del estado\n",
        "googletrend['State'] = googletrend.file.str.split('_', expand=True)[2]"
      ]
    },
    {
      "cell_type": "code",
      "execution_count": null,
      "metadata": {
        "id": "zD8VyTPLsjA7",
        "outputId": "f95e7faf-1a7f-4ad5-9e18-99d97a33abb3",
        "colab": {
          "base_uri": "https://localhost:8080/",
          "height": 206
        }
      },
      "outputs": [
        {
          "output_type": "execute_result",
          "data": {
            "text/plain": [
              "             file                     week  trend        Date State\n",
              "0  Rossmann_DE_SN  2012-12-02 - 2012-12-08     96  2012-12-02    SN\n",
              "1  Rossmann_DE_SN  2012-12-09 - 2012-12-15     95  2012-12-09    SN\n",
              "2  Rossmann_DE_SN  2012-12-16 - 2012-12-22     91  2012-12-16    SN\n",
              "3  Rossmann_DE_SN  2012-12-23 - 2012-12-29     48  2012-12-23    SN\n",
              "4  Rossmann_DE_SN  2012-12-30 - 2013-01-05     67  2012-12-30    SN"
            ],
            "text/html": [
              "\n",
              "  <div id=\"df-047fc8c8-ced6-4521-96dd-20722f394142\">\n",
              "    <div class=\"colab-df-container\">\n",
              "      <div>\n",
              "<style scoped>\n",
              "    .dataframe tbody tr th:only-of-type {\n",
              "        vertical-align: middle;\n",
              "    }\n",
              "\n",
              "    .dataframe tbody tr th {\n",
              "        vertical-align: top;\n",
              "    }\n",
              "\n",
              "    .dataframe thead th {\n",
              "        text-align: right;\n",
              "    }\n",
              "</style>\n",
              "<table border=\"1\" class=\"dataframe\">\n",
              "  <thead>\n",
              "    <tr style=\"text-align: right;\">\n",
              "      <th></th>\n",
              "      <th>file</th>\n",
              "      <th>week</th>\n",
              "      <th>trend</th>\n",
              "      <th>Date</th>\n",
              "      <th>State</th>\n",
              "    </tr>\n",
              "  </thead>\n",
              "  <tbody>\n",
              "    <tr>\n",
              "      <th>0</th>\n",
              "      <td>Rossmann_DE_SN</td>\n",
              "      <td>2012-12-02 - 2012-12-08</td>\n",
              "      <td>96</td>\n",
              "      <td>2012-12-02</td>\n",
              "      <td>SN</td>\n",
              "    </tr>\n",
              "    <tr>\n",
              "      <th>1</th>\n",
              "      <td>Rossmann_DE_SN</td>\n",
              "      <td>2012-12-09 - 2012-12-15</td>\n",
              "      <td>95</td>\n",
              "      <td>2012-12-09</td>\n",
              "      <td>SN</td>\n",
              "    </tr>\n",
              "    <tr>\n",
              "      <th>2</th>\n",
              "      <td>Rossmann_DE_SN</td>\n",
              "      <td>2012-12-16 - 2012-12-22</td>\n",
              "      <td>91</td>\n",
              "      <td>2012-12-16</td>\n",
              "      <td>SN</td>\n",
              "    </tr>\n",
              "    <tr>\n",
              "      <th>3</th>\n",
              "      <td>Rossmann_DE_SN</td>\n",
              "      <td>2012-12-23 - 2012-12-29</td>\n",
              "      <td>48</td>\n",
              "      <td>2012-12-23</td>\n",
              "      <td>SN</td>\n",
              "    </tr>\n",
              "    <tr>\n",
              "      <th>4</th>\n",
              "      <td>Rossmann_DE_SN</td>\n",
              "      <td>2012-12-30 - 2013-01-05</td>\n",
              "      <td>67</td>\n",
              "      <td>2012-12-30</td>\n",
              "      <td>SN</td>\n",
              "    </tr>\n",
              "  </tbody>\n",
              "</table>\n",
              "</div>\n",
              "      <button class=\"colab-df-convert\" onclick=\"convertToInteractive('df-047fc8c8-ced6-4521-96dd-20722f394142')\"\n",
              "              title=\"Convert this dataframe to an interactive table.\"\n",
              "              style=\"display:none;\">\n",
              "        \n",
              "  <svg xmlns=\"http://www.w3.org/2000/svg\" height=\"24px\"viewBox=\"0 0 24 24\"\n",
              "       width=\"24px\">\n",
              "    <path d=\"M0 0h24v24H0V0z\" fill=\"none\"/>\n",
              "    <path d=\"M18.56 5.44l.94 2.06.94-2.06 2.06-.94-2.06-.94-.94-2.06-.94 2.06-2.06.94zm-11 1L8.5 8.5l.94-2.06 2.06-.94-2.06-.94L8.5 2.5l-.94 2.06-2.06.94zm10 10l.94 2.06.94-2.06 2.06-.94-2.06-.94-.94-2.06-.94 2.06-2.06.94z\"/><path d=\"M17.41 7.96l-1.37-1.37c-.4-.4-.92-.59-1.43-.59-.52 0-1.04.2-1.43.59L10.3 9.45l-7.72 7.72c-.78.78-.78 2.05 0 2.83L4 21.41c.39.39.9.59 1.41.59.51 0 1.02-.2 1.41-.59l7.78-7.78 2.81-2.81c.8-.78.8-2.07 0-2.86zM5.41 20L4 18.59l7.72-7.72 1.47 1.35L5.41 20z\"/>\n",
              "  </svg>\n",
              "      </button>\n",
              "      \n",
              "  <style>\n",
              "    .colab-df-container {\n",
              "      display:flex;\n",
              "      flex-wrap:wrap;\n",
              "      gap: 12px;\n",
              "    }\n",
              "\n",
              "    .colab-df-convert {\n",
              "      background-color: #E8F0FE;\n",
              "      border: none;\n",
              "      border-radius: 50%;\n",
              "      cursor: pointer;\n",
              "      display: none;\n",
              "      fill: #1967D2;\n",
              "      height: 32px;\n",
              "      padding: 0 0 0 0;\n",
              "      width: 32px;\n",
              "    }\n",
              "\n",
              "    .colab-df-convert:hover {\n",
              "      background-color: #E2EBFA;\n",
              "      box-shadow: 0px 1px 2px rgba(60, 64, 67, 0.3), 0px 1px 3px 1px rgba(60, 64, 67, 0.15);\n",
              "      fill: #174EA6;\n",
              "    }\n",
              "\n",
              "    [theme=dark] .colab-df-convert {\n",
              "      background-color: #3B4455;\n",
              "      fill: #D2E3FC;\n",
              "    }\n",
              "\n",
              "    [theme=dark] .colab-df-convert:hover {\n",
              "      background-color: #434B5C;\n",
              "      box-shadow: 0px 1px 3px 1px rgba(0, 0, 0, 0.15);\n",
              "      filter: drop-shadow(0px 1px 2px rgba(0, 0, 0, 0.3));\n",
              "      fill: #FFFFFF;\n",
              "    }\n",
              "  </style>\n",
              "\n",
              "      <script>\n",
              "        const buttonEl =\n",
              "          document.querySelector('#df-047fc8c8-ced6-4521-96dd-20722f394142 button.colab-df-convert');\n",
              "        buttonEl.style.display =\n",
              "          google.colab.kernel.accessAllowed ? 'block' : 'none';\n",
              "\n",
              "        async function convertToInteractive(key) {\n",
              "          const element = document.querySelector('#df-047fc8c8-ced6-4521-96dd-20722f394142');\n",
              "          const dataTable =\n",
              "            await google.colab.kernel.invokeFunction('convertToInteractive',\n",
              "                                                     [key], {});\n",
              "          if (!dataTable) return;\n",
              "\n",
              "          const docLinkHtml = 'Like what you see? Visit the ' +\n",
              "            '<a target=\"_blank\" href=https://colab.research.google.com/notebooks/data_table.ipynb>data table notebook</a>'\n",
              "            + ' to learn more about interactive tables.';\n",
              "          element.innerHTML = '';\n",
              "          dataTable['output_type'] = 'display_data';\n",
              "          await google.colab.output.renderOutput(dataTable, element);\n",
              "          const docLink = document.createElement('div');\n",
              "          docLink.innerHTML = docLinkHtml;\n",
              "          element.appendChild(docLink);\n",
              "        }\n",
              "      </script>\n",
              "    </div>\n",
              "  </div>\n",
              "  "
            ]
          },
          "metadata": {},
          "execution_count": 26
        }
      ],
      "source": [
        "googletrend.head()"
      ]
    },
    {
      "cell_type": "code",
      "execution_count": null,
      "metadata": {
        "id": "F-s0BjVrsjA7",
        "outputId": "cbe8c99e-3591-4310-deaf-9817f5acfd9e",
        "colab": {
          "base_uri": "https://localhost:8080/"
        }
      },
      "outputs": [
        {
          "output_type": "execute_result",
          "data": {
            "text/plain": [
              "SN    148\n",
              "BY    148\n",
              "TH    148\n",
              "NW    148\n",
              "BE    148\n",
              "RP    148\n",
              "BW    148\n",
              "NI    148\n",
              "SH    148\n",
              "HE    148\n",
              "ST    148\n",
              "HH    148\n",
              "SL    148\n",
              "Name: State, dtype: int64"
            ]
          },
          "metadata": {},
          "execution_count": 27
        }
      ],
      "source": [
        "googletrend['State'].value_counts()"
      ]
    },
    {
      "cell_type": "code",
      "execution_count": null,
      "metadata": {
        "id": "Urkwz0KGsjA7",
        "outputId": "e01c52d1-3a65-40e0-e24c-b9ae5d43de6b",
        "colab": {
          "base_uri": "https://localhost:8080/"
        }
      },
      "outputs": [
        {
          "output_type": "execute_result",
          "data": {
            "text/plain": [
              "0        BW\n",
              "1        BY\n",
              "2        BE\n",
              "3        BB\n",
              "4        HB\n",
              "5        HH\n",
              "6        HE\n",
              "7        MV\n",
              "8     HB,NI\n",
              "9        NW\n",
              "10       RP\n",
              "11       SL\n",
              "12       SN\n",
              "13       ST\n",
              "14       SH\n",
              "15       TH\n",
              "Name: State, dtype: object"
            ]
          },
          "metadata": {},
          "execution_count": 28
        }
      ],
      "source": [
        "# Notar que un estado tiene un acrónimo diferente\n",
        "state_names['State']"
      ]
    },
    {
      "cell_type": "code",
      "execution_count": null,
      "metadata": {
        "id": "BPUSB48ysjA7"
      },
      "outputs": [],
      "source": [
        "# Lo corrijo\n",
        "googletrend.loc[googletrend.State=='NI', \"State\"] = 'HB,NI'"
      ]
    },
    {
      "cell_type": "markdown",
      "metadata": {
        "id": "_clirOVUsjA8"
      },
      "source": [
        "# Transformo fecha"
      ]
    },
    {
      "cell_type": "code",
      "execution_count": null,
      "metadata": {
        "id": "d7NrkzpFsjA8",
        "colab": {
          "base_uri": "https://localhost:8080/"
        },
        "outputId": "2f6d3839-16c3-4884-b349-bd85a9f086a0"
      },
      "outputs": [
        {
          "output_type": "stream",
          "name": "stderr",
          "text": [
            "/usr/local/lib/python3.7/dist-packages/ipykernel_launcher.py:5: FutureWarning: Series.dt.weekofyear and Series.dt.week have been deprecated.  Please use Series.dt.isocalendar().week instead.\n",
            "  \"\"\"\n"
          ]
        }
      ],
      "source": [
        "def add_datepart(df):\n",
        "    df.Date = pd.to_datetime(df.Date)\n",
        "    df[\"Year\"] = df.Date.dt.year\n",
        "    df[\"Month\"] = df.Date.dt.month\n",
        "    df[\"Week\"] = df.Date.dt.week\n",
        "    df[\"Day\"] = df.Date.dt.day\n",
        "    \n",
        "add_datepart(weather)\n",
        "add_datepart(googletrend)\n",
        "add_datepart(train)\n",
        "add_datepart(test)"
      ]
    },
    {
      "cell_type": "code",
      "execution_count": null,
      "metadata": {
        "id": "7sBPu61psjA8"
      },
      "outputs": [],
      "source": [
        "# Trends generales de alemania tienen el state en None\n",
        "trend_de = googletrend[googletrend.file == 'Rossmann_DE']"
      ]
    },
    {
      "cell_type": "code",
      "execution_count": null,
      "metadata": {
        "id": "5Dd_wI8ysjA8",
        "outputId": "9249fef9-1dfe-46e9-9e96-e9cee21a1668",
        "colab": {
          "base_uri": "https://localhost:8080/",
          "height": 424
        }
      },
      "outputs": [
        {
          "output_type": "execute_result",
          "data": {
            "text/plain": [
              "          Date  Year  Month  Week  Day\n",
              "148 2012-12-02  2012     12    48    2\n",
              "149 2012-12-09  2012     12    49    9\n",
              "150 2012-12-16  2012     12    50   16\n",
              "151 2012-12-23  2012     12    51   23\n",
              "152 2012-12-30  2012     12    52   30\n",
              "..         ...   ...    ...   ...  ...\n",
              "291 2015-08-30  2015      8    35   30\n",
              "292 2015-09-06  2015      9    36    6\n",
              "293 2015-09-13  2015      9    37   13\n",
              "294 2015-09-20  2015      9    38   20\n",
              "295 2015-09-27  2015      9    39   27\n",
              "\n",
              "[148 rows x 5 columns]"
            ],
            "text/html": [
              "\n",
              "  <div id=\"df-47cfc416-ff2a-4cd9-a3b4-62a4e606de37\">\n",
              "    <div class=\"colab-df-container\">\n",
              "      <div>\n",
              "<style scoped>\n",
              "    .dataframe tbody tr th:only-of-type {\n",
              "        vertical-align: middle;\n",
              "    }\n",
              "\n",
              "    .dataframe tbody tr th {\n",
              "        vertical-align: top;\n",
              "    }\n",
              "\n",
              "    .dataframe thead th {\n",
              "        text-align: right;\n",
              "    }\n",
              "</style>\n",
              "<table border=\"1\" class=\"dataframe\">\n",
              "  <thead>\n",
              "    <tr style=\"text-align: right;\">\n",
              "      <th></th>\n",
              "      <th>Date</th>\n",
              "      <th>Year</th>\n",
              "      <th>Month</th>\n",
              "      <th>Week</th>\n",
              "      <th>Day</th>\n",
              "    </tr>\n",
              "  </thead>\n",
              "  <tbody>\n",
              "    <tr>\n",
              "      <th>148</th>\n",
              "      <td>2012-12-02</td>\n",
              "      <td>2012</td>\n",
              "      <td>12</td>\n",
              "      <td>48</td>\n",
              "      <td>2</td>\n",
              "    </tr>\n",
              "    <tr>\n",
              "      <th>149</th>\n",
              "      <td>2012-12-09</td>\n",
              "      <td>2012</td>\n",
              "      <td>12</td>\n",
              "      <td>49</td>\n",
              "      <td>9</td>\n",
              "    </tr>\n",
              "    <tr>\n",
              "      <th>150</th>\n",
              "      <td>2012-12-16</td>\n",
              "      <td>2012</td>\n",
              "      <td>12</td>\n",
              "      <td>50</td>\n",
              "      <td>16</td>\n",
              "    </tr>\n",
              "    <tr>\n",
              "      <th>151</th>\n",
              "      <td>2012-12-23</td>\n",
              "      <td>2012</td>\n",
              "      <td>12</td>\n",
              "      <td>51</td>\n",
              "      <td>23</td>\n",
              "    </tr>\n",
              "    <tr>\n",
              "      <th>152</th>\n",
              "      <td>2012-12-30</td>\n",
              "      <td>2012</td>\n",
              "      <td>12</td>\n",
              "      <td>52</td>\n",
              "      <td>30</td>\n",
              "    </tr>\n",
              "    <tr>\n",
              "      <th>...</th>\n",
              "      <td>...</td>\n",
              "      <td>...</td>\n",
              "      <td>...</td>\n",
              "      <td>...</td>\n",
              "      <td>...</td>\n",
              "    </tr>\n",
              "    <tr>\n",
              "      <th>291</th>\n",
              "      <td>2015-08-30</td>\n",
              "      <td>2015</td>\n",
              "      <td>8</td>\n",
              "      <td>35</td>\n",
              "      <td>30</td>\n",
              "    </tr>\n",
              "    <tr>\n",
              "      <th>292</th>\n",
              "      <td>2015-09-06</td>\n",
              "      <td>2015</td>\n",
              "      <td>9</td>\n",
              "      <td>36</td>\n",
              "      <td>6</td>\n",
              "    </tr>\n",
              "    <tr>\n",
              "      <th>293</th>\n",
              "      <td>2015-09-13</td>\n",
              "      <td>2015</td>\n",
              "      <td>9</td>\n",
              "      <td>37</td>\n",
              "      <td>13</td>\n",
              "    </tr>\n",
              "    <tr>\n",
              "      <th>294</th>\n",
              "      <td>2015-09-20</td>\n",
              "      <td>2015</td>\n",
              "      <td>9</td>\n",
              "      <td>38</td>\n",
              "      <td>20</td>\n",
              "    </tr>\n",
              "    <tr>\n",
              "      <th>295</th>\n",
              "      <td>2015-09-27</td>\n",
              "      <td>2015</td>\n",
              "      <td>9</td>\n",
              "      <td>39</td>\n",
              "      <td>27</td>\n",
              "    </tr>\n",
              "  </tbody>\n",
              "</table>\n",
              "<p>148 rows × 5 columns</p>\n",
              "</div>\n",
              "      <button class=\"colab-df-convert\" onclick=\"convertToInteractive('df-47cfc416-ff2a-4cd9-a3b4-62a4e606de37')\"\n",
              "              title=\"Convert this dataframe to an interactive table.\"\n",
              "              style=\"display:none;\">\n",
              "        \n",
              "  <svg xmlns=\"http://www.w3.org/2000/svg\" height=\"24px\"viewBox=\"0 0 24 24\"\n",
              "       width=\"24px\">\n",
              "    <path d=\"M0 0h24v24H0V0z\" fill=\"none\"/>\n",
              "    <path d=\"M18.56 5.44l.94 2.06.94-2.06 2.06-.94-2.06-.94-.94-2.06-.94 2.06-2.06.94zm-11 1L8.5 8.5l.94-2.06 2.06-.94-2.06-.94L8.5 2.5l-.94 2.06-2.06.94zm10 10l.94 2.06.94-2.06 2.06-.94-2.06-.94-.94-2.06-.94 2.06-2.06.94z\"/><path d=\"M17.41 7.96l-1.37-1.37c-.4-.4-.92-.59-1.43-.59-.52 0-1.04.2-1.43.59L10.3 9.45l-7.72 7.72c-.78.78-.78 2.05 0 2.83L4 21.41c.39.39.9.59 1.41.59.51 0 1.02-.2 1.41-.59l7.78-7.78 2.81-2.81c.8-.78.8-2.07 0-2.86zM5.41 20L4 18.59l7.72-7.72 1.47 1.35L5.41 20z\"/>\n",
              "  </svg>\n",
              "      </button>\n",
              "      \n",
              "  <style>\n",
              "    .colab-df-container {\n",
              "      display:flex;\n",
              "      flex-wrap:wrap;\n",
              "      gap: 12px;\n",
              "    }\n",
              "\n",
              "    .colab-df-convert {\n",
              "      background-color: #E8F0FE;\n",
              "      border: none;\n",
              "      border-radius: 50%;\n",
              "      cursor: pointer;\n",
              "      display: none;\n",
              "      fill: #1967D2;\n",
              "      height: 32px;\n",
              "      padding: 0 0 0 0;\n",
              "      width: 32px;\n",
              "    }\n",
              "\n",
              "    .colab-df-convert:hover {\n",
              "      background-color: #E2EBFA;\n",
              "      box-shadow: 0px 1px 2px rgba(60, 64, 67, 0.3), 0px 1px 3px 1px rgba(60, 64, 67, 0.15);\n",
              "      fill: #174EA6;\n",
              "    }\n",
              "\n",
              "    [theme=dark] .colab-df-convert {\n",
              "      background-color: #3B4455;\n",
              "      fill: #D2E3FC;\n",
              "    }\n",
              "\n",
              "    [theme=dark] .colab-df-convert:hover {\n",
              "      background-color: #434B5C;\n",
              "      box-shadow: 0px 1px 3px 1px rgba(0, 0, 0, 0.15);\n",
              "      filter: drop-shadow(0px 1px 2px rgba(0, 0, 0, 0.3));\n",
              "      fill: #FFFFFF;\n",
              "    }\n",
              "  </style>\n",
              "\n",
              "      <script>\n",
              "        const buttonEl =\n",
              "          document.querySelector('#df-47cfc416-ff2a-4cd9-a3b4-62a4e606de37 button.colab-df-convert');\n",
              "        buttonEl.style.display =\n",
              "          google.colab.kernel.accessAllowed ? 'block' : 'none';\n",
              "\n",
              "        async function convertToInteractive(key) {\n",
              "          const element = document.querySelector('#df-47cfc416-ff2a-4cd9-a3b4-62a4e606de37');\n",
              "          const dataTable =\n",
              "            await google.colab.kernel.invokeFunction('convertToInteractive',\n",
              "                                                     [key], {});\n",
              "          if (!dataTable) return;\n",
              "\n",
              "          const docLinkHtml = 'Like what you see? Visit the ' +\n",
              "            '<a target=\"_blank\" href=https://colab.research.google.com/notebooks/data_table.ipynb>data table notebook</a>'\n",
              "            + ' to learn more about interactive tables.';\n",
              "          element.innerHTML = '';\n",
              "          dataTable['output_type'] = 'display_data';\n",
              "          await google.colab.output.renderOutput(dataTable, element);\n",
              "          const docLink = document.createElement('div');\n",
              "          docLink.innerHTML = docLinkHtml;\n",
              "          element.appendChild(docLink);\n",
              "        }\n",
              "      </script>\n",
              "    </div>\n",
              "  </div>\n",
              "  "
            ]
          },
          "metadata": {},
          "execution_count": 32
        }
      ],
      "source": [
        "trend_de[['Date', 'Year','Month','Week','Day']]"
      ]
    },
    {
      "cell_type": "markdown",
      "metadata": {
        "id": "LGvGl_ngsjA9"
      },
      "source": [
        "# Hago todo el resto de los joins"
      ]
    },
    {
      "cell_type": "code",
      "execution_count": null,
      "metadata": {
        "id": "vM3HW8BMsjA9",
        "outputId": "c0552931-ee41-46ca-efbf-b528add0295f",
        "colab": {
          "base_uri": "https://localhost:8080/"
        }
      },
      "outputs": [
        {
          "output_type": "execute_result",
          "data": {
            "text/plain": [
              "0"
            ]
          },
          "metadata": {},
          "execution_count": 33
        }
      ],
      "source": [
        "# Agrego acronimo de state al store\n",
        "store = join_df(store, store_states, \"Store\")\n",
        "len(store[store.State.isnull()])"
      ]
    },
    {
      "cell_type": "code",
      "execution_count": null,
      "metadata": {
        "id": "Syg-lwdxsjA9",
        "outputId": "97a46355-b44e-45ad-f1da-5bf770176f9e",
        "colab": {
          "base_uri": "https://localhost:8080/"
        }
      },
      "outputs": [
        {
          "output_type": "execute_result",
          "data": {
            "text/plain": [
              "Index(['Store', 'StoreType', 'Assortment', 'CompetitionDistance',\n",
              "       'CompetitionOpenSinceMonth', 'CompetitionOpenSinceYear', 'Promo2',\n",
              "       'Promo2SinceWeek', 'Promo2SinceYear', 'PromoInterval',\n",
              "       'CompetitionOpenSince', 'Promo2Since', 'State'],\n",
              "      dtype='object')"
            ]
          },
          "metadata": {},
          "execution_count": 34
        }
      ],
      "source": [
        "store.columns"
      ]
    },
    {
      "cell_type": "code",
      "execution_count": null,
      "metadata": {
        "id": "ZWw2bhhMsjA9",
        "outputId": "729e5737-74fd-498d-a2fb-75f8e4443df2",
        "colab": {
          "base_uri": "https://localhost:8080/"
        }
      },
      "outputs": [
        {
          "output_type": "execute_result",
          "data": {
            "text/plain": [
              "0"
            ]
          },
          "metadata": {},
          "execution_count": 35
        }
      ],
      "source": [
        "# Mergeo train y store\n",
        "joined_train = join_df(train, store, \"Store\")\n",
        "len(joined_train[joined_train.StoreType.isnull()])"
      ]
    },
    {
      "cell_type": "code",
      "execution_count": null,
      "metadata": {
        "id": "YaJwbx7qsjA-",
        "outputId": "a8067375-1886-4441-e48f-d86b20f1a435",
        "colab": {
          "base_uri": "https://localhost:8080/"
        }
      },
      "outputs": [
        {
          "output_type": "execute_result",
          "data": {
            "text/plain": [
              "Index(['Store', 'DayOfWeek', 'Date', 'Sales', 'Customers', 'Open', 'Promo',\n",
              "       'StateHoliday', 'SchoolHoliday', 'Year', 'Month', 'Week', 'Day',\n",
              "       'StoreType', 'Assortment', 'CompetitionDistance',\n",
              "       'CompetitionOpenSinceMonth', 'CompetitionOpenSinceYear', 'Promo2',\n",
              "       'Promo2SinceWeek', 'Promo2SinceYear', 'PromoInterval',\n",
              "       'CompetitionOpenSince', 'Promo2Since', 'State'],\n",
              "      dtype='object')"
            ]
          },
          "metadata": {},
          "execution_count": 36
        }
      ],
      "source": [
        "joined_train.columns"
      ]
    },
    {
      "cell_type": "code",
      "execution_count": null,
      "metadata": {
        "id": "ag0OofdJsjA_",
        "outputId": "659b2cd2-a66c-4c76-a4b1-13ed5ba38f96",
        "colab": {
          "base_uri": "https://localhost:8080/"
        }
      },
      "outputs": [
        {
          "output_type": "execute_result",
          "data": {
            "text/plain": [
              "0"
            ]
          },
          "metadata": {},
          "execution_count": 37
        }
      ],
      "source": [
        "# Mergeo test y store\n",
        "joined_test = join_df(test, store, \"Store\")\n",
        "len(joined_test[joined_test.StoreType.isnull()])"
      ]
    },
    {
      "cell_type": "code",
      "execution_count": null,
      "metadata": {
        "id": "erAkXkXfsjA_",
        "outputId": "a0500874-d368-4908-b6ce-fda9cea15de6",
        "colab": {
          "base_uri": "https://localhost:8080/"
        }
      },
      "outputs": [
        {
          "output_type": "execute_result",
          "data": {
            "text/plain": [
              "0"
            ]
          },
          "metadata": {},
          "execution_count": 38
        }
      ],
      "source": [
        "# Mergeo con googletrend\n",
        "joined_train = join_df(joined_train, googletrend, [\"State\",\"Year\", \"Week\"])\n",
        "len(joined_train[joined_train.trend.isnull()])"
      ]
    },
    {
      "cell_type": "code",
      "execution_count": null,
      "metadata": {
        "id": "KDgjz4LysjBA",
        "outputId": "f63f780c-a1fc-45d6-a6d6-99be5ccda70d",
        "colab": {
          "base_uri": "https://localhost:8080/"
        }
      },
      "outputs": [
        {
          "output_type": "execute_result",
          "data": {
            "text/plain": [
              "0"
            ]
          },
          "metadata": {},
          "execution_count": 39
        }
      ],
      "source": [
        "joined_test = join_df(joined_test, googletrend, [\"State\",\"Year\", \"Week\"])\n",
        "len(joined_test[joined_test.trend.isnull()])"
      ]
    },
    {
      "cell_type": "code",
      "execution_count": null,
      "metadata": {
        "id": "648N2_fEsjBA",
        "outputId": "532fe727-1c9d-4b2a-ea40-718ec6ace585",
        "colab": {
          "base_uri": "https://localhost:8080/"
        }
      },
      "outputs": [
        {
          "output_type": "execute_result",
          "data": {
            "text/plain": [
              "0"
            ]
          },
          "metadata": {},
          "execution_count": 40
        }
      ],
      "source": [
        "joined_train = joined_train.merge(trend_de, 'left', [\"Year\", \"Week\"], suffixes=('', '_DE'))\n",
        "len(joined_train[joined_train.trend_DE.isnull()])"
      ]
    },
    {
      "cell_type": "code",
      "execution_count": null,
      "metadata": {
        "id": "I6szS3I0sjBA",
        "outputId": "a82b2565-1e3f-4270-c7d8-af9406d6a164",
        "colab": {
          "base_uri": "https://localhost:8080/"
        }
      },
      "outputs": [
        {
          "output_type": "execute_result",
          "data": {
            "text/plain": [
              "0"
            ]
          },
          "metadata": {},
          "execution_count": 41
        }
      ],
      "source": [
        "joined_test = joined_test.merge(trend_de, 'left', [\"Year\", \"Week\"], suffixes=('', '_DE'))\n",
        "len(joined_test[joined_test.trend_DE.isnull()])"
      ]
    },
    {
      "cell_type": "code",
      "execution_count": null,
      "metadata": {
        "id": "mNldTFMqsjBB",
        "outputId": "5910809a-75dd-4327-927e-7fac7d879df0",
        "colab": {
          "base_uri": "https://localhost:8080/"
        }
      },
      "outputs": [
        {
          "output_type": "execute_result",
          "data": {
            "text/plain": [
              "0"
            ]
          },
          "metadata": {},
          "execution_count": 42
        }
      ],
      "source": [
        "joined_train = join_df(joined_train, weather, [\"State\",\"Date\"])\n",
        "len(joined_train[joined_train.Mean_TemperatureC.isnull()])"
      ]
    },
    {
      "cell_type": "code",
      "execution_count": null,
      "metadata": {
        "id": "ZjhDyoTmsjBB",
        "outputId": "15549ea0-a883-47d2-afbb-1e2d5271d8cb",
        "colab": {
          "base_uri": "https://localhost:8080/"
        }
      },
      "outputs": [
        {
          "output_type": "execute_result",
          "data": {
            "text/plain": [
              "0"
            ]
          },
          "metadata": {},
          "execution_count": 43
        }
      ],
      "source": [
        "joined_test = join_df(joined_test, weather, [\"State\",\"Date\"])\n",
        "len(joined_test[joined_test.Mean_TemperatureC.isnull()])"
      ]
    },
    {
      "cell_type": "code",
      "execution_count": null,
      "metadata": {
        "id": "k-I8dCCWsjBB",
        "outputId": "9f4c8b27-988f-4cc3-c047-0a61721af95f",
        "colab": {
          "base_uri": "https://localhost:8080/"
        }
      },
      "outputs": [
        {
          "output_type": "execute_result",
          "data": {
            "text/plain": [
              "Index(['Store', 'DayOfWeek', 'Date', 'Sales', 'Customers', 'Open', 'Promo',\n",
              "       'StateHoliday', 'SchoolHoliday', 'Year', 'Month', 'Week', 'Day',\n",
              "       'StoreType', 'Assortment', 'CompetitionDistance',\n",
              "       'CompetitionOpenSinceMonth', 'CompetitionOpenSinceYear', 'Promo2',\n",
              "       'Promo2SinceWeek', 'Promo2SinceYear', 'PromoInterval',\n",
              "       'CompetitionOpenSince', 'Promo2Since', 'State', 'file', 'week', 'trend',\n",
              "       'Date_y', 'Month_y', 'Day_y', 'file_DE', 'week_DE', 'trend_DE',\n",
              "       'Date_DE', 'State_DE', 'Month_DE', 'Day_DE', 'file_y',\n",
              "       'Max_TemperatureC', 'Mean_TemperatureC', 'Min_TemperatureC',\n",
              "       'Dew_PointC', 'MeanDew_PointC', 'Min_DewpointC', 'Max_Humidity',\n",
              "       'Mean_Humidity', 'Min_Humidity', 'Max_Sea_Level_PressurehPa',\n",
              "       'Mean_Sea_Level_PressurehPa', 'Min_Sea_Level_PressurehPa',\n",
              "       'Max_VisibilityKm', 'Mean_VisibilityKm', 'Min_VisibilitykM',\n",
              "       'Max_Wind_SpeedKm_h', 'Mean_Wind_SpeedKm_h', 'Max_Gust_SpeedKm_h',\n",
              "       'Precipitationmm', 'CloudCover', 'Events', 'WindDirDegrees',\n",
              "       'StateName', 'Year_y', 'Month_y', 'Week_y', 'Day_y'],\n",
              "      dtype='object')"
            ]
          },
          "metadata": {},
          "execution_count": 44
        }
      ],
      "source": [
        "joined_train.columns"
      ]
    },
    {
      "cell_type": "markdown",
      "metadata": {
        "id": "b9m_BhEwsjBB"
      },
      "source": [
        "##  CompetitionOpenSince en dias guardada en CompetitionDaysOpen"
      ]
    },
    {
      "cell_type": "code",
      "execution_count": null,
      "metadata": {
        "id": "GoPfFxaCsjBC",
        "outputId": "f5b005b3-f1d7-4943-fc41-c5693ecc58ca",
        "colab": {
          "base_uri": "https://localhost:8080/"
        }
      },
      "outputs": [
        {
          "output_type": "execute_result",
          "data": {
            "text/plain": [
              "0    2510\n",
              "1    2815\n",
              "2    3150\n",
              "3    2145\n",
              "4     107\n",
              "5     593\n",
              "6     837\n",
              "7     289\n",
              "8    5463\n",
              "9    2145\n",
              "Name: CompetitionDaysOpen, dtype: int64"
            ]
          },
          "metadata": {},
          "execution_count": 45
        }
      ],
      "source": [
        "joined_train[\"CompetitionDaysOpen\"] = joined_train.Date.subtract(joined_train[\"CompetitionOpenSince\"]).dt.days\n",
        "joined_train[\"CompetitionDaysOpen\"][:10]"
      ]
    },
    {
      "cell_type": "code",
      "execution_count": null,
      "metadata": {
        "id": "63KHSOY-sjBC",
        "outputId": "4180a957-44eb-4a51-e694-305defc44062",
        "colab": {
          "base_uri": "https://localhost:8080/"
        }
      },
      "outputs": [
        {
          "output_type": "execute_result",
          "data": {
            "text/plain": [
              "0    2558\n",
              "1    3198\n",
              "2     885\n",
              "3     337\n",
              "4    5511\n",
              "5    2193\n",
              "6    1402\n",
              "7    9376\n",
              "8    9376\n",
              "9     551\n",
              "Name: CompetitionDaysOpen, dtype: int64"
            ]
          },
          "metadata": {},
          "execution_count": 46
        }
      ],
      "source": [
        "joined_test[\"CompetitionDaysOpen\"] = joined_test.Date.subtract(joined_test[\"CompetitionOpenSince\"]).dt.days\n",
        "joined_test[\"CompetitionDaysOpen\"][:10]"
      ]
    },
    {
      "cell_type": "code",
      "execution_count": null,
      "metadata": {
        "id": "pPp7htArsjBC"
      },
      "outputs": [],
      "source": [
        "# Corrige errores de la formula anterior\n",
        "joined_train.loc[joined_train.CompetitionDaysOpen<0, \"CompetitionDaysOpen\"] = 0\n",
        "joined_train.loc[joined_train.CompetitionOpenSinceYear<1990, \"CompetitionDaysOpen\"] = 0"
      ]
    },
    {
      "cell_type": "code",
      "execution_count": null,
      "metadata": {
        "id": "aAgXp0l8sjBC"
      },
      "outputs": [],
      "source": [
        "# Corrige errores de la formula anterior\n",
        "joined_test.loc[joined_test.CompetitionDaysOpen<0, \"CompetitionDaysOpen\"] = 0\n",
        "joined_test.loc[joined_test.CompetitionOpenSinceYear<1990, \"CompetitionDaysOpen\"] = 0"
      ]
    },
    {
      "cell_type": "code",
      "execution_count": null,
      "metadata": {
        "id": "ovBTvmTxsjBC",
        "outputId": "e8a176fe-d084-4f1e-9462-67e3b38785f4",
        "colab": {
          "base_uri": "https://localhost:8080/"
        }
      },
      "outputs": [
        {
          "output_type": "execute_result",
          "data": {
            "text/plain": [
              "24    790886\n",
              "0      92590\n",
              "6       6356\n",
              "7       6350\n",
              "4       6278\n",
              "5       6261\n",
              "8       6203\n",
              "9       6138\n",
              "10      6118\n",
              "11      5971\n",
              "12      5867\n",
              "3       5850\n",
              "13      5724\n",
              "15      5699\n",
              "14      5655\n",
              "19      5649\n",
              "2       5621\n",
              "18      5619\n",
              "16      5618\n",
              "22      5558\n",
              "17      5549\n",
              "20      5500\n",
              "1       5482\n",
              "21      5398\n",
              "23      5269\n",
              "Name: CompetitionMonthsOpen, dtype: int64"
            ]
          },
          "metadata": {},
          "execution_count": 49
        }
      ],
      "source": [
        "# Lo pone en meses y limita a 2 años como máximo\n",
        "joined_train[\"CompetitionMonthsOpen\"] = joined_train[\"CompetitionDaysOpen\"]//30\n",
        "joined_train.loc[joined_train.CompetitionMonthsOpen>24, \"CompetitionMonthsOpen\"] = 24\n",
        "joined_train.CompetitionMonthsOpen.value_counts()"
      ]
    },
    {
      "cell_type": "code",
      "execution_count": null,
      "metadata": {
        "id": "xHZh7AeUsjBC",
        "outputId": "deb50b06-cd39-495e-8291-d5360859672c",
        "colab": {
          "base_uri": "https://localhost:8080/"
        }
      },
      "outputs": [
        {
          "output_type": "execute_result",
          "data": {
            "text/plain": [
              "24    36782\n",
              "23      346\n",
              "17      292\n",
              "16      287\n",
              "13      260\n",
              "1       257\n",
              "10      247\n",
              "11      246\n",
              "14      197\n",
              "0       179\n",
              "18      169\n",
              "12      164\n",
              "2       161\n",
              "8       161\n",
              "4       152\n",
              "5       151\n",
              "20      149\n",
              "21      148\n",
              "22      146\n",
              "3       141\n",
              "15      126\n",
              "9       125\n",
              "19       84\n",
              "7        60\n",
              "6        58\n",
              "Name: CompetitionMonthsOpen, dtype: int64"
            ]
          },
          "metadata": {},
          "execution_count": 50
        }
      ],
      "source": [
        "# Lo pone en meses y limita a 2 años como máximo\n",
        "joined_test[\"CompetitionMonthsOpen\"] = joined_test[\"CompetitionDaysOpen\"]//30\n",
        "joined_test.loc[joined_test.CompetitionMonthsOpen>24, \"CompetitionMonthsOpen\"] = 24\n",
        "joined_test.CompetitionMonthsOpen.value_counts()"
      ]
    },
    {
      "cell_type": "markdown",
      "metadata": {
        "id": "3nwo85pnsjBD"
      },
      "source": [
        "### Mismo proceso a promodates"
      ]
    },
    {
      "cell_type": "code",
      "execution_count": null,
      "metadata": {
        "id": "aOOYcGU7sjBD",
        "outputId": "606308e6-99b2-4b5d-e054-7f586d831c68",
        "colab": {
          "base_uri": "https://localhost:8080/"
        }
      },
      "outputs": [
        {
          "output_type": "execute_result",
          "data": {
            "text/plain": [
              "25    911602\n",
              "0      70849\n",
              "14      1659\n",
              "21      1659\n",
              "24      1659\n",
              "16      1659\n",
              "23      1659\n",
              "15      1659\n",
              "19      1659\n",
              "22      1659\n",
              "20      1659\n",
              "18      1652\n",
              "17      1633\n",
              "13      1514\n",
              "7       1267\n",
              "6       1267\n",
              "5       1263\n",
              "8       1261\n",
              "10      1260\n",
              "11      1260\n",
              "12      1260\n",
              "9       1258\n",
              "4       1236\n",
              "3       1232\n",
              "2       1232\n",
              "1       1232\n",
              "Name: Promo2Weeks, dtype: int64"
            ]
          },
          "metadata": {},
          "execution_count": 51
        }
      ],
      "source": [
        "joined_train[\"Promo2Days\"] = joined_train.Date.subtract(joined_train[\"Promo2Since\"]).dt.days\n",
        "joined_train.loc[joined_train.Promo2Days<0, \"Promo2Days\"] = 0\n",
        "joined_train.loc[joined_train.Promo2SinceYear<1990, \"Promo2Days\"] = 0\n",
        "joined_train[\"Promo2Weeks\"] = joined_train[\"Promo2Days\"]//7\n",
        "joined_train.loc[joined_train.Promo2Weeks<0, \"Promo2Weeks\"] = 0\n",
        "joined_train.loc[joined_train.Promo2Weeks>25, \"Promo2Weeks\"] = 25\n",
        "joined_train.Promo2Weeks.value_counts()"
      ]
    },
    {
      "cell_type": "code",
      "execution_count": null,
      "metadata": {
        "id": "rqYzUOEjsjBD",
        "outputId": "18e7ee8e-9ddf-4db1-e280-2deb315ee859",
        "colab": {
          "base_uri": "https://localhost:8080/"
        }
      },
      "outputs": [
        {
          "output_type": "execute_result",
          "data": {
            "text/plain": [
              "25    40704\n",
              "19       35\n",
              "18       35\n",
              "20       32\n",
              "23       28\n",
              "14       28\n",
              "22       28\n",
              "21       28\n",
              "13       23\n",
              "12       21\n",
              "11       21\n",
              "10       21\n",
              "9        21\n",
              "15       19\n",
              "24       16\n",
              "17       15\n",
              "16        7\n",
              "8         6\n",
              "Name: Promo2Weeks, dtype: int64"
            ]
          },
          "metadata": {},
          "execution_count": 52
        }
      ],
      "source": [
        "joined_test[\"Promo2Days\"] = joined_test.Date.subtract(joined_test[\"Promo2Since\"]).dt.days\n",
        "joined_test.loc[joined_test.Promo2Days<0, \"Promo2Days\"] = 0\n",
        "joined_test.loc[joined_test.Promo2SinceYear<1990, \"Promo2Days\"] = 0\n",
        "joined_test[\"Promo2Weeks\"] = joined_test[\"Promo2Days\"]//7\n",
        "joined_test.loc[joined_test.Promo2Weeks<0, \"Promo2Weeks\"] = 0\n",
        "joined_test.loc[joined_test.Promo2Weeks>25, \"Promo2Weeks\"] = 25\n",
        "joined_test.Promo2Weeks.value_counts()"
      ]
    },
    {
      "cell_type": "code",
      "execution_count": null,
      "metadata": {
        "id": "fUK_M3uAsjBD",
        "outputId": "445ddb94-03e4-4951-e59a-256d6eefc07e",
        "colab": {
          "base_uri": "https://localhost:8080/"
        }
      },
      "outputs": [
        {
          "output_type": "execute_result",
          "data": {
            "text/plain": [
              "((1017209, 70), (41088, 69))"
            ]
          },
          "metadata": {},
          "execution_count": 53
        }
      ],
      "source": [
        "joined_train.shape, joined_test.shape"
      ]
    },
    {
      "cell_type": "code",
      "execution_count": null,
      "metadata": {
        "id": "sJIF5btlsjBD"
      },
      "outputs": [],
      "source": [
        "# Remove dup columns\n",
        "joined_train = joined_train.loc[:,~joined_train.columns.duplicated()]\n",
        "joined_test = joined_test.loc[:,~joined_test.columns.duplicated()]"
      ]
    },
    {
      "cell_type": "code",
      "execution_count": null,
      "metadata": {
        "id": "6qPTD8nesjBE",
        "outputId": "d2b4a2f5-4119-42a2-b845-c435229c0a51",
        "colab": {
          "base_uri": "https://localhost:8080/"
        }
      },
      "outputs": [
        {
          "output_type": "execute_result",
          "data": {
            "text/plain": [
              "((1017209, 68), (41088, 67))"
            ]
          },
          "metadata": {},
          "execution_count": 55
        }
      ],
      "source": [
        "joined_train.shape, joined_test.shape"
      ]
    },
    {
      "cell_type": "code",
      "execution_count": null,
      "metadata": {
        "id": "oXCscYJksjBE",
        "outputId": "5814c638-5047-4a85-84df-fa528dcf3729",
        "colab": {
          "base_uri": "https://localhost:8080/"
        }
      },
      "outputs": [
        {
          "output_type": "stream",
          "name": "stdout",
          "text": [
            "CPU times: user 1.06 s, sys: 262 ms, total: 1.33 s\n",
            "Wall time: 1.04 s\n"
          ]
        }
      ],
      "source": [
        "%time joined_train.to_feather('joined_train_before_durations.fth')"
      ]
    },
    {
      "cell_type": "code",
      "execution_count": null,
      "metadata": {
        "id": "EE3hNmLBsjBE",
        "outputId": "6d62342b-e362-47d0-fa23-c38f67499287",
        "colab": {
          "base_uri": "https://localhost:8080/"
        }
      },
      "outputs": [
        {
          "output_type": "stream",
          "name": "stdout",
          "text": [
            "CPU times: user 51 ms, sys: 15.4 ms, total: 66.4 ms\n",
            "Wall time: 52.4 ms\n"
          ]
        }
      ],
      "source": [
        "%time joined_test.to_feather('joined_test_before_durations.fth')"
      ]
    },
    {
      "cell_type": "code",
      "execution_count": null,
      "metadata": {
        "id": "s7idQdVPsjBE",
        "outputId": "a2102fb8-da78-4612-db2c-13df3be1ac9a",
        "colab": {
          "base_uri": "https://localhost:8080/"
        }
      },
      "outputs": [
        {
          "output_type": "execute_result",
          "data": {
            "text/plain": [
              "{'Customers', 'Sales'}"
            ]
          },
          "metadata": {},
          "execution_count": 58
        }
      ],
      "source": [
        "set(joined_train.columns) - set(joined_test.columns)"
      ]
    },
    {
      "cell_type": "code",
      "execution_count": null,
      "metadata": {
        "id": "YBvPvK6usjBE",
        "outputId": "33392fd2-8af7-434f-bce1-69c4972ec46b",
        "colab": {
          "base_uri": "https://localhost:8080/"
        }
      },
      "outputs": [
        {
          "output_type": "stream",
          "name": "stdout",
          "text": [
            "['file', 'Date', 'Max_TemperatureC', 'Mean_TemperatureC', 'Min_TemperatureC', 'Dew_PointC', 'MeanDew_PointC', 'Min_DewpointC', 'Max_Humidity', 'Mean_Humidity', 'Min_Humidity', 'Max_Sea_Level_PressurehPa', 'Mean_Sea_Level_PressurehPa', 'Min_Sea_Level_PressurehPa', 'Max_VisibilityKm', 'Mean_VisibilityKm', 'Min_VisibilitykM', 'Max_Wind_SpeedKm_h', 'Mean_Wind_SpeedKm_h', 'Max_Gust_SpeedKm_h', 'Precipitationmm', 'CloudCover', 'Events', 'WindDirDegrees', 'StateName', 'State', 'Year', 'Month', 'Week', 'Day']\n"
          ]
        }
      ],
      "source": [
        "print(list(weather.columns))"
      ]
    },
    {
      "cell_type": "code",
      "execution_count": null,
      "metadata": {
        "id": "_qY3i9dHsjBF"
      },
      "outputs": [],
      "source": []
    }
  ],
  "metadata": {
    "kernelspec": {
      "display_name": "Python 3",
      "language": "python",
      "name": "python3"
    },
    "language_info": {
      "codemirror_mode": {
        "name": "ipython",
        "version": 3
      },
      "file_extension": ".py",
      "mimetype": "text/x-python",
      "name": "python",
      "nbconvert_exporter": "python",
      "pygments_lexer": "ipython3",
      "version": "3.6.10"
    },
    "colab": {
      "provenance": []
    }
  },
  "nbformat": 4,
  "nbformat_minor": 0
}