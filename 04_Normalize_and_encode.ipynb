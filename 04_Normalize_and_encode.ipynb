{
  "cells": [
    {
      "cell_type": "markdown",
      "metadata": {
        "id": "view-in-github",
        "colab_type": "text"
      },
      "source": [
        "<a href=\"https://colab.research.google.com/github/jseverina/RN-TP2/blob/main/04_Normalize_and_encode.ipynb\" target=\"_parent\"><img src=\"https://colab.research.google.com/assets/colab-badge.svg\" alt=\"Open In Colab\"/></a>"
      ]
    },
    {
      "cell_type": "code",
      "execution_count": null,
      "metadata": {
        "id": "aYtN0-aL2iCa",
        "colab": {
          "base_uri": "https://localhost:8080/"
        },
        "outputId": "69dfb227-ce70-45b5-b6b8-5eaae6173433"
      },
      "outputs": [
        {
          "output_type": "stream",
          "name": "stdout",
          "text": [
            "Looking in indexes: https://pypi.org/simple, https://us-python.pkg.dev/colab-wheels/public/simple/\n",
            "Collecting pandas_summary\n",
            "  Downloading pandas_summary-0.2.0-py2.py3-none-any.whl (5.2 kB)\n",
            "Requirement already satisfied: numpy in /usr/local/lib/python3.7/dist-packages (from pandas_summary) (1.21.6)\n",
            "Collecting datatile\n",
            "  Downloading datatile-1.0.3-py3-none-any.whl (6.0 kB)\n",
            "Requirement already satisfied: pandas in /usr/local/lib/python3.7/dist-packages (from pandas_summary) (1.3.5)\n",
            "Collecting traceml<1.1\n",
            "  Downloading traceml-1.0.3-py3-none-any.whl (127 kB)\n",
            "\u001b[K     |████████████████████████████████| 127 kB 5.2 MB/s \n",
            "\u001b[?25hRequirement already satisfied: python-dateutil>=2.7.3 in /usr/local/lib/python3.7/dist-packages (from pandas->pandas_summary) (2.8.2)\n",
            "Requirement already satisfied: pytz>=2017.3 in /usr/local/lib/python3.7/dist-packages (from pandas->pandas_summary) (2022.5)\n",
            "Requirement already satisfied: six>=1.5 in /usr/local/lib/python3.7/dist-packages (from python-dateutil>=2.7.3->pandas->pandas_summary) (1.15.0)\n",
            "Installing collected packages: traceml, datatile, pandas-summary\n",
            "Successfully installed datatile-1.0.3 pandas-summary-0.2.0 traceml-1.0.3\n"
          ]
        }
      ],
      "source": [
        "import pandas as pd\n",
        "import numpy as np\n",
        "!pip install pandas_summary\n",
        "from pandas_summary import DataFrameSummary\n",
        "from sklearn.preprocessing import LabelEncoder, StandardScaler"
      ]
    },
    {
      "cell_type": "code",
      "execution_count": null,
      "metadata": {
        "id": "X9yWF6ub2iCe",
        "colab": {
          "base_uri": "https://localhost:8080/"
        },
        "outputId": "3de8c411-9206-4599-c7af-5f86deef467c"
      },
      "outputs": [
        {
          "output_type": "stream",
          "name": "stdout",
          "text": [
            "Looking in indexes: https://pypi.org/simple, https://us-python.pkg.dev/colab-wheels/public/simple/\n",
            "Requirement already satisfied: pyarrow in /usr/local/lib/python3.7/dist-packages (6.0.1)\n",
            "Requirement already satisfied: numpy>=1.16.6 in /usr/local/lib/python3.7/dist-packages (from pyarrow) (1.21.6)\n"
          ]
        }
      ],
      "source": [
        "!pip install pyarrow"
      ]
    },
    {
      "cell_type": "code",
      "source": [
        "from google.colab import drive\n",
        "drive.mount('/content/drive')"
      ],
      "metadata": {
        "colab": {
          "base_uri": "https://localhost:8080/"
        },
        "id": "w3A1R16i7ujU",
        "outputId": "aa607f1d-f4a1-4479-9e2e-f9480a625afc"
      },
      "execution_count": null,
      "outputs": [
        {
          "output_type": "stream",
          "name": "stdout",
          "text": [
            "Mounted at /content/drive\n"
          ]
        }
      ]
    },
    {
      "cell_type": "code",
      "execution_count": null,
      "metadata": {
        "id": "lDvaQ6H72iCf"
      },
      "outputs": [],
      "source": [
        "df_train = pd.read_feather('/content/drive/MyDrive/Colab Notebooks/Redes Neuronales/TP2/all_preprocessed_train.fth')\n",
        "df_test = pd.read_feather('/content/drive/MyDrive/Colab Notebooks/Redes Neuronales/TP2/all_preprocessed_test.fth')"
      ]
    },
    {
      "cell_type": "code",
      "execution_count": null,
      "metadata": {
        "id": "QV8DnEy32iCf",
        "outputId": "75638125-372a-441e-8e5b-a4ff8c7973df",
        "colab": {
          "base_uri": "https://localhost:8080/"
        }
      },
      "outputs": [
        {
          "output_type": "execute_result",
          "data": {
            "text/plain": [
              "((1017209, 81), (41088, 80))"
            ]
          },
          "metadata": {},
          "execution_count": 6
        }
      ],
      "source": [
        "df_train.shape, df_test.shape\n",
        "# ((1017209, 81), (41088, 80))"
      ]
    },
    {
      "cell_type": "code",
      "execution_count": null,
      "metadata": {
        "id": "b2uJ-hfw2iCg",
        "outputId": "5936f7cf-f2e1-430c-e79d-4e1aab536cca",
        "colab": {
          "base_uri": "https://localhost:8080/"
        }
      },
      "outputs": [
        {
          "output_type": "execute_result",
          "data": {
            "text/plain": [
              "{'Customers', 'Sales'}"
            ]
          },
          "metadata": {},
          "execution_count": 7
        }
      ],
      "source": [
        "# Verificación de que se hicieron bien las cosas en testa también\n",
        "set(df_train.columns) - set(df_test.columns)"
      ]
    },
    {
      "cell_type": "code",
      "execution_count": null,
      "metadata": {
        "id": "oiJ9X41W2iCh",
        "outputId": "2e3de13e-ed89-4168-ecc3-9310416a2206",
        "colab": {
          "base_uri": "https://localhost:8080/"
        }
      },
      "outputs": [
        {
          "output_type": "execute_result",
          "data": {
            "text/plain": [
              "0"
            ]
          },
          "metadata": {},
          "execution_count": 8
        }
      ],
      "source": [
        "(df_train['CompetitionDistance'].isna()).sum()"
      ]
    },
    {
      "cell_type": "markdown",
      "metadata": {
        "id": "3YB3ahNE2iCh"
      },
      "source": [
        "## Categorical vars\n",
        "\n",
        "Una vez que uno tiene todo pre procesado, se deben normalizar los datos. Esta notebook codifica adecuadamente las variables categoricas. Las debe convertir en numeros de una manera adecuada."
      ]
    },
    {
      "cell_type": "code",
      "execution_count": null,
      "metadata": {
        "id": "yxJ9pAeC2iCk"
      },
      "outputs": [],
      "source": [
        "cat_vars = ['Store', 'DayOfWeek', 'Year', 'Month', 'Day', 'StateHoliday', \n",
        "            'CompetitionMonthsOpen', 'Promo2Weeks', \n",
        "            'StoreType', 'Assortment', 'PromoInterval', \n",
        "            'CompetitionOpenSinceYear', 'Promo2SinceYear', \n",
        "            'State', 'Week', 'Events', 'Promo_fw', 'Promo_bw', \n",
        "            'StateHoliday_bool_fw', 'StateHoliday_bool_bw', 'SchoolHoliday_fw', \n",
        "            'SchoolHoliday_bw']"
      ]
    },
    {
      "cell_type": "code",
      "execution_count": null,
      "metadata": {
        "id": "sh7XafEb2iCl"
      },
      "outputs": [],
      "source": [
        "#DataFrameSummary(df_train[cat_vars]).summary()"
      ]
    },
    {
      "cell_type": "code",
      "execution_count": null,
      "metadata": {
        "id": "yxYNCRm82iCm",
        "outputId": "80d66b69-a775-4d2f-c0f1-febb13b605ac",
        "colab": {
          "base_uri": "https://localhost:8080/",
          "height": 739
        }
      },
      "outputs": [
        {
          "output_type": "execute_result",
          "data": {
            "text/plain": [
              "                         uniques        types missing\n",
              "Store                       1115      numeric       0\n",
              "DayOfWeek                      7      numeric       0\n",
              "Year                           3      numeric       0\n",
              "Month                         12      numeric       0\n",
              "Day                           31      numeric       0\n",
              "StateHoliday                   4  categorical       0\n",
              "CompetitionMonthsOpen         25      numeric       0\n",
              "Promo2Weeks                   26      numeric       0\n",
              "StoreType                      4  categorical       0\n",
              "Assortment                     3  categorical       0\n",
              "PromoInterval                  4  categorical       0\n",
              "CompetitionOpenSinceYear      21      numeric       0\n",
              "Promo2SinceYear                8      numeric       0\n",
              "State                         12  categorical       0\n",
              "Week                          52      numeric       0\n",
              "Events                        22  categorical       0\n",
              "Promo_fw                       6      numeric       0\n",
              "Promo_bw                       6      numeric       0\n",
              "StateHoliday_bool_fw           3      numeric       0\n",
              "StateHoliday_bool_bw           3      numeric       0\n",
              "SchoolHoliday_fw               8      numeric       0\n",
              "SchoolHoliday_bw               8      numeric       0"
            ],
            "text/html": [
              "\n",
              "  <div id=\"df-d46ac8c2-346e-4965-a9b1-c1b135b1867f\">\n",
              "    <div class=\"colab-df-container\">\n",
              "      <div>\n",
              "<style scoped>\n",
              "    .dataframe tbody tr th:only-of-type {\n",
              "        vertical-align: middle;\n",
              "    }\n",
              "\n",
              "    .dataframe tbody tr th {\n",
              "        vertical-align: top;\n",
              "    }\n",
              "\n",
              "    .dataframe thead th {\n",
              "        text-align: right;\n",
              "    }\n",
              "</style>\n",
              "<table border=\"1\" class=\"dataframe\">\n",
              "  <thead>\n",
              "    <tr style=\"text-align: right;\">\n",
              "      <th></th>\n",
              "      <th>uniques</th>\n",
              "      <th>types</th>\n",
              "      <th>missing</th>\n",
              "    </tr>\n",
              "  </thead>\n",
              "  <tbody>\n",
              "    <tr>\n",
              "      <th>Store</th>\n",
              "      <td>1115</td>\n",
              "      <td>numeric</td>\n",
              "      <td>0</td>\n",
              "    </tr>\n",
              "    <tr>\n",
              "      <th>DayOfWeek</th>\n",
              "      <td>7</td>\n",
              "      <td>numeric</td>\n",
              "      <td>0</td>\n",
              "    </tr>\n",
              "    <tr>\n",
              "      <th>Year</th>\n",
              "      <td>3</td>\n",
              "      <td>numeric</td>\n",
              "      <td>0</td>\n",
              "    </tr>\n",
              "    <tr>\n",
              "      <th>Month</th>\n",
              "      <td>12</td>\n",
              "      <td>numeric</td>\n",
              "      <td>0</td>\n",
              "    </tr>\n",
              "    <tr>\n",
              "      <th>Day</th>\n",
              "      <td>31</td>\n",
              "      <td>numeric</td>\n",
              "      <td>0</td>\n",
              "    </tr>\n",
              "    <tr>\n",
              "      <th>StateHoliday</th>\n",
              "      <td>4</td>\n",
              "      <td>categorical</td>\n",
              "      <td>0</td>\n",
              "    </tr>\n",
              "    <tr>\n",
              "      <th>CompetitionMonthsOpen</th>\n",
              "      <td>25</td>\n",
              "      <td>numeric</td>\n",
              "      <td>0</td>\n",
              "    </tr>\n",
              "    <tr>\n",
              "      <th>Promo2Weeks</th>\n",
              "      <td>26</td>\n",
              "      <td>numeric</td>\n",
              "      <td>0</td>\n",
              "    </tr>\n",
              "    <tr>\n",
              "      <th>StoreType</th>\n",
              "      <td>4</td>\n",
              "      <td>categorical</td>\n",
              "      <td>0</td>\n",
              "    </tr>\n",
              "    <tr>\n",
              "      <th>Assortment</th>\n",
              "      <td>3</td>\n",
              "      <td>categorical</td>\n",
              "      <td>0</td>\n",
              "    </tr>\n",
              "    <tr>\n",
              "      <th>PromoInterval</th>\n",
              "      <td>4</td>\n",
              "      <td>categorical</td>\n",
              "      <td>0</td>\n",
              "    </tr>\n",
              "    <tr>\n",
              "      <th>CompetitionOpenSinceYear</th>\n",
              "      <td>21</td>\n",
              "      <td>numeric</td>\n",
              "      <td>0</td>\n",
              "    </tr>\n",
              "    <tr>\n",
              "      <th>Promo2SinceYear</th>\n",
              "      <td>8</td>\n",
              "      <td>numeric</td>\n",
              "      <td>0</td>\n",
              "    </tr>\n",
              "    <tr>\n",
              "      <th>State</th>\n",
              "      <td>12</td>\n",
              "      <td>categorical</td>\n",
              "      <td>0</td>\n",
              "    </tr>\n",
              "    <tr>\n",
              "      <th>Week</th>\n",
              "      <td>52</td>\n",
              "      <td>numeric</td>\n",
              "      <td>0</td>\n",
              "    </tr>\n",
              "    <tr>\n",
              "      <th>Events</th>\n",
              "      <td>22</td>\n",
              "      <td>categorical</td>\n",
              "      <td>0</td>\n",
              "    </tr>\n",
              "    <tr>\n",
              "      <th>Promo_fw</th>\n",
              "      <td>6</td>\n",
              "      <td>numeric</td>\n",
              "      <td>0</td>\n",
              "    </tr>\n",
              "    <tr>\n",
              "      <th>Promo_bw</th>\n",
              "      <td>6</td>\n",
              "      <td>numeric</td>\n",
              "      <td>0</td>\n",
              "    </tr>\n",
              "    <tr>\n",
              "      <th>StateHoliday_bool_fw</th>\n",
              "      <td>3</td>\n",
              "      <td>numeric</td>\n",
              "      <td>0</td>\n",
              "    </tr>\n",
              "    <tr>\n",
              "      <th>StateHoliday_bool_bw</th>\n",
              "      <td>3</td>\n",
              "      <td>numeric</td>\n",
              "      <td>0</td>\n",
              "    </tr>\n",
              "    <tr>\n",
              "      <th>SchoolHoliday_fw</th>\n",
              "      <td>8</td>\n",
              "      <td>numeric</td>\n",
              "      <td>0</td>\n",
              "    </tr>\n",
              "    <tr>\n",
              "      <th>SchoolHoliday_bw</th>\n",
              "      <td>8</td>\n",
              "      <td>numeric</td>\n",
              "      <td>0</td>\n",
              "    </tr>\n",
              "  </tbody>\n",
              "</table>\n",
              "</div>\n",
              "      <button class=\"colab-df-convert\" onclick=\"convertToInteractive('df-d46ac8c2-346e-4965-a9b1-c1b135b1867f')\"\n",
              "              title=\"Convert this dataframe to an interactive table.\"\n",
              "              style=\"display:none;\">\n",
              "        \n",
              "  <svg xmlns=\"http://www.w3.org/2000/svg\" height=\"24px\"viewBox=\"0 0 24 24\"\n",
              "       width=\"24px\">\n",
              "    <path d=\"M0 0h24v24H0V0z\" fill=\"none\"/>\n",
              "    <path d=\"M18.56 5.44l.94 2.06.94-2.06 2.06-.94-2.06-.94-.94-2.06-.94 2.06-2.06.94zm-11 1L8.5 8.5l.94-2.06 2.06-.94-2.06-.94L8.5 2.5l-.94 2.06-2.06.94zm10 10l.94 2.06.94-2.06 2.06-.94-2.06-.94-.94-2.06-.94 2.06-2.06.94z\"/><path d=\"M17.41 7.96l-1.37-1.37c-.4-.4-.92-.59-1.43-.59-.52 0-1.04.2-1.43.59L10.3 9.45l-7.72 7.72c-.78.78-.78 2.05 0 2.83L4 21.41c.39.39.9.59 1.41.59.51 0 1.02-.2 1.41-.59l7.78-7.78 2.81-2.81c.8-.78.8-2.07 0-2.86zM5.41 20L4 18.59l7.72-7.72 1.47 1.35L5.41 20z\"/>\n",
              "  </svg>\n",
              "      </button>\n",
              "      \n",
              "  <style>\n",
              "    .colab-df-container {\n",
              "      display:flex;\n",
              "      flex-wrap:wrap;\n",
              "      gap: 12px;\n",
              "    }\n",
              "\n",
              "    .colab-df-convert {\n",
              "      background-color: #E8F0FE;\n",
              "      border: none;\n",
              "      border-radius: 50%;\n",
              "      cursor: pointer;\n",
              "      display: none;\n",
              "      fill: #1967D2;\n",
              "      height: 32px;\n",
              "      padding: 0 0 0 0;\n",
              "      width: 32px;\n",
              "    }\n",
              "\n",
              "    .colab-df-convert:hover {\n",
              "      background-color: #E2EBFA;\n",
              "      box-shadow: 0px 1px 2px rgba(60, 64, 67, 0.3), 0px 1px 3px 1px rgba(60, 64, 67, 0.15);\n",
              "      fill: #174EA6;\n",
              "    }\n",
              "\n",
              "    [theme=dark] .colab-df-convert {\n",
              "      background-color: #3B4455;\n",
              "      fill: #D2E3FC;\n",
              "    }\n",
              "\n",
              "    [theme=dark] .colab-df-convert:hover {\n",
              "      background-color: #434B5C;\n",
              "      box-shadow: 0px 1px 3px 1px rgba(0, 0, 0, 0.15);\n",
              "      filter: drop-shadow(0px 1px 2px rgba(0, 0, 0, 0.3));\n",
              "      fill: #FFFFFF;\n",
              "    }\n",
              "  </style>\n",
              "\n",
              "      <script>\n",
              "        const buttonEl =\n",
              "          document.querySelector('#df-d46ac8c2-346e-4965-a9b1-c1b135b1867f button.colab-df-convert');\n",
              "        buttonEl.style.display =\n",
              "          google.colab.kernel.accessAllowed ? 'block' : 'none';\n",
              "\n",
              "        async function convertToInteractive(key) {\n",
              "          const element = document.querySelector('#df-d46ac8c2-346e-4965-a9b1-c1b135b1867f');\n",
              "          const dataTable =\n",
              "            await google.colab.kernel.invokeFunction('convertToInteractive',\n",
              "                                                     [key], {});\n",
              "          if (!dataTable) return;\n",
              "\n",
              "          const docLinkHtml = 'Like what you see? Visit the ' +\n",
              "            '<a target=\"_blank\" href=https://colab.research.google.com/notebooks/data_table.ipynb>data table notebook</a>'\n",
              "            + ' to learn more about interactive tables.';\n",
              "          element.innerHTML = '';\n",
              "          dataTable['output_type'] = 'display_data';\n",
              "          await google.colab.output.renderOutput(dataTable, element);\n",
              "          const docLink = document.createElement('div');\n",
              "          docLink.innerHTML = docLinkHtml;\n",
              "          element.appendChild(docLink);\n",
              "        }\n",
              "      </script>\n",
              "    </div>\n",
              "  </div>\n",
              "  "
            ]
          },
          "metadata": {},
          "execution_count": 10
        }
      ],
      "source": [
        "DataFrameSummary(df_train[cat_vars]).summary().loc[['uniques', 'types', 'missing']].T"
      ]
    },
    {
      "cell_type": "code",
      "execution_count": null,
      "metadata": {
        "id": "ZrqP5wo42iCn"
      },
      "outputs": [],
      "source": [
        "# Reemplaza nulls por \"\" en categoricas\n",
        "# for v in cat_vars: df_train.loc[df_train[v].isnull(), v] = \"\""
      ]
    },
    {
      "cell_type": "code",
      "execution_count": null,
      "metadata": {
        "id": "_e58iT5y2iCn"
      },
      "outputs": [],
      "source": [
        "# for v in cat_vars: df_test.loc[df_test[v].isnull(), v] = \"\""
      ]
    },
    {
      "cell_type": "markdown",
      "metadata": {
        "id": "VWjUeZve2iCn"
      },
      "source": [
        "# Continuos Vars"
      ]
    },
    {
      "cell_type": "code",
      "execution_count": null,
      "metadata": {
        "id": "LnaJhCHv2iCo",
        "outputId": "ae0730ac-4995-436f-dddf-cba75de708c4",
        "colab": {
          "base_uri": "https://localhost:8080/"
        }
      },
      "outputs": [
        {
          "output_type": "execute_result",
          "data": {
            "text/plain": [
              "Index(['Store', 'DayOfWeek', 'Date', 'Sales', 'Customers', 'Open', 'Promo',\n",
              "       'StateHoliday', 'SchoolHoliday', 'Year', 'Month', 'Week', 'Day',\n",
              "       'StoreType', 'Assortment', 'CompetitionDistance',\n",
              "       'CompetitionOpenSinceMonth', 'CompetitionOpenSinceYear', 'Promo2',\n",
              "       'Promo2SinceWeek', 'Promo2SinceYear', 'PromoInterval',\n",
              "       'CompetitionOpenSince', 'Promo2Since', 'State', 'file', 'week', 'trend',\n",
              "       'Date_y', 'Month_y', 'Day_y', 'file_DE', 'week_DE', 'trend_DE',\n",
              "       'Date_DE', 'State_DE', 'Month_DE', 'Day_DE', 'file_y',\n",
              "       'Max_TemperatureC', 'Mean_TemperatureC', 'Min_TemperatureC',\n",
              "       'Dew_PointC', 'MeanDew_PointC', 'Min_DewpointC', 'Max_Humidity',\n",
              "       'Mean_Humidity', 'Min_Humidity', 'Max_Sea_Level_PressurehPa',\n",
              "       'Mean_Sea_Level_PressurehPa', 'Min_Sea_Level_PressurehPa',\n",
              "       'Max_VisibilityKm', 'Mean_VisibilityKm', 'Min_VisibilitykM',\n",
              "       'Max_Wind_SpeedKm_h', 'Mean_Wind_SpeedKm_h', 'Max_Gust_SpeedKm_h',\n",
              "       'Precipitationmm', 'CloudCover', 'Events', 'WindDirDegrees',\n",
              "       'StateName', 'Year_y', 'Week_y', 'CompetitionDaysOpen',\n",
              "       'CompetitionMonthsOpen', 'Promo2Days', 'Promo2Weeks',\n",
              "       'StateHoliday_bool', 'AfterSchoolHoliday', 'BeforeSchoolHoliday',\n",
              "       'AfterStateHoliday_bool', 'BeforeStateHoliday_bool', 'AfterPromo',\n",
              "       'BeforePromo', 'SchoolHoliday_bw', 'StateHoliday_bool_bw', 'Promo_bw',\n",
              "       'SchoolHoliday_fw', 'StateHoliday_bool_fw', 'Promo_fw'],\n",
              "      dtype='object')"
            ]
          },
          "metadata": {},
          "execution_count": 11
        }
      ],
      "source": [
        "df_train.columns"
      ]
    },
    {
      "cell_type": "code",
      "execution_count": null,
      "metadata": {
        "id": "AcjEH9ta2iCo"
      },
      "outputs": [],
      "source": [
        "contin_vars = ['CompetitionDistance', \n",
        "               'Max_TemperatureC', 'Mean_TemperatureC', 'Min_TemperatureC', \n",
        "               'Precipitationmm', 'Max_Humidity', 'Mean_Humidity', 'Min_Humidity', \n",
        "               'Max_Wind_SpeedKm_h', 'Mean_Wind_SpeedKm_h', 'CloudCover', 'trend', \n",
        "               'trend_DE', 'AfterStateHoliday_bool', 'BeforeStateHoliday_bool', \n",
        "               'Promo', 'SchoolHoliday', 'StateHoliday_bool']"
      ]
    },
    {
      "cell_type": "code",
      "execution_count": null,
      "metadata": {
        "id": "ttKTbdBj2iCo",
        "outputId": "6f8dae2d-395d-45fa-bab4-29e0961b6c9d",
        "colab": {
          "base_uri": "https://localhost:8080/",
          "height": 614
        }
      },
      "outputs": [
        {
          "output_type": "execute_result",
          "data": {
            "text/plain": [
              "                        uniques    types missing\n",
              "CompetitionDistance         654  numeric       0\n",
              "Max_TemperatureC             50  numeric       0\n",
              "Mean_TemperatureC            45  numeric       0\n",
              "Min_TemperatureC             40  numeric       0\n",
              "Precipitationmm              40  numeric       0\n",
              "Max_Humidity                 52  numeric       0\n",
              "Mean_Humidity                71  numeric       0\n",
              "Min_Humidity                 93  numeric       0\n",
              "Max_Wind_SpeedKm_h           42  numeric       0\n",
              "Mean_Wind_SpeedKm_h          27  numeric       0\n",
              "CloudCover                    9  numeric       0\n",
              "trend                        67  numeric       0\n",
              "trend_DE                     38  numeric       0\n",
              "AfterStateHoliday_bool      136  numeric       0\n",
              "BeforeStateHoliday_bool     147  numeric       0\n",
              "Promo                         2     bool       0\n",
              "SchoolHoliday                 2     bool       0\n",
              "StateHoliday_bool             2     bool       0"
            ],
            "text/html": [
              "\n",
              "  <div id=\"df-c4dfa995-62f3-427f-b887-852560e40c28\">\n",
              "    <div class=\"colab-df-container\">\n",
              "      <div>\n",
              "<style scoped>\n",
              "    .dataframe tbody tr th:only-of-type {\n",
              "        vertical-align: middle;\n",
              "    }\n",
              "\n",
              "    .dataframe tbody tr th {\n",
              "        vertical-align: top;\n",
              "    }\n",
              "\n",
              "    .dataframe thead th {\n",
              "        text-align: right;\n",
              "    }\n",
              "</style>\n",
              "<table border=\"1\" class=\"dataframe\">\n",
              "  <thead>\n",
              "    <tr style=\"text-align: right;\">\n",
              "      <th></th>\n",
              "      <th>uniques</th>\n",
              "      <th>types</th>\n",
              "      <th>missing</th>\n",
              "    </tr>\n",
              "  </thead>\n",
              "  <tbody>\n",
              "    <tr>\n",
              "      <th>CompetitionDistance</th>\n",
              "      <td>654</td>\n",
              "      <td>numeric</td>\n",
              "      <td>0</td>\n",
              "    </tr>\n",
              "    <tr>\n",
              "      <th>Max_TemperatureC</th>\n",
              "      <td>50</td>\n",
              "      <td>numeric</td>\n",
              "      <td>0</td>\n",
              "    </tr>\n",
              "    <tr>\n",
              "      <th>Mean_TemperatureC</th>\n",
              "      <td>45</td>\n",
              "      <td>numeric</td>\n",
              "      <td>0</td>\n",
              "    </tr>\n",
              "    <tr>\n",
              "      <th>Min_TemperatureC</th>\n",
              "      <td>40</td>\n",
              "      <td>numeric</td>\n",
              "      <td>0</td>\n",
              "    </tr>\n",
              "    <tr>\n",
              "      <th>Precipitationmm</th>\n",
              "      <td>40</td>\n",
              "      <td>numeric</td>\n",
              "      <td>0</td>\n",
              "    </tr>\n",
              "    <tr>\n",
              "      <th>Max_Humidity</th>\n",
              "      <td>52</td>\n",
              "      <td>numeric</td>\n",
              "      <td>0</td>\n",
              "    </tr>\n",
              "    <tr>\n",
              "      <th>Mean_Humidity</th>\n",
              "      <td>71</td>\n",
              "      <td>numeric</td>\n",
              "      <td>0</td>\n",
              "    </tr>\n",
              "    <tr>\n",
              "      <th>Min_Humidity</th>\n",
              "      <td>93</td>\n",
              "      <td>numeric</td>\n",
              "      <td>0</td>\n",
              "    </tr>\n",
              "    <tr>\n",
              "      <th>Max_Wind_SpeedKm_h</th>\n",
              "      <td>42</td>\n",
              "      <td>numeric</td>\n",
              "      <td>0</td>\n",
              "    </tr>\n",
              "    <tr>\n",
              "      <th>Mean_Wind_SpeedKm_h</th>\n",
              "      <td>27</td>\n",
              "      <td>numeric</td>\n",
              "      <td>0</td>\n",
              "    </tr>\n",
              "    <tr>\n",
              "      <th>CloudCover</th>\n",
              "      <td>9</td>\n",
              "      <td>numeric</td>\n",
              "      <td>0</td>\n",
              "    </tr>\n",
              "    <tr>\n",
              "      <th>trend</th>\n",
              "      <td>67</td>\n",
              "      <td>numeric</td>\n",
              "      <td>0</td>\n",
              "    </tr>\n",
              "    <tr>\n",
              "      <th>trend_DE</th>\n",
              "      <td>38</td>\n",
              "      <td>numeric</td>\n",
              "      <td>0</td>\n",
              "    </tr>\n",
              "    <tr>\n",
              "      <th>AfterStateHoliday_bool</th>\n",
              "      <td>136</td>\n",
              "      <td>numeric</td>\n",
              "      <td>0</td>\n",
              "    </tr>\n",
              "    <tr>\n",
              "      <th>BeforeStateHoliday_bool</th>\n",
              "      <td>147</td>\n",
              "      <td>numeric</td>\n",
              "      <td>0</td>\n",
              "    </tr>\n",
              "    <tr>\n",
              "      <th>Promo</th>\n",
              "      <td>2</td>\n",
              "      <td>bool</td>\n",
              "      <td>0</td>\n",
              "    </tr>\n",
              "    <tr>\n",
              "      <th>SchoolHoliday</th>\n",
              "      <td>2</td>\n",
              "      <td>bool</td>\n",
              "      <td>0</td>\n",
              "    </tr>\n",
              "    <tr>\n",
              "      <th>StateHoliday_bool</th>\n",
              "      <td>2</td>\n",
              "      <td>bool</td>\n",
              "      <td>0</td>\n",
              "    </tr>\n",
              "  </tbody>\n",
              "</table>\n",
              "</div>\n",
              "      <button class=\"colab-df-convert\" onclick=\"convertToInteractive('df-c4dfa995-62f3-427f-b887-852560e40c28')\"\n",
              "              title=\"Convert this dataframe to an interactive table.\"\n",
              "              style=\"display:none;\">\n",
              "        \n",
              "  <svg xmlns=\"http://www.w3.org/2000/svg\" height=\"24px\"viewBox=\"0 0 24 24\"\n",
              "       width=\"24px\">\n",
              "    <path d=\"M0 0h24v24H0V0z\" fill=\"none\"/>\n",
              "    <path d=\"M18.56 5.44l.94 2.06.94-2.06 2.06-.94-2.06-.94-.94-2.06-.94 2.06-2.06.94zm-11 1L8.5 8.5l.94-2.06 2.06-.94-2.06-.94L8.5 2.5l-.94 2.06-2.06.94zm10 10l.94 2.06.94-2.06 2.06-.94-2.06-.94-.94-2.06-.94 2.06-2.06.94z\"/><path d=\"M17.41 7.96l-1.37-1.37c-.4-.4-.92-.59-1.43-.59-.52 0-1.04.2-1.43.59L10.3 9.45l-7.72 7.72c-.78.78-.78 2.05 0 2.83L4 21.41c.39.39.9.59 1.41.59.51 0 1.02-.2 1.41-.59l7.78-7.78 2.81-2.81c.8-.78.8-2.07 0-2.86zM5.41 20L4 18.59l7.72-7.72 1.47 1.35L5.41 20z\"/>\n",
              "  </svg>\n",
              "      </button>\n",
              "      \n",
              "  <style>\n",
              "    .colab-df-container {\n",
              "      display:flex;\n",
              "      flex-wrap:wrap;\n",
              "      gap: 12px;\n",
              "    }\n",
              "\n",
              "    .colab-df-convert {\n",
              "      background-color: #E8F0FE;\n",
              "      border: none;\n",
              "      border-radius: 50%;\n",
              "      cursor: pointer;\n",
              "      display: none;\n",
              "      fill: #1967D2;\n",
              "      height: 32px;\n",
              "      padding: 0 0 0 0;\n",
              "      width: 32px;\n",
              "    }\n",
              "\n",
              "    .colab-df-convert:hover {\n",
              "      background-color: #E2EBFA;\n",
              "      box-shadow: 0px 1px 2px rgba(60, 64, 67, 0.3), 0px 1px 3px 1px rgba(60, 64, 67, 0.15);\n",
              "      fill: #174EA6;\n",
              "    }\n",
              "\n",
              "    [theme=dark] .colab-df-convert {\n",
              "      background-color: #3B4455;\n",
              "      fill: #D2E3FC;\n",
              "    }\n",
              "\n",
              "    [theme=dark] .colab-df-convert:hover {\n",
              "      background-color: #434B5C;\n",
              "      box-shadow: 0px 1px 3px 1px rgba(0, 0, 0, 0.15);\n",
              "      filter: drop-shadow(0px 1px 2px rgba(0, 0, 0, 0.3));\n",
              "      fill: #FFFFFF;\n",
              "    }\n",
              "  </style>\n",
              "\n",
              "      <script>\n",
              "        const buttonEl =\n",
              "          document.querySelector('#df-c4dfa995-62f3-427f-b887-852560e40c28 button.colab-df-convert');\n",
              "        buttonEl.style.display =\n",
              "          google.colab.kernel.accessAllowed ? 'block' : 'none';\n",
              "\n",
              "        async function convertToInteractive(key) {\n",
              "          const element = document.querySelector('#df-c4dfa995-62f3-427f-b887-852560e40c28');\n",
              "          const dataTable =\n",
              "            await google.colab.kernel.invokeFunction('convertToInteractive',\n",
              "                                                     [key], {});\n",
              "          if (!dataTable) return;\n",
              "\n",
              "          const docLinkHtml = 'Like what you see? Visit the ' +\n",
              "            '<a target=\"_blank\" href=https://colab.research.google.com/notebooks/data_table.ipynb>data table notebook</a>'\n",
              "            + ' to learn more about interactive tables.';\n",
              "          element.innerHTML = '';\n",
              "          dataTable['output_type'] = 'display_data';\n",
              "          await google.colab.output.renderOutput(dataTable, element);\n",
              "          const docLink = document.createElement('div');\n",
              "          docLink.innerHTML = docLinkHtml;\n",
              "          element.appendChild(docLink);\n",
              "        }\n",
              "      </script>\n",
              "    </div>\n",
              "  </div>\n",
              "  "
            ]
          },
          "metadata": {},
          "execution_count": 13
        }
      ],
      "source": [
        "DataFrameSummary(df_train[contin_vars]).summary().loc[['uniques', 'types', 'missing']].T"
      ]
    },
    {
      "cell_type": "code",
      "execution_count": null,
      "metadata": {
        "id": "zsTV_En32iCp"
      },
      "outputs": [],
      "source": [
        "# Reemplaza nulls por 0 en continuas\n",
        "# for v in contin_vars: df_train.loc[df_train[v].isnull(), v] = 0\n",
        "# for v in contin_vars: df_test.loc[df_test[v].isnull(), v] = 0"
      ]
    },
    {
      "cell_type": "markdown",
      "metadata": {
        "id": "5Mt22jSd2iCq"
      },
      "source": [
        "# Normalización en continuas y LabelEncode en Categoricas"
      ]
    },
    {
      "cell_type": "code",
      "execution_count": null,
      "metadata": {
        "id": "IpNav3hh2iCr",
        "colab": {
          "base_uri": "https://localhost:8080/"
        },
        "outputId": "6ced2887-3281-40b1-e8a5-873bfd0a1c3f"
      },
      "outputs": [
        {
          "output_type": "stream",
          "name": "stdout",
          "text": [
            "Looking in indexes: https://pypi.org/simple, https://us-python.pkg.dev/colab-wheels/public/simple/\n",
            "Requirement already satisfied: sklearn_pandas in /usr/local/lib/python3.7/dist-packages (1.8.0)\n",
            "Requirement already satisfied: scipy>=0.14 in /usr/local/lib/python3.7/dist-packages (from sklearn_pandas) (1.7.3)\n",
            "Requirement already satisfied: pandas>=0.11.0 in /usr/local/lib/python3.7/dist-packages (from sklearn_pandas) (1.3.5)\n",
            "Requirement already satisfied: numpy>=1.6.1 in /usr/local/lib/python3.7/dist-packages (from sklearn_pandas) (1.21.6)\n",
            "Requirement already satisfied: scikit-learn>=0.15.0 in /usr/local/lib/python3.7/dist-packages (from sklearn_pandas) (1.0.2)\n",
            "Requirement already satisfied: pytz>=2017.3 in /usr/local/lib/python3.7/dist-packages (from pandas>=0.11.0->sklearn_pandas) (2022.5)\n",
            "Requirement already satisfied: python-dateutil>=2.7.3 in /usr/local/lib/python3.7/dist-packages (from pandas>=0.11.0->sklearn_pandas) (2.8.2)\n",
            "Requirement already satisfied: six>=1.5 in /usr/local/lib/python3.7/dist-packages (from python-dateutil>=2.7.3->pandas>=0.11.0->sklearn_pandas) (1.15.0)\n",
            "Requirement already satisfied: threadpoolctl>=2.0.0 in /usr/local/lib/python3.7/dist-packages (from scikit-learn>=0.15.0->sklearn_pandas) (3.1.0)\n",
            "Requirement already satisfied: joblib>=0.11 in /usr/local/lib/python3.7/dist-packages (from scikit-learn>=0.15.0->sklearn_pandas) (1.2.0)\n"
          ]
        }
      ],
      "source": [
        "!pip install sklearn_pandas\n",
        "from sklearn_pandas import DataFrameMapper"
      ]
    },
    {
      "cell_type": "code",
      "execution_count": null,
      "metadata": {
        "id": "NGc84_3X2iCr"
      },
      "outputs": [],
      "source": [
        "cat_maps = [(o, LabelEncoder()) for o in cat_vars] # LabelEncoder a cada elemento le asigna un indice\n",
        "contin_maps = [([o], StandardScaler()) for o in contin_vars] # Estandariza restando la media y dividiendo por el desvio estandar"
      ]
    },
    {
      "cell_type": "code",
      "execution_count": null,
      "metadata": {
        "id": "NhHOgAB02iCr"
      },
      "outputs": [],
      "source": [
        "mapper_cat = DataFrameMapper(cat_maps)\n",
        "_ = mapper_cat.fit(df_train)"
      ]
    },
    {
      "cell_type": "code",
      "execution_count": null,
      "metadata": {
        "id": "zxmtYD_32iCs",
        "outputId": "9744a033-f7d3-4ffe-b301-e689ef2b9137",
        "colab": {
          "base_uri": "https://localhost:8080/"
        }
      },
      "outputs": [
        {
          "output_type": "stream",
          "name": "stdout",
          "text": [
            "[('a', 0), ('a', 0), ('a', 0), ('c', 2), ('a', 0), ('a', 0), ('c', 2), ('a', 0), ('c', 2), ('a', 0)]\n",
            "[('Fog', 0), ('Fog', 0), ('Fog', 0), ('Sunny', 20), ('Sunny', 20), ('Sunny', 20), ('Rain', 10), ('Rain', 10), ('Fog', 0), ('Sunny', 20)]\n",
            "[(2015, 2), (2015, 2), (2015, 2), (2015, 2), (2015, 2), (2015, 2), (2015, 2), (2015, 2), (2015, 2), (2015, 2)]\n"
          ]
        }
      ],
      "source": [
        "# Assortment es la novena posición en cat_maps\n",
        "N = 10\n",
        "print(list(zip(df_train['Assortment'].values[:N], mapper_cat.transform(df_train)[:,9][:N])))\n",
        "print(list(zip(df_train['Events'].values[:N], mapper_cat.transform(df_train)[:,15][:N])))\n",
        "print(list(zip(df_train['Year'].values[:N], mapper_cat.transform(df_train)[:,2][:N])))"
      ]
    },
    {
      "cell_type": "code",
      "execution_count": null,
      "metadata": {
        "id": "s3TQ26hd2iCs"
      },
      "outputs": [],
      "source": [
        "mapper_cont = DataFrameMapper(contin_maps)\n",
        "_ = mapper_cont.fit(df_train)"
      ]
    },
    {
      "cell_type": "code",
      "execution_count": null,
      "metadata": {
        "id": "KPnNl-FA2iCt",
        "outputId": "c39ffd84-1804-451c-bf25-e5daed96d657",
        "colab": {
          "base_uri": "https://localhost:8080/"
        }
      },
      "outputs": [
        {
          "output_type": "stream",
          "name": "stdout",
          "text": [
            "[ 1270.   570. 14130.   620. 29910.   310. 24000.  7520.  2030.  3160.]\n",
            "[-0.51104292 -0.59341201  1.00219483 -0.5875285   2.85902934 -0.62400624\n",
            "  2.16359893  0.22439533 -0.42161363 -0.28864639]\n"
          ]
        }
      ],
      "source": [
        "N = 10\n",
        "print(df_train['CompetitionDistance'].values[:N])\n",
        "print(mapper_cont.transform(df_train)[:, 0][:N])"
      ]
    },
    {
      "cell_type": "code",
      "execution_count": null,
      "metadata": {
        "id": "K0lMAO3v2iCt"
      },
      "outputs": [],
      "source": [
        "# La hacemos con todas ahora\n",
        "df_train[cat_vars] = mapper_cat.transform(df_train)\n",
        "df_test[cat_vars] = mapper_cat.transform(df_test)"
      ]
    },
    {
      "cell_type": "code",
      "execution_count": null,
      "metadata": {
        "id": "cJeNjJkM2iCt"
      },
      "outputs": [],
      "source": [
        "df_train[contin_vars] = mapper_cont.transform(df_train)\n",
        "df_test[contin_vars] = mapper_cont.transform(df_test)"
      ]
    },
    {
      "cell_type": "code",
      "execution_count": null,
      "metadata": {
        "id": "OlkBThCk2iCt",
        "outputId": "acf4398d-b9aa-48f4-add0-a0812626e5a8",
        "colab": {
          "base_uri": "https://localhost:8080/",
          "height": 386
        }
      },
      "outputs": [
        {
          "output_type": "execute_result",
          "data": {
            "text/plain": [
              "   Store  DayOfWeek       Date  Sales  Customers  Open     Promo  \\\n",
              "0      0          4 2015-07-31   5263        555     1  1.273237   \n",
              "1      1          4 2015-07-31   6064        625     1  1.273237   \n",
              "2      2          4 2015-07-31   8314        821     1  1.273237   \n",
              "3      3          4 2015-07-31  13995       1498     1  1.273237   \n",
              "4      4          4 2015-07-31   4822        559     1  1.273237   \n",
              "\n",
              "   StateHoliday  SchoolHoliday  Year  ...  AfterStateHoliday_bool  \\\n",
              "0             0       2.144211     2  ...                0.644376   \n",
              "1             0       2.144211     2  ...                0.965073   \n",
              "2             0       2.144211     2  ...                0.644376   \n",
              "3             0       2.144211     2  ...                0.965073   \n",
              "4             0       2.144211     2  ...                0.644376   \n",
              "\n",
              "   BeforeStateHoliday_bool  AfterPromo  BeforePromo  SchoolHoliday_bw  \\\n",
              "0                 1.072424           0            0                 5   \n",
              "1                 1.072424           0            0                 5   \n",
              "2                 1.072424           0            0                 5   \n",
              "3                 1.072424           0            0                 5   \n",
              "4                 1.072424           0            0                 5   \n",
              "\n",
              "   StateHoliday_bool_bw  Promo_bw  SchoolHoliday_fw  StateHoliday_bool_fw  \\\n",
              "0                     0         5                 1                     0   \n",
              "1                     0         5                 1                     0   \n",
              "2                     0         5                 1                     0   \n",
              "3                     0         5                 1                     0   \n",
              "4                     0         5                 1                     0   \n",
              "\n",
              "   Promo_fw  \n",
              "0         1  \n",
              "1         1  \n",
              "2         1  \n",
              "3         1  \n",
              "4         1  \n",
              "\n",
              "[5 rows x 81 columns]"
            ],
            "text/html": [
              "\n",
              "  <div id=\"df-b92b483d-d67b-4b51-923f-51660353edf5\">\n",
              "    <div class=\"colab-df-container\">\n",
              "      <div>\n",
              "<style scoped>\n",
              "    .dataframe tbody tr th:only-of-type {\n",
              "        vertical-align: middle;\n",
              "    }\n",
              "\n",
              "    .dataframe tbody tr th {\n",
              "        vertical-align: top;\n",
              "    }\n",
              "\n",
              "    .dataframe thead th {\n",
              "        text-align: right;\n",
              "    }\n",
              "</style>\n",
              "<table border=\"1\" class=\"dataframe\">\n",
              "  <thead>\n",
              "    <tr style=\"text-align: right;\">\n",
              "      <th></th>\n",
              "      <th>Store</th>\n",
              "      <th>DayOfWeek</th>\n",
              "      <th>Date</th>\n",
              "      <th>Sales</th>\n",
              "      <th>Customers</th>\n",
              "      <th>Open</th>\n",
              "      <th>Promo</th>\n",
              "      <th>StateHoliday</th>\n",
              "      <th>SchoolHoliday</th>\n",
              "      <th>Year</th>\n",
              "      <th>...</th>\n",
              "      <th>AfterStateHoliday_bool</th>\n",
              "      <th>BeforeStateHoliday_bool</th>\n",
              "      <th>AfterPromo</th>\n",
              "      <th>BeforePromo</th>\n",
              "      <th>SchoolHoliday_bw</th>\n",
              "      <th>StateHoliday_bool_bw</th>\n",
              "      <th>Promo_bw</th>\n",
              "      <th>SchoolHoliday_fw</th>\n",
              "      <th>StateHoliday_bool_fw</th>\n",
              "      <th>Promo_fw</th>\n",
              "    </tr>\n",
              "  </thead>\n",
              "  <tbody>\n",
              "    <tr>\n",
              "      <th>0</th>\n",
              "      <td>0</td>\n",
              "      <td>4</td>\n",
              "      <td>2015-07-31</td>\n",
              "      <td>5263</td>\n",
              "      <td>555</td>\n",
              "      <td>1</td>\n",
              "      <td>1.273237</td>\n",
              "      <td>0</td>\n",
              "      <td>2.144211</td>\n",
              "      <td>2</td>\n",
              "      <td>...</td>\n",
              "      <td>0.644376</td>\n",
              "      <td>1.072424</td>\n",
              "      <td>0</td>\n",
              "      <td>0</td>\n",
              "      <td>5</td>\n",
              "      <td>0</td>\n",
              "      <td>5</td>\n",
              "      <td>1</td>\n",
              "      <td>0</td>\n",
              "      <td>1</td>\n",
              "    </tr>\n",
              "    <tr>\n",
              "      <th>1</th>\n",
              "      <td>1</td>\n",
              "      <td>4</td>\n",
              "      <td>2015-07-31</td>\n",
              "      <td>6064</td>\n",
              "      <td>625</td>\n",
              "      <td>1</td>\n",
              "      <td>1.273237</td>\n",
              "      <td>0</td>\n",
              "      <td>2.144211</td>\n",
              "      <td>2</td>\n",
              "      <td>...</td>\n",
              "      <td>0.965073</td>\n",
              "      <td>1.072424</td>\n",
              "      <td>0</td>\n",
              "      <td>0</td>\n",
              "      <td>5</td>\n",
              "      <td>0</td>\n",
              "      <td>5</td>\n",
              "      <td>1</td>\n",
              "      <td>0</td>\n",
              "      <td>1</td>\n",
              "    </tr>\n",
              "    <tr>\n",
              "      <th>2</th>\n",
              "      <td>2</td>\n",
              "      <td>4</td>\n",
              "      <td>2015-07-31</td>\n",
              "      <td>8314</td>\n",
              "      <td>821</td>\n",
              "      <td>1</td>\n",
              "      <td>1.273237</td>\n",
              "      <td>0</td>\n",
              "      <td>2.144211</td>\n",
              "      <td>2</td>\n",
              "      <td>...</td>\n",
              "      <td>0.644376</td>\n",
              "      <td>1.072424</td>\n",
              "      <td>0</td>\n",
              "      <td>0</td>\n",
              "      <td>5</td>\n",
              "      <td>0</td>\n",
              "      <td>5</td>\n",
              "      <td>1</td>\n",
              "      <td>0</td>\n",
              "      <td>1</td>\n",
              "    </tr>\n",
              "    <tr>\n",
              "      <th>3</th>\n",
              "      <td>3</td>\n",
              "      <td>4</td>\n",
              "      <td>2015-07-31</td>\n",
              "      <td>13995</td>\n",
              "      <td>1498</td>\n",
              "      <td>1</td>\n",
              "      <td>1.273237</td>\n",
              "      <td>0</td>\n",
              "      <td>2.144211</td>\n",
              "      <td>2</td>\n",
              "      <td>...</td>\n",
              "      <td>0.965073</td>\n",
              "      <td>1.072424</td>\n",
              "      <td>0</td>\n",
              "      <td>0</td>\n",
              "      <td>5</td>\n",
              "      <td>0</td>\n",
              "      <td>5</td>\n",
              "      <td>1</td>\n",
              "      <td>0</td>\n",
              "      <td>1</td>\n",
              "    </tr>\n",
              "    <tr>\n",
              "      <th>4</th>\n",
              "      <td>4</td>\n",
              "      <td>4</td>\n",
              "      <td>2015-07-31</td>\n",
              "      <td>4822</td>\n",
              "      <td>559</td>\n",
              "      <td>1</td>\n",
              "      <td>1.273237</td>\n",
              "      <td>0</td>\n",
              "      <td>2.144211</td>\n",
              "      <td>2</td>\n",
              "      <td>...</td>\n",
              "      <td>0.644376</td>\n",
              "      <td>1.072424</td>\n",
              "      <td>0</td>\n",
              "      <td>0</td>\n",
              "      <td>5</td>\n",
              "      <td>0</td>\n",
              "      <td>5</td>\n",
              "      <td>1</td>\n",
              "      <td>0</td>\n",
              "      <td>1</td>\n",
              "    </tr>\n",
              "  </tbody>\n",
              "</table>\n",
              "<p>5 rows × 81 columns</p>\n",
              "</div>\n",
              "      <button class=\"colab-df-convert\" onclick=\"convertToInteractive('df-b92b483d-d67b-4b51-923f-51660353edf5')\"\n",
              "              title=\"Convert this dataframe to an interactive table.\"\n",
              "              style=\"display:none;\">\n",
              "        \n",
              "  <svg xmlns=\"http://www.w3.org/2000/svg\" height=\"24px\"viewBox=\"0 0 24 24\"\n",
              "       width=\"24px\">\n",
              "    <path d=\"M0 0h24v24H0V0z\" fill=\"none\"/>\n",
              "    <path d=\"M18.56 5.44l.94 2.06.94-2.06 2.06-.94-2.06-.94-.94-2.06-.94 2.06-2.06.94zm-11 1L8.5 8.5l.94-2.06 2.06-.94-2.06-.94L8.5 2.5l-.94 2.06-2.06.94zm10 10l.94 2.06.94-2.06 2.06-.94-2.06-.94-.94-2.06-.94 2.06-2.06.94z\"/><path d=\"M17.41 7.96l-1.37-1.37c-.4-.4-.92-.59-1.43-.59-.52 0-1.04.2-1.43.59L10.3 9.45l-7.72 7.72c-.78.78-.78 2.05 0 2.83L4 21.41c.39.39.9.59 1.41.59.51 0 1.02-.2 1.41-.59l7.78-7.78 2.81-2.81c.8-.78.8-2.07 0-2.86zM5.41 20L4 18.59l7.72-7.72 1.47 1.35L5.41 20z\"/>\n",
              "  </svg>\n",
              "      </button>\n",
              "      \n",
              "  <style>\n",
              "    .colab-df-container {\n",
              "      display:flex;\n",
              "      flex-wrap:wrap;\n",
              "      gap: 12px;\n",
              "    }\n",
              "\n",
              "    .colab-df-convert {\n",
              "      background-color: #E8F0FE;\n",
              "      border: none;\n",
              "      border-radius: 50%;\n",
              "      cursor: pointer;\n",
              "      display: none;\n",
              "      fill: #1967D2;\n",
              "      height: 32px;\n",
              "      padding: 0 0 0 0;\n",
              "      width: 32px;\n",
              "    }\n",
              "\n",
              "    .colab-df-convert:hover {\n",
              "      background-color: #E2EBFA;\n",
              "      box-shadow: 0px 1px 2px rgba(60, 64, 67, 0.3), 0px 1px 3px 1px rgba(60, 64, 67, 0.15);\n",
              "      fill: #174EA6;\n",
              "    }\n",
              "\n",
              "    [theme=dark] .colab-df-convert {\n",
              "      background-color: #3B4455;\n",
              "      fill: #D2E3FC;\n",
              "    }\n",
              "\n",
              "    [theme=dark] .colab-df-convert:hover {\n",
              "      background-color: #434B5C;\n",
              "      box-shadow: 0px 1px 3px 1px rgba(0, 0, 0, 0.15);\n",
              "      filter: drop-shadow(0px 1px 2px rgba(0, 0, 0, 0.3));\n",
              "      fill: #FFFFFF;\n",
              "    }\n",
              "  </style>\n",
              "\n",
              "      <script>\n",
              "        const buttonEl =\n",
              "          document.querySelector('#df-b92b483d-d67b-4b51-923f-51660353edf5 button.colab-df-convert');\n",
              "        buttonEl.style.display =\n",
              "          google.colab.kernel.accessAllowed ? 'block' : 'none';\n",
              "\n",
              "        async function convertToInteractive(key) {\n",
              "          const element = document.querySelector('#df-b92b483d-d67b-4b51-923f-51660353edf5');\n",
              "          const dataTable =\n",
              "            await google.colab.kernel.invokeFunction('convertToInteractive',\n",
              "                                                     [key], {});\n",
              "          if (!dataTable) return;\n",
              "\n",
              "          const docLinkHtml = 'Like what you see? Visit the ' +\n",
              "            '<a target=\"_blank\" href=https://colab.research.google.com/notebooks/data_table.ipynb>data table notebook</a>'\n",
              "            + ' to learn more about interactive tables.';\n",
              "          element.innerHTML = '';\n",
              "          dataTable['output_type'] = 'display_data';\n",
              "          await google.colab.output.renderOutput(dataTable, element);\n",
              "          const docLink = document.createElement('div');\n",
              "          docLink.innerHTML = docLinkHtml;\n",
              "          element.appendChild(docLink);\n",
              "        }\n",
              "      </script>\n",
              "    </div>\n",
              "  </div>\n",
              "  "
            ]
          },
          "metadata": {},
          "execution_count": 22
        }
      ],
      "source": [
        "df_train.head()"
      ]
    },
    {
      "cell_type": "code",
      "execution_count": null,
      "metadata": {
        "id": "eCnpUnCY2iCt",
        "outputId": "5422eb7c-f8a5-4796-976d-f893c46a7281",
        "colab": {
          "base_uri": "https://localhost:8080/",
          "height": 205
        }
      },
      "outputs": [
        {
          "output_type": "execute_result",
          "data": {
            "text/plain": [
              "           Store DayOfWeek     Year    Month      Day StateHoliday  \\\n",
              "uniques     1115         7        3       12       31            4   \n",
              "types    numeric   numeric  numeric  numeric  numeric      numeric   \n",
              "\n",
              "        CompetitionMonthsOpen Promo2Weeks StoreType Assortment  ...  \\\n",
              "uniques                    25          26         4          3  ...   \n",
              "types                 numeric     numeric   numeric    numeric  ...   \n",
              "\n",
              "        Promo2SinceYear    State     Week   Events Promo_fw Promo_bw  \\\n",
              "uniques               8       12       52       22        6        6   \n",
              "types           numeric  numeric  numeric  numeric  numeric  numeric   \n",
              "\n",
              "        StateHoliday_bool_fw StateHoliday_bool_bw SchoolHoliday_fw  \\\n",
              "uniques                    3                    3                8   \n",
              "types                numeric              numeric          numeric   \n",
              "\n",
              "        SchoolHoliday_bw  \n",
              "uniques                8  \n",
              "types            numeric  \n",
              "\n",
              "[2 rows x 22 columns]"
            ],
            "text/html": [
              "\n",
              "  <div id=\"df-56c2e7b2-a450-448e-97e0-5042566d7152\">\n",
              "    <div class=\"colab-df-container\">\n",
              "      <div>\n",
              "<style scoped>\n",
              "    .dataframe tbody tr th:only-of-type {\n",
              "        vertical-align: middle;\n",
              "    }\n",
              "\n",
              "    .dataframe tbody tr th {\n",
              "        vertical-align: top;\n",
              "    }\n",
              "\n",
              "    .dataframe thead th {\n",
              "        text-align: right;\n",
              "    }\n",
              "</style>\n",
              "<table border=\"1\" class=\"dataframe\">\n",
              "  <thead>\n",
              "    <tr style=\"text-align: right;\">\n",
              "      <th></th>\n",
              "      <th>Store</th>\n",
              "      <th>DayOfWeek</th>\n",
              "      <th>Year</th>\n",
              "      <th>Month</th>\n",
              "      <th>Day</th>\n",
              "      <th>StateHoliday</th>\n",
              "      <th>CompetitionMonthsOpen</th>\n",
              "      <th>Promo2Weeks</th>\n",
              "      <th>StoreType</th>\n",
              "      <th>Assortment</th>\n",
              "      <th>...</th>\n",
              "      <th>Promo2SinceYear</th>\n",
              "      <th>State</th>\n",
              "      <th>Week</th>\n",
              "      <th>Events</th>\n",
              "      <th>Promo_fw</th>\n",
              "      <th>Promo_bw</th>\n",
              "      <th>StateHoliday_bool_fw</th>\n",
              "      <th>StateHoliday_bool_bw</th>\n",
              "      <th>SchoolHoliday_fw</th>\n",
              "      <th>SchoolHoliday_bw</th>\n",
              "    </tr>\n",
              "  </thead>\n",
              "  <tbody>\n",
              "    <tr>\n",
              "      <th>uniques</th>\n",
              "      <td>1115</td>\n",
              "      <td>7</td>\n",
              "      <td>3</td>\n",
              "      <td>12</td>\n",
              "      <td>31</td>\n",
              "      <td>4</td>\n",
              "      <td>25</td>\n",
              "      <td>26</td>\n",
              "      <td>4</td>\n",
              "      <td>3</td>\n",
              "      <td>...</td>\n",
              "      <td>8</td>\n",
              "      <td>12</td>\n",
              "      <td>52</td>\n",
              "      <td>22</td>\n",
              "      <td>6</td>\n",
              "      <td>6</td>\n",
              "      <td>3</td>\n",
              "      <td>3</td>\n",
              "      <td>8</td>\n",
              "      <td>8</td>\n",
              "    </tr>\n",
              "    <tr>\n",
              "      <th>types</th>\n",
              "      <td>numeric</td>\n",
              "      <td>numeric</td>\n",
              "      <td>numeric</td>\n",
              "      <td>numeric</td>\n",
              "      <td>numeric</td>\n",
              "      <td>numeric</td>\n",
              "      <td>numeric</td>\n",
              "      <td>numeric</td>\n",
              "      <td>numeric</td>\n",
              "      <td>numeric</td>\n",
              "      <td>...</td>\n",
              "      <td>numeric</td>\n",
              "      <td>numeric</td>\n",
              "      <td>numeric</td>\n",
              "      <td>numeric</td>\n",
              "      <td>numeric</td>\n",
              "      <td>numeric</td>\n",
              "      <td>numeric</td>\n",
              "      <td>numeric</td>\n",
              "      <td>numeric</td>\n",
              "      <td>numeric</td>\n",
              "    </tr>\n",
              "  </tbody>\n",
              "</table>\n",
              "<p>2 rows × 22 columns</p>\n",
              "</div>\n",
              "      <button class=\"colab-df-convert\" onclick=\"convertToInteractive('df-56c2e7b2-a450-448e-97e0-5042566d7152')\"\n",
              "              title=\"Convert this dataframe to an interactive table.\"\n",
              "              style=\"display:none;\">\n",
              "        \n",
              "  <svg xmlns=\"http://www.w3.org/2000/svg\" height=\"24px\"viewBox=\"0 0 24 24\"\n",
              "       width=\"24px\">\n",
              "    <path d=\"M0 0h24v24H0V0z\" fill=\"none\"/>\n",
              "    <path d=\"M18.56 5.44l.94 2.06.94-2.06 2.06-.94-2.06-.94-.94-2.06-.94 2.06-2.06.94zm-11 1L8.5 8.5l.94-2.06 2.06-.94-2.06-.94L8.5 2.5l-.94 2.06-2.06.94zm10 10l.94 2.06.94-2.06 2.06-.94-2.06-.94-.94-2.06-.94 2.06-2.06.94z\"/><path d=\"M17.41 7.96l-1.37-1.37c-.4-.4-.92-.59-1.43-.59-.52 0-1.04.2-1.43.59L10.3 9.45l-7.72 7.72c-.78.78-.78 2.05 0 2.83L4 21.41c.39.39.9.59 1.41.59.51 0 1.02-.2 1.41-.59l7.78-7.78 2.81-2.81c.8-.78.8-2.07 0-2.86zM5.41 20L4 18.59l7.72-7.72 1.47 1.35L5.41 20z\"/>\n",
              "  </svg>\n",
              "      </button>\n",
              "      \n",
              "  <style>\n",
              "    .colab-df-container {\n",
              "      display:flex;\n",
              "      flex-wrap:wrap;\n",
              "      gap: 12px;\n",
              "    }\n",
              "\n",
              "    .colab-df-convert {\n",
              "      background-color: #E8F0FE;\n",
              "      border: none;\n",
              "      border-radius: 50%;\n",
              "      cursor: pointer;\n",
              "      display: none;\n",
              "      fill: #1967D2;\n",
              "      height: 32px;\n",
              "      padding: 0 0 0 0;\n",
              "      width: 32px;\n",
              "    }\n",
              "\n",
              "    .colab-df-convert:hover {\n",
              "      background-color: #E2EBFA;\n",
              "      box-shadow: 0px 1px 2px rgba(60, 64, 67, 0.3), 0px 1px 3px 1px rgba(60, 64, 67, 0.15);\n",
              "      fill: #174EA6;\n",
              "    }\n",
              "\n",
              "    [theme=dark] .colab-df-convert {\n",
              "      background-color: #3B4455;\n",
              "      fill: #D2E3FC;\n",
              "    }\n",
              "\n",
              "    [theme=dark] .colab-df-convert:hover {\n",
              "      background-color: #434B5C;\n",
              "      box-shadow: 0px 1px 3px 1px rgba(0, 0, 0, 0.15);\n",
              "      filter: drop-shadow(0px 1px 2px rgba(0, 0, 0, 0.3));\n",
              "      fill: #FFFFFF;\n",
              "    }\n",
              "  </style>\n",
              "\n",
              "      <script>\n",
              "        const buttonEl =\n",
              "          document.querySelector('#df-56c2e7b2-a450-448e-97e0-5042566d7152 button.colab-df-convert');\n",
              "        buttonEl.style.display =\n",
              "          google.colab.kernel.accessAllowed ? 'block' : 'none';\n",
              "\n",
              "        async function convertToInteractive(key) {\n",
              "          const element = document.querySelector('#df-56c2e7b2-a450-448e-97e0-5042566d7152');\n",
              "          const dataTable =\n",
              "            await google.colab.kernel.invokeFunction('convertToInteractive',\n",
              "                                                     [key], {});\n",
              "          if (!dataTable) return;\n",
              "\n",
              "          const docLinkHtml = 'Like what you see? Visit the ' +\n",
              "            '<a target=\"_blank\" href=https://colab.research.google.com/notebooks/data_table.ipynb>data table notebook</a>'\n",
              "            + ' to learn more about interactive tables.';\n",
              "          element.innerHTML = '';\n",
              "          dataTable['output_type'] = 'display_data';\n",
              "          await google.colab.output.renderOutput(dataTable, element);\n",
              "          const docLink = document.createElement('div');\n",
              "          docLink.innerHTML = docLinkHtml;\n",
              "          element.appendChild(docLink);\n",
              "        }\n",
              "      </script>\n",
              "    </div>\n",
              "  </div>\n",
              "  "
            ]
          },
          "metadata": {},
          "execution_count": 23
        }
      ],
      "source": [
        "DataFrameSummary(df_train[cat_vars]).summary().loc[['uniques', 'types']]"
      ]
    },
    {
      "cell_type": "markdown",
      "metadata": {
        "id": "mucoDUeU2iCu"
      },
      "source": [
        "# Final processing"
      ]
    },
    {
      "cell_type": "code",
      "execution_count": null,
      "metadata": {
        "id": "kuAl60_Z2iCu",
        "outputId": "5269ce2e-001b-44be-e74e-c16017b554ab",
        "colab": {
          "base_uri": "https://localhost:8080/"
        }
      },
      "outputs": [
        {
          "output_type": "execute_result",
          "data": {
            "text/plain": [
              "(1017209, 81)"
            ]
          },
          "metadata": {},
          "execution_count": 24
        }
      ],
      "source": [
        "df_train.shape"
      ]
    },
    {
      "cell_type": "code",
      "execution_count": null,
      "metadata": {
        "id": "Qd2_ew5A2iCu"
      },
      "outputs": [],
      "source": [
        "df_sales = df_train[df_train.Sales!=0]"
      ]
    },
    {
      "cell_type": "code",
      "execution_count": null,
      "metadata": {
        "id": "ajWzyVWV2iCu",
        "outputId": "dfda5442-ea9e-457c-ee83-6d6f9f313ef5",
        "colab": {
          "base_uri": "https://localhost:8080/"
        }
      },
      "outputs": [
        {
          "output_type": "execute_result",
          "data": {
            "text/plain": [
              "(844338, 81)"
            ]
          },
          "metadata": {},
          "execution_count": 26
        }
      ],
      "source": [
        "df_sales.shape"
      ]
    },
    {
      "cell_type": "code",
      "execution_count": null,
      "metadata": {
        "id": "fwIMrtlu2iCu"
      },
      "outputs": [],
      "source": [
        "df_test.reset_index(inplace=True)"
      ]
    },
    {
      "cell_type": "code",
      "execution_count": null,
      "metadata": {
        "id": "1BzlBD3b2iCv"
      },
      "outputs": [],
      "source": [
        "df_sales.reset_index(inplace=True)"
      ]
    },
    {
      "cell_type": "code",
      "execution_count": null,
      "metadata": {
        "id": "mTYhEupo2iCv"
      },
      "outputs": [],
      "source": [
        "df_sales.to_feather('train_normalized_data.fth')"
      ]
    },
    {
      "cell_type": "code",
      "execution_count": null,
      "metadata": {
        "id": "vCHXpatE2iCv"
      },
      "outputs": [],
      "source": [
        "df_test.to_feather('test_normalized_data.fth')"
      ]
    },
    {
      "cell_type": "code",
      "execution_count": null,
      "metadata": {
        "id": "PzuhL2or2iCv",
        "outputId": "c32b149a-e8d0-4a30-d159-9d1e4a294afe",
        "colab": {
          "base_uri": "https://localhost:8080/"
        }
      },
      "outputs": [
        {
          "output_type": "execute_result",
          "data": {
            "text/plain": [
              "5984"
            ]
          },
          "metadata": {},
          "execution_count": 31
        }
      ],
      "source": [
        "(df_test['Open'] == 0).sum()"
      ]
    },
    {
      "cell_type": "code",
      "execution_count": null,
      "metadata": {
        "id": "HKeEce0a2iCv",
        "outputId": "7c08e582-9cd4-46bd-8004-0c662e3c59a3",
        "colab": {
          "base_uri": "https://localhost:8080/"
        }
      },
      "outputs": [
        {
          "output_type": "execute_result",
          "data": {
            "text/plain": [
              "0"
            ]
          },
          "metadata": {},
          "execution_count": 32
        }
      ],
      "source": [
        "(df_sales['Open'] == 0).sum()"
      ]
    },
    {
      "cell_type": "code",
      "execution_count": null,
      "metadata": {
        "id": "7ZOcOLb42iCw",
        "outputId": "c445fad3-f8e0-48d2-e73d-5e33ed8645da",
        "colab": {
          "base_uri": "https://localhost:8080/"
        }
      },
      "outputs": [
        {
          "output_type": "execute_result",
          "data": {
            "text/plain": [
              "0"
            ]
          },
          "metadata": {},
          "execution_count": 33
        }
      ],
      "source": [
        "(df_train['CompetitionDistance'].isna()).sum()"
      ]
    },
    {
      "cell_type": "code",
      "execution_count": null,
      "metadata": {
        "id": "Rvc0UgHp2iCw",
        "colab": {
          "base_uri": "https://localhost:8080/",
          "height": 35
        },
        "outputId": "47630509-bb4f-48b0-dd6e-5d9916fa70fc"
      },
      "outputs": [
        {
          "output_type": "execute_result",
          "data": {
            "text/plain": [
              "'/content/drive/MyDrive/Colab Notebooks/Redes Neuronales/TP2/train_normalized_data.fth'"
            ],
            "application/vnd.google.colaboratory.intrinsic+json": {
              "type": "string"
            }
          },
          "metadata": {},
          "execution_count": 36
        }
      ],
      "source": [
        "import shutil\n",
        "shutil.copy(\"/content/test_normalized_data.fth\",\"/content/drive/MyDrive/Colab Notebooks/Redes Neuronales/TP2\")\n",
        "shutil.copy(\"/content/train_normalized_data.fth\",\"/content/drive/MyDrive/Colab Notebooks/Redes Neuronales/TP2\")"
      ]
    }
  ],
  "metadata": {
    "kernelspec": {
      "display_name": "Python 3",
      "language": "python",
      "name": "python3"
    },
    "language_info": {
      "codemirror_mode": {
        "name": "ipython",
        "version": 3
      },
      "file_extension": ".py",
      "mimetype": "text/x-python",
      "name": "python",
      "nbconvert_exporter": "python",
      "pygments_lexer": "ipython3",
      "version": "3.6.10"
    },
    "colab": {
      "provenance": [],
      "include_colab_link": true
    }
  },
  "nbformat": 4,
  "nbformat_minor": 0
}