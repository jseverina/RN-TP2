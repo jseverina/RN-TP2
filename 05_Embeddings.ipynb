{
  "cells": [
    {
      "cell_type": "markdown",
      "source": [
        "Un embedding es una transformacion de un tipo de dato a un vector continuo. Tipicamente son datos de alta dimensionalidad. Se pueden transformar variables categoricas a variables continuas, sabiendo que las redes neuronales trabajan mejor con variables continuas. Un embedding se puede ver como una tablita donde a cada variable se le asigna una tira de numeros. Existe una etapa de entrenamiento en donde se perfecciona la eleccion de los numeros asignados. Una forma de hacerlo es haciendo un vector en donde cada posicion representa a una variable y se le pone un 1 a la variable seleccionada y de ahi se seleccionan los numeros que representa a la variable (Fig 1 del paper). "
      ],
      "metadata": {
        "id": "3dQUkxys3qyg"
      }
    },
    {
      "cell_type": "code",
      "execution_count": null,
      "metadata": {
        "id": "9uwDbKGK3fvV"
      },
      "outputs": [],
      "source": [
        "from tensorflow.compat.v1 import ConfigProto\n",
        "from tensorflow.compat.v1 import InteractiveSession\n",
        "config = ConfigProto()\n",
        "config.gpu_options.allow_growth = True\n",
        "session = InteractiveSession(config=config)"
      ]
    },
    {
      "cell_type": "code",
      "execution_count": null,
      "metadata": {
        "id": "uQUo2uuf3fvc",
        "colab": {
          "base_uri": "https://localhost:8080/"
        },
        "outputId": "401a4ff2-6ac5-413d-8183-de5b59730f28"
      },
      "outputs": [
        {
          "output_type": "stream",
          "name": "stdout",
          "text": [
            "Looking in indexes: https://pypi.org/simple, https://us-python.pkg.dev/colab-wheels/public/simple/\n",
            "Collecting pandas_summary\n",
            "  Downloading pandas_summary-0.2.0-py2.py3-none-any.whl (5.2 kB)\n",
            "Requirement already satisfied: numpy in /usr/local/lib/python3.7/dist-packages (from pandas_summary) (1.21.6)\n",
            "Collecting datatile\n",
            "  Downloading datatile-1.0.3-py3-none-any.whl (6.0 kB)\n",
            "Requirement already satisfied: pandas in /usr/local/lib/python3.7/dist-packages (from pandas_summary) (1.3.5)\n",
            "Collecting traceml<1.1\n",
            "  Downloading traceml-1.0.3-py3-none-any.whl (127 kB)\n",
            "\u001b[K     |████████████████████████████████| 127 kB 16.1 MB/s \n",
            "\u001b[?25hRequirement already satisfied: python-dateutil>=2.7.3 in /usr/local/lib/python3.7/dist-packages (from pandas->pandas_summary) (2.8.2)\n",
            "Requirement already satisfied: pytz>=2017.3 in /usr/local/lib/python3.7/dist-packages (from pandas->pandas_summary) (2022.5)\n",
            "Requirement already satisfied: six>=1.5 in /usr/local/lib/python3.7/dist-packages (from python-dateutil>=2.7.3->pandas->pandas_summary) (1.15.0)\n",
            "Installing collected packages: traceml, datatile, pandas-summary\n",
            "Successfully installed datatile-1.0.3 pandas-summary-0.2.0 traceml-1.0.3\n"
          ]
        }
      ],
      "source": [
        "import pandas as pd\n",
        "import numpy as np\n",
        "import datetime\n",
        "!pip install pandas_summary\n",
        "from pandas_summary import DataFrameSummary"
      ]
    },
    {
      "cell_type": "code",
      "source": [
        "from google.colab import drive\n",
        "drive.mount('/content/drive')\n",
        "path = '/content/drive/MyDrive/Colab Notebooks/Redes Neuronales/TP2/'"
      ],
      "metadata": {
        "colab": {
          "base_uri": "https://localhost:8080/"
        },
        "id": "eQ2Uq0NKCRPL",
        "outputId": "ee068d88-285e-4bcd-ac95-46a06ac82478"
      },
      "execution_count": null,
      "outputs": [
        {
          "output_type": "stream",
          "name": "stdout",
          "text": [
            "Drive already mounted at /content/drive; to attempt to forcibly remount, call drive.mount(\"/content/drive\", force_remount=True).\n"
          ]
        }
      ]
    },
    {
      "cell_type": "code",
      "execution_count": null,
      "metadata": {
        "id": "5-_4fNII3fvd"
      },
      "outputs": [],
      "source": [
        "df_test = pd.read_feather(path + 'test_normalized_data.fth')"
      ]
    },
    {
      "cell_type": "markdown",
      "metadata": {
        "id": "jypFcyFJ3fvd"
      },
      "source": [
        "- Para verificar que columnas tiene originalmente tests. Por ejemplo, como es de esperar, la columna customers no es dato y podría intentar estimarse tambien\n",
        "- Es bastante discutible usar el clima y temperatura (Se puede usar el forecast si es en el futuro\n",
        "- En un caso real no parece sensato usar google trend"
      ]
    },
    {
      "cell_type": "code",
      "execution_count": null,
      "metadata": {
        "id": "U1Al0zHU3fvh",
        "outputId": "2444aa3e-d850-4fe5-c59b-ab27af8f9485",
        "colab": {
          "base_uri": "https://localhost:8080/"
        }
      },
      "outputs": [
        {
          "output_type": "execute_result",
          "data": {
            "text/plain": [
              "Index(['index', 'Id', 'Store', 'DayOfWeek', 'Date', 'Open', 'Promo',\n",
              "       'StateHoliday', 'SchoolHoliday', 'Year', 'Month', 'Week', 'Day',\n",
              "       'StoreType', 'Assortment', 'CompetitionDistance',\n",
              "       'CompetitionOpenSinceMonth', 'CompetitionOpenSinceYear', 'Promo2',\n",
              "       'Promo2SinceWeek', 'Promo2SinceYear', 'PromoInterval',\n",
              "       'CompetitionOpenSince', 'Promo2Since', 'State', 'file', 'week', 'trend',\n",
              "       'Date_y', 'Month_y', 'Day_y', 'file_DE', 'week_DE', 'trend_DE',\n",
              "       'Date_DE', 'State_DE', 'Month_DE', 'Day_DE', 'file_y',\n",
              "       'Max_TemperatureC', 'Mean_TemperatureC', 'Min_TemperatureC',\n",
              "       'Dew_PointC', 'MeanDew_PointC', 'Min_DewpointC', 'Max_Humidity',\n",
              "       'Mean_Humidity', 'Min_Humidity', 'Max_Sea_Level_PressurehPa',\n",
              "       'Mean_Sea_Level_PressurehPa', 'Min_Sea_Level_PressurehPa',\n",
              "       'Max_VisibilityKm', 'Mean_VisibilityKm', 'Min_VisibilitykM',\n",
              "       'Max_Wind_SpeedKm_h', 'Mean_Wind_SpeedKm_h', 'Max_Gust_SpeedKm_h',\n",
              "       'Precipitationmm', 'CloudCover', 'Events', 'WindDirDegrees',\n",
              "       'StateName', 'Year_y', 'Week_y', 'CompetitionDaysOpen',\n",
              "       'CompetitionMonthsOpen', 'Promo2Days', 'Promo2Weeks',\n",
              "       'StateHoliday_bool', 'AfterSchoolHoliday', 'BeforeSchoolHoliday',\n",
              "       'AfterStateHoliday_bool', 'BeforeStateHoliday_bool', 'AfterPromo',\n",
              "       'BeforePromo', 'SchoolHoliday_bw', 'StateHoliday_bool_bw', 'Promo_bw',\n",
              "       'SchoolHoliday_fw', 'StateHoliday_bool_fw', 'Promo_fw'],\n",
              "      dtype='object')"
            ]
          },
          "metadata": {},
          "execution_count": 9
        }
      ],
      "source": [
        "df_test.columns"
      ]
    },
    {
      "cell_type": "code",
      "execution_count": null,
      "metadata": {
        "id": "PrddhUzA3fvi"
      },
      "outputs": [],
      "source": [
        "df = pd.read_feather(path + 'train_normalized_data.fth')"
      ]
    },
    {
      "cell_type": "code",
      "execution_count": null,
      "metadata": {
        "id": "jNzCLcza3fvj"
      },
      "outputs": [],
      "source": [
        "cat_vars = ['Store', 'DayOfWeek', 'Year', 'Month', 'Day', 'StateHoliday', 'CompetitionMonthsOpen', 'Promo2Weeks', \n",
        "            'StoreType', 'Assortment', 'PromoInterval', 'CompetitionOpenSinceYear', 'Promo2SinceYear', 'State', \n",
        "            'Week', 'Events', 'Promo_fw', 'Promo_bw', 'StateHoliday_bool_fw', 'StateHoliday_bool_bw', 'SchoolHoliday_fw', 'SchoolHoliday_bw']"
      ]
    },
    {
      "cell_type": "code",
      "execution_count": null,
      "metadata": {
        "id": "IIg8pKBJ3fvk"
      },
      "outputs": [],
      "source": [
        "contin_vars = ['CompetitionDistance', \n",
        "   'Max_TemperatureC', 'Mean_TemperatureC', 'Min_TemperatureC',\n",
        "   'Max_Humidity', 'Mean_Humidity', 'Min_Humidity', 'Max_Wind_SpeedKm_h', \n",
        "   'Mean_Wind_SpeedKm_h', 'CloudCover', 'trend', 'trend_DE',\n",
        "   'AfterStateHoliday', 'BeforeStateHoliday', 'Promo', 'SchoolHoliday']"
      ]
    },
    {
      "cell_type": "code",
      "source": [
        "df"
      ],
      "metadata": {
        "colab": {
          "base_uri": "https://localhost:8080/",
          "height": 661
        },
        "id": "CR5SNdC7Dh2K",
        "outputId": "390723c6-ac94-446f-8db1-9999cdb49044"
      },
      "execution_count": null,
      "outputs": [
        {
          "output_type": "execute_result",
          "data": {
            "text/plain": [
              "          index  Store  DayOfWeek       Date  Sales  Customers  Open  \\\n",
              "0             0      0          4 2015-07-31   5263        555     1   \n",
              "1             1      1          4 2015-07-31   6064        625     1   \n",
              "2             2      2          4 2015-07-31   8314        821     1   \n",
              "3             3      3          4 2015-07-31  13995       1498     1   \n",
              "4             4      4          4 2015-07-31   4822        559     1   \n",
              "...         ...    ...        ...        ...    ...        ...   ...   \n",
              "844333  1016776    681          1 2013-01-01   3375        566     1   \n",
              "844334  1016827    732          1 2013-01-01  10765       2377     1   \n",
              "844335  1016863    768          1 2013-01-01   5035       1248     1   \n",
              "844336  1017042    947          1 2013-01-01   4491       1039     1   \n",
              "844337  1017190   1096          1 2013-01-01   5961       1405     1   \n",
              "\n",
              "           Promo  StateHoliday  SchoolHoliday  ...  AfterStateHoliday_bool  \\\n",
              "0       1.273237             0       2.144211  ...                0.644376   \n",
              "1       1.273237             0       2.144211  ...                0.965073   \n",
              "2       1.273237             0       2.144211  ...                0.644376   \n",
              "3       1.273237             0       2.144211  ...                0.965073   \n",
              "4       1.273237             0       2.144211  ...                0.644376   \n",
              "...          ...           ...            ...  ...                     ...   \n",
              "844333 -0.785400             1       2.144211  ...               -1.183596   \n",
              "844334 -0.785400             1       2.144211  ...               -1.183596   \n",
              "844335 -0.785400             1       2.144211  ...               -1.183596   \n",
              "844336 -0.785400             1       2.144211  ...               -1.183596   \n",
              "844337 -0.785400             1       2.144211  ...               -1.183596   \n",
              "\n",
              "        BeforeStateHoliday_bool  AfterPromo  BeforePromo  SchoolHoliday_bw  \\\n",
              "0                      1.072424           0            0                 5   \n",
              "1                      1.072424           0            0                 5   \n",
              "2                      1.072424           0            0                 5   \n",
              "3                      1.072424           0            0                 5   \n",
              "4                      1.072424           0            0                 5   \n",
              "...                         ...         ...          ...               ...   \n",
              "844333                 1.072424           0           -6                 1   \n",
              "844334                 1.072424           0           -6                 1   \n",
              "844335                 1.072424           0           -6                 1   \n",
              "844336                 1.072424           0           -6                 1   \n",
              "844337                 1.072424           0           -6                 1   \n",
              "\n",
              "        StateHoliday_bool_bw  Promo_bw  SchoolHoliday_fw  \\\n",
              "0                          0         5                 1   \n",
              "1                          0         5                 1   \n",
              "2                          0         5                 1   \n",
              "3                          0         5                 1   \n",
              "4                          0         5                 1   \n",
              "...                      ...       ...               ...   \n",
              "844333                     1         0                 4   \n",
              "844334                     1         0                 4   \n",
              "844335                     1         0                 4   \n",
              "844336                     1         0                 4   \n",
              "844337                     1         0                 4   \n",
              "\n",
              "        StateHoliday_bool_fw  Promo_fw  \n",
              "0                          0         1  \n",
              "1                          0         1  \n",
              "2                          0         1  \n",
              "3                          0         1  \n",
              "4                          0         1  \n",
              "...                      ...       ...  \n",
              "844333                     1         1  \n",
              "844334                     1         1  \n",
              "844335                     1         1  \n",
              "844336                     2         1  \n",
              "844337                     1         1  \n",
              "\n",
              "[844338 rows x 82 columns]"
            ],
            "text/html": [
              "\n",
              "  <div id=\"df-0e19108e-df3e-4817-860c-71d1357ae1f4\">\n",
              "    <div class=\"colab-df-container\">\n",
              "      <div>\n",
              "<style scoped>\n",
              "    .dataframe tbody tr th:only-of-type {\n",
              "        vertical-align: middle;\n",
              "    }\n",
              "\n",
              "    .dataframe tbody tr th {\n",
              "        vertical-align: top;\n",
              "    }\n",
              "\n",
              "    .dataframe thead th {\n",
              "        text-align: right;\n",
              "    }\n",
              "</style>\n",
              "<table border=\"1\" class=\"dataframe\">\n",
              "  <thead>\n",
              "    <tr style=\"text-align: right;\">\n",
              "      <th></th>\n",
              "      <th>index</th>\n",
              "      <th>Store</th>\n",
              "      <th>DayOfWeek</th>\n",
              "      <th>Date</th>\n",
              "      <th>Sales</th>\n",
              "      <th>Customers</th>\n",
              "      <th>Open</th>\n",
              "      <th>Promo</th>\n",
              "      <th>StateHoliday</th>\n",
              "      <th>SchoolHoliday</th>\n",
              "      <th>...</th>\n",
              "      <th>AfterStateHoliday_bool</th>\n",
              "      <th>BeforeStateHoliday_bool</th>\n",
              "      <th>AfterPromo</th>\n",
              "      <th>BeforePromo</th>\n",
              "      <th>SchoolHoliday_bw</th>\n",
              "      <th>StateHoliday_bool_bw</th>\n",
              "      <th>Promo_bw</th>\n",
              "      <th>SchoolHoliday_fw</th>\n",
              "      <th>StateHoliday_bool_fw</th>\n",
              "      <th>Promo_fw</th>\n",
              "    </tr>\n",
              "  </thead>\n",
              "  <tbody>\n",
              "    <tr>\n",
              "      <th>0</th>\n",
              "      <td>0</td>\n",
              "      <td>0</td>\n",
              "      <td>4</td>\n",
              "      <td>2015-07-31</td>\n",
              "      <td>5263</td>\n",
              "      <td>555</td>\n",
              "      <td>1</td>\n",
              "      <td>1.273237</td>\n",
              "      <td>0</td>\n",
              "      <td>2.144211</td>\n",
              "      <td>...</td>\n",
              "      <td>0.644376</td>\n",
              "      <td>1.072424</td>\n",
              "      <td>0</td>\n",
              "      <td>0</td>\n",
              "      <td>5</td>\n",
              "      <td>0</td>\n",
              "      <td>5</td>\n",
              "      <td>1</td>\n",
              "      <td>0</td>\n",
              "      <td>1</td>\n",
              "    </tr>\n",
              "    <tr>\n",
              "      <th>1</th>\n",
              "      <td>1</td>\n",
              "      <td>1</td>\n",
              "      <td>4</td>\n",
              "      <td>2015-07-31</td>\n",
              "      <td>6064</td>\n",
              "      <td>625</td>\n",
              "      <td>1</td>\n",
              "      <td>1.273237</td>\n",
              "      <td>0</td>\n",
              "      <td>2.144211</td>\n",
              "      <td>...</td>\n",
              "      <td>0.965073</td>\n",
              "      <td>1.072424</td>\n",
              "      <td>0</td>\n",
              "      <td>0</td>\n",
              "      <td>5</td>\n",
              "      <td>0</td>\n",
              "      <td>5</td>\n",
              "      <td>1</td>\n",
              "      <td>0</td>\n",
              "      <td>1</td>\n",
              "    </tr>\n",
              "    <tr>\n",
              "      <th>2</th>\n",
              "      <td>2</td>\n",
              "      <td>2</td>\n",
              "      <td>4</td>\n",
              "      <td>2015-07-31</td>\n",
              "      <td>8314</td>\n",
              "      <td>821</td>\n",
              "      <td>1</td>\n",
              "      <td>1.273237</td>\n",
              "      <td>0</td>\n",
              "      <td>2.144211</td>\n",
              "      <td>...</td>\n",
              "      <td>0.644376</td>\n",
              "      <td>1.072424</td>\n",
              "      <td>0</td>\n",
              "      <td>0</td>\n",
              "      <td>5</td>\n",
              "      <td>0</td>\n",
              "      <td>5</td>\n",
              "      <td>1</td>\n",
              "      <td>0</td>\n",
              "      <td>1</td>\n",
              "    </tr>\n",
              "    <tr>\n",
              "      <th>3</th>\n",
              "      <td>3</td>\n",
              "      <td>3</td>\n",
              "      <td>4</td>\n",
              "      <td>2015-07-31</td>\n",
              "      <td>13995</td>\n",
              "      <td>1498</td>\n",
              "      <td>1</td>\n",
              "      <td>1.273237</td>\n",
              "      <td>0</td>\n",
              "      <td>2.144211</td>\n",
              "      <td>...</td>\n",
              "      <td>0.965073</td>\n",
              "      <td>1.072424</td>\n",
              "      <td>0</td>\n",
              "      <td>0</td>\n",
              "      <td>5</td>\n",
              "      <td>0</td>\n",
              "      <td>5</td>\n",
              "      <td>1</td>\n",
              "      <td>0</td>\n",
              "      <td>1</td>\n",
              "    </tr>\n",
              "    <tr>\n",
              "      <th>4</th>\n",
              "      <td>4</td>\n",
              "      <td>4</td>\n",
              "      <td>4</td>\n",
              "      <td>2015-07-31</td>\n",
              "      <td>4822</td>\n",
              "      <td>559</td>\n",
              "      <td>1</td>\n",
              "      <td>1.273237</td>\n",
              "      <td>0</td>\n",
              "      <td>2.144211</td>\n",
              "      <td>...</td>\n",
              "      <td>0.644376</td>\n",
              "      <td>1.072424</td>\n",
              "      <td>0</td>\n",
              "      <td>0</td>\n",
              "      <td>5</td>\n",
              "      <td>0</td>\n",
              "      <td>5</td>\n",
              "      <td>1</td>\n",
              "      <td>0</td>\n",
              "      <td>1</td>\n",
              "    </tr>\n",
              "    <tr>\n",
              "      <th>...</th>\n",
              "      <td>...</td>\n",
              "      <td>...</td>\n",
              "      <td>...</td>\n",
              "      <td>...</td>\n",
              "      <td>...</td>\n",
              "      <td>...</td>\n",
              "      <td>...</td>\n",
              "      <td>...</td>\n",
              "      <td>...</td>\n",
              "      <td>...</td>\n",
              "      <td>...</td>\n",
              "      <td>...</td>\n",
              "      <td>...</td>\n",
              "      <td>...</td>\n",
              "      <td>...</td>\n",
              "      <td>...</td>\n",
              "      <td>...</td>\n",
              "      <td>...</td>\n",
              "      <td>...</td>\n",
              "      <td>...</td>\n",
              "      <td>...</td>\n",
              "    </tr>\n",
              "    <tr>\n",
              "      <th>844333</th>\n",
              "      <td>1016776</td>\n",
              "      <td>681</td>\n",
              "      <td>1</td>\n",
              "      <td>2013-01-01</td>\n",
              "      <td>3375</td>\n",
              "      <td>566</td>\n",
              "      <td>1</td>\n",
              "      <td>-0.785400</td>\n",
              "      <td>1</td>\n",
              "      <td>2.144211</td>\n",
              "      <td>...</td>\n",
              "      <td>-1.183596</td>\n",
              "      <td>1.072424</td>\n",
              "      <td>0</td>\n",
              "      <td>-6</td>\n",
              "      <td>1</td>\n",
              "      <td>1</td>\n",
              "      <td>0</td>\n",
              "      <td>4</td>\n",
              "      <td>1</td>\n",
              "      <td>1</td>\n",
              "    </tr>\n",
              "    <tr>\n",
              "      <th>844334</th>\n",
              "      <td>1016827</td>\n",
              "      <td>732</td>\n",
              "      <td>1</td>\n",
              "      <td>2013-01-01</td>\n",
              "      <td>10765</td>\n",
              "      <td>2377</td>\n",
              "      <td>1</td>\n",
              "      <td>-0.785400</td>\n",
              "      <td>1</td>\n",
              "      <td>2.144211</td>\n",
              "      <td>...</td>\n",
              "      <td>-1.183596</td>\n",
              "      <td>1.072424</td>\n",
              "      <td>0</td>\n",
              "      <td>-6</td>\n",
              "      <td>1</td>\n",
              "      <td>1</td>\n",
              "      <td>0</td>\n",
              "      <td>4</td>\n",
              "      <td>1</td>\n",
              "      <td>1</td>\n",
              "    </tr>\n",
              "    <tr>\n",
              "      <th>844335</th>\n",
              "      <td>1016863</td>\n",
              "      <td>768</td>\n",
              "      <td>1</td>\n",
              "      <td>2013-01-01</td>\n",
              "      <td>5035</td>\n",
              "      <td>1248</td>\n",
              "      <td>1</td>\n",
              "      <td>-0.785400</td>\n",
              "      <td>1</td>\n",
              "      <td>2.144211</td>\n",
              "      <td>...</td>\n",
              "      <td>-1.183596</td>\n",
              "      <td>1.072424</td>\n",
              "      <td>0</td>\n",
              "      <td>-6</td>\n",
              "      <td>1</td>\n",
              "      <td>1</td>\n",
              "      <td>0</td>\n",
              "      <td>4</td>\n",
              "      <td>1</td>\n",
              "      <td>1</td>\n",
              "    </tr>\n",
              "    <tr>\n",
              "      <th>844336</th>\n",
              "      <td>1017042</td>\n",
              "      <td>947</td>\n",
              "      <td>1</td>\n",
              "      <td>2013-01-01</td>\n",
              "      <td>4491</td>\n",
              "      <td>1039</td>\n",
              "      <td>1</td>\n",
              "      <td>-0.785400</td>\n",
              "      <td>1</td>\n",
              "      <td>2.144211</td>\n",
              "      <td>...</td>\n",
              "      <td>-1.183596</td>\n",
              "      <td>1.072424</td>\n",
              "      <td>0</td>\n",
              "      <td>-6</td>\n",
              "      <td>1</td>\n",
              "      <td>1</td>\n",
              "      <td>0</td>\n",
              "      <td>4</td>\n",
              "      <td>2</td>\n",
              "      <td>1</td>\n",
              "    </tr>\n",
              "    <tr>\n",
              "      <th>844337</th>\n",
              "      <td>1017190</td>\n",
              "      <td>1096</td>\n",
              "      <td>1</td>\n",
              "      <td>2013-01-01</td>\n",
              "      <td>5961</td>\n",
              "      <td>1405</td>\n",
              "      <td>1</td>\n",
              "      <td>-0.785400</td>\n",
              "      <td>1</td>\n",
              "      <td>2.144211</td>\n",
              "      <td>...</td>\n",
              "      <td>-1.183596</td>\n",
              "      <td>1.072424</td>\n",
              "      <td>0</td>\n",
              "      <td>-6</td>\n",
              "      <td>1</td>\n",
              "      <td>1</td>\n",
              "      <td>0</td>\n",
              "      <td>4</td>\n",
              "      <td>1</td>\n",
              "      <td>1</td>\n",
              "    </tr>\n",
              "  </tbody>\n",
              "</table>\n",
              "<p>844338 rows × 82 columns</p>\n",
              "</div>\n",
              "      <button class=\"colab-df-convert\" onclick=\"convertToInteractive('df-0e19108e-df3e-4817-860c-71d1357ae1f4')\"\n",
              "              title=\"Convert this dataframe to an interactive table.\"\n",
              "              style=\"display:none;\">\n",
              "        \n",
              "  <svg xmlns=\"http://www.w3.org/2000/svg\" height=\"24px\"viewBox=\"0 0 24 24\"\n",
              "       width=\"24px\">\n",
              "    <path d=\"M0 0h24v24H0V0z\" fill=\"none\"/>\n",
              "    <path d=\"M18.56 5.44l.94 2.06.94-2.06 2.06-.94-2.06-.94-.94-2.06-.94 2.06-2.06.94zm-11 1L8.5 8.5l.94-2.06 2.06-.94-2.06-.94L8.5 2.5l-.94 2.06-2.06.94zm10 10l.94 2.06.94-2.06 2.06-.94-2.06-.94-.94-2.06-.94 2.06-2.06.94z\"/><path d=\"M17.41 7.96l-1.37-1.37c-.4-.4-.92-.59-1.43-.59-.52 0-1.04.2-1.43.59L10.3 9.45l-7.72 7.72c-.78.78-.78 2.05 0 2.83L4 21.41c.39.39.9.59 1.41.59.51 0 1.02-.2 1.41-.59l7.78-7.78 2.81-2.81c.8-.78.8-2.07 0-2.86zM5.41 20L4 18.59l7.72-7.72 1.47 1.35L5.41 20z\"/>\n",
              "  </svg>\n",
              "      </button>\n",
              "      \n",
              "  <style>\n",
              "    .colab-df-container {\n",
              "      display:flex;\n",
              "      flex-wrap:wrap;\n",
              "      gap: 12px;\n",
              "    }\n",
              "\n",
              "    .colab-df-convert {\n",
              "      background-color: #E8F0FE;\n",
              "      border: none;\n",
              "      border-radius: 50%;\n",
              "      cursor: pointer;\n",
              "      display: none;\n",
              "      fill: #1967D2;\n",
              "      height: 32px;\n",
              "      padding: 0 0 0 0;\n",
              "      width: 32px;\n",
              "    }\n",
              "\n",
              "    .colab-df-convert:hover {\n",
              "      background-color: #E2EBFA;\n",
              "      box-shadow: 0px 1px 2px rgba(60, 64, 67, 0.3), 0px 1px 3px 1px rgba(60, 64, 67, 0.15);\n",
              "      fill: #174EA6;\n",
              "    }\n",
              "\n",
              "    [theme=dark] .colab-df-convert {\n",
              "      background-color: #3B4455;\n",
              "      fill: #D2E3FC;\n",
              "    }\n",
              "\n",
              "    [theme=dark] .colab-df-convert:hover {\n",
              "      background-color: #434B5C;\n",
              "      box-shadow: 0px 1px 3px 1px rgba(0, 0, 0, 0.15);\n",
              "      filter: drop-shadow(0px 1px 2px rgba(0, 0, 0, 0.3));\n",
              "      fill: #FFFFFF;\n",
              "    }\n",
              "  </style>\n",
              "\n",
              "      <script>\n",
              "        const buttonEl =\n",
              "          document.querySelector('#df-0e19108e-df3e-4817-860c-71d1357ae1f4 button.colab-df-convert');\n",
              "        buttonEl.style.display =\n",
              "          google.colab.kernel.accessAllowed ? 'block' : 'none';\n",
              "\n",
              "        async function convertToInteractive(key) {\n",
              "          const element = document.querySelector('#df-0e19108e-df3e-4817-860c-71d1357ae1f4');\n",
              "          const dataTable =\n",
              "            await google.colab.kernel.invokeFunction('convertToInteractive',\n",
              "                                                     [key], {});\n",
              "          if (!dataTable) return;\n",
              "\n",
              "          const docLinkHtml = 'Like what you see? Visit the ' +\n",
              "            '<a target=\"_blank\" href=https://colab.research.google.com/notebooks/data_table.ipynb>data table notebook</a>'\n",
              "            + ' to learn more about interactive tables.';\n",
              "          element.innerHTML = '';\n",
              "          dataTable['output_type'] = 'display_data';\n",
              "          await google.colab.output.renderOutput(dataTable, element);\n",
              "          const docLink = document.createElement('div');\n",
              "          docLink.innerHTML = docLinkHtml;\n",
              "          element.appendChild(docLink);\n",
              "        }\n",
              "      </script>\n",
              "    </div>\n",
              "  </div>\n",
              "  "
            ]
          },
          "metadata": {},
          "execution_count": 15
        }
      ]
    },
    {
      "cell_type": "code",
      "execution_count": null,
      "metadata": {
        "id": "mG1ykTu43fvk",
        "outputId": "9b57c531-e4e6-4019-a462-01ef7f3281cb",
        "colab": {
          "base_uri": "https://localhost:8080/",
          "height": 205
        }
      },
      "outputs": [
        {
          "output_type": "execute_result",
          "data": {
            "text/plain": [
              "           Store DayOfWeek     Year    Month      Day StateHoliday  \\\n",
              "uniques     1115         7        3       12       31            4   \n",
              "types    numeric   numeric  numeric  numeric  numeric      numeric   \n",
              "\n",
              "        CompetitionMonthsOpen Promo2Weeks StoreType Assortment  ...  \\\n",
              "uniques                    25          26         4          3  ...   \n",
              "types                 numeric     numeric   numeric    numeric  ...   \n",
              "\n",
              "        Promo2SinceYear    State     Week   Events Promo_fw Promo_bw  \\\n",
              "uniques               8       12       52       22        6        6   \n",
              "types           numeric  numeric  numeric  numeric  numeric  numeric   \n",
              "\n",
              "        StateHoliday_bool_fw StateHoliday_bool_bw SchoolHoliday_fw  \\\n",
              "uniques                    3                    3                8   \n",
              "types                numeric              numeric          numeric   \n",
              "\n",
              "        SchoolHoliday_bw  \n",
              "uniques                8  \n",
              "types            numeric  \n",
              "\n",
              "[2 rows x 22 columns]"
            ],
            "text/html": [
              "\n",
              "  <div id=\"df-5dbbe3bd-bedd-449f-8e01-bddf2f081137\">\n",
              "    <div class=\"colab-df-container\">\n",
              "      <div>\n",
              "<style scoped>\n",
              "    .dataframe tbody tr th:only-of-type {\n",
              "        vertical-align: middle;\n",
              "    }\n",
              "\n",
              "    .dataframe tbody tr th {\n",
              "        vertical-align: top;\n",
              "    }\n",
              "\n",
              "    .dataframe thead th {\n",
              "        text-align: right;\n",
              "    }\n",
              "</style>\n",
              "<table border=\"1\" class=\"dataframe\">\n",
              "  <thead>\n",
              "    <tr style=\"text-align: right;\">\n",
              "      <th></th>\n",
              "      <th>Store</th>\n",
              "      <th>DayOfWeek</th>\n",
              "      <th>Year</th>\n",
              "      <th>Month</th>\n",
              "      <th>Day</th>\n",
              "      <th>StateHoliday</th>\n",
              "      <th>CompetitionMonthsOpen</th>\n",
              "      <th>Promo2Weeks</th>\n",
              "      <th>StoreType</th>\n",
              "      <th>Assortment</th>\n",
              "      <th>...</th>\n",
              "      <th>Promo2SinceYear</th>\n",
              "      <th>State</th>\n",
              "      <th>Week</th>\n",
              "      <th>Events</th>\n",
              "      <th>Promo_fw</th>\n",
              "      <th>Promo_bw</th>\n",
              "      <th>StateHoliday_bool_fw</th>\n",
              "      <th>StateHoliday_bool_bw</th>\n",
              "      <th>SchoolHoliday_fw</th>\n",
              "      <th>SchoolHoliday_bw</th>\n",
              "    </tr>\n",
              "  </thead>\n",
              "  <tbody>\n",
              "    <tr>\n",
              "      <th>uniques</th>\n",
              "      <td>1115</td>\n",
              "      <td>7</td>\n",
              "      <td>3</td>\n",
              "      <td>12</td>\n",
              "      <td>31</td>\n",
              "      <td>4</td>\n",
              "      <td>25</td>\n",
              "      <td>26</td>\n",
              "      <td>4</td>\n",
              "      <td>3</td>\n",
              "      <td>...</td>\n",
              "      <td>8</td>\n",
              "      <td>12</td>\n",
              "      <td>52</td>\n",
              "      <td>22</td>\n",
              "      <td>6</td>\n",
              "      <td>6</td>\n",
              "      <td>3</td>\n",
              "      <td>3</td>\n",
              "      <td>8</td>\n",
              "      <td>8</td>\n",
              "    </tr>\n",
              "    <tr>\n",
              "      <th>types</th>\n",
              "      <td>numeric</td>\n",
              "      <td>numeric</td>\n",
              "      <td>numeric</td>\n",
              "      <td>numeric</td>\n",
              "      <td>numeric</td>\n",
              "      <td>numeric</td>\n",
              "      <td>numeric</td>\n",
              "      <td>numeric</td>\n",
              "      <td>numeric</td>\n",
              "      <td>numeric</td>\n",
              "      <td>...</td>\n",
              "      <td>numeric</td>\n",
              "      <td>numeric</td>\n",
              "      <td>numeric</td>\n",
              "      <td>numeric</td>\n",
              "      <td>numeric</td>\n",
              "      <td>numeric</td>\n",
              "      <td>numeric</td>\n",
              "      <td>numeric</td>\n",
              "      <td>numeric</td>\n",
              "      <td>numeric</td>\n",
              "    </tr>\n",
              "  </tbody>\n",
              "</table>\n",
              "<p>2 rows × 22 columns</p>\n",
              "</div>\n",
              "      <button class=\"colab-df-convert\" onclick=\"convertToInteractive('df-5dbbe3bd-bedd-449f-8e01-bddf2f081137')\"\n",
              "              title=\"Convert this dataframe to an interactive table.\"\n",
              "              style=\"display:none;\">\n",
              "        \n",
              "  <svg xmlns=\"http://www.w3.org/2000/svg\" height=\"24px\"viewBox=\"0 0 24 24\"\n",
              "       width=\"24px\">\n",
              "    <path d=\"M0 0h24v24H0V0z\" fill=\"none\"/>\n",
              "    <path d=\"M18.56 5.44l.94 2.06.94-2.06 2.06-.94-2.06-.94-.94-2.06-.94 2.06-2.06.94zm-11 1L8.5 8.5l.94-2.06 2.06-.94-2.06-.94L8.5 2.5l-.94 2.06-2.06.94zm10 10l.94 2.06.94-2.06 2.06-.94-2.06-.94-.94-2.06-.94 2.06-2.06.94z\"/><path d=\"M17.41 7.96l-1.37-1.37c-.4-.4-.92-.59-1.43-.59-.52 0-1.04.2-1.43.59L10.3 9.45l-7.72 7.72c-.78.78-.78 2.05 0 2.83L4 21.41c.39.39.9.59 1.41.59.51 0 1.02-.2 1.41-.59l7.78-7.78 2.81-2.81c.8-.78.8-2.07 0-2.86zM5.41 20L4 18.59l7.72-7.72 1.47 1.35L5.41 20z\"/>\n",
              "  </svg>\n",
              "      </button>\n",
              "      \n",
              "  <style>\n",
              "    .colab-df-container {\n",
              "      display:flex;\n",
              "      flex-wrap:wrap;\n",
              "      gap: 12px;\n",
              "    }\n",
              "\n",
              "    .colab-df-convert {\n",
              "      background-color: #E8F0FE;\n",
              "      border: none;\n",
              "      border-radius: 50%;\n",
              "      cursor: pointer;\n",
              "      display: none;\n",
              "      fill: #1967D2;\n",
              "      height: 32px;\n",
              "      padding: 0 0 0 0;\n",
              "      width: 32px;\n",
              "    }\n",
              "\n",
              "    .colab-df-convert:hover {\n",
              "      background-color: #E2EBFA;\n",
              "      box-shadow: 0px 1px 2px rgba(60, 64, 67, 0.3), 0px 1px 3px 1px rgba(60, 64, 67, 0.15);\n",
              "      fill: #174EA6;\n",
              "    }\n",
              "\n",
              "    [theme=dark] .colab-df-convert {\n",
              "      background-color: #3B4455;\n",
              "      fill: #D2E3FC;\n",
              "    }\n",
              "\n",
              "    [theme=dark] .colab-df-convert:hover {\n",
              "      background-color: #434B5C;\n",
              "      box-shadow: 0px 1px 3px 1px rgba(0, 0, 0, 0.15);\n",
              "      filter: drop-shadow(0px 1px 2px rgba(0, 0, 0, 0.3));\n",
              "      fill: #FFFFFF;\n",
              "    }\n",
              "  </style>\n",
              "\n",
              "      <script>\n",
              "        const buttonEl =\n",
              "          document.querySelector('#df-5dbbe3bd-bedd-449f-8e01-bddf2f081137 button.colab-df-convert');\n",
              "        buttonEl.style.display =\n",
              "          google.colab.kernel.accessAllowed ? 'block' : 'none';\n",
              "\n",
              "        async function convertToInteractive(key) {\n",
              "          const element = document.querySelector('#df-5dbbe3bd-bedd-449f-8e01-bddf2f081137');\n",
              "          const dataTable =\n",
              "            await google.colab.kernel.invokeFunction('convertToInteractive',\n",
              "                                                     [key], {});\n",
              "          if (!dataTable) return;\n",
              "\n",
              "          const docLinkHtml = 'Like what you see? Visit the ' +\n",
              "            '<a target=\"_blank\" href=https://colab.research.google.com/notebooks/data_table.ipynb>data table notebook</a>'\n",
              "            + ' to learn more about interactive tables.';\n",
              "          element.innerHTML = '';\n",
              "          dataTable['output_type'] = 'display_data';\n",
              "          await google.colab.output.renderOutput(dataTable, element);\n",
              "          const docLink = document.createElement('div');\n",
              "          docLink.innerHTML = docLinkHtml;\n",
              "          element.appendChild(docLink);\n",
              "        }\n",
              "      </script>\n",
              "    </div>\n",
              "  </div>\n",
              "  "
            ]
          },
          "metadata": {},
          "execution_count": 17
        }
      ],
      "source": [
        "DataFrameSummary(df[cat_vars]).summary().loc[['uniques', 'types']]"
      ]
    },
    {
      "cell_type": "code",
      "execution_count": null,
      "metadata": {
        "id": "tP5pj5WV3fvo"
      },
      "outputs": [],
      "source": [
        "uniques = DataFrameSummary(df[cat_vars]).summary().loc[['uniques']]"
      ]
    },
    {
      "cell_type": "code",
      "execution_count": null,
      "metadata": {
        "id": "FSBDxHRB3fvo",
        "outputId": "f5212e15-23ce-4f44-f7a1-5cd03896d521",
        "colab": {
          "base_uri": "https://localhost:8080/",
          "height": 174
        }
      },
      "outputs": [
        {
          "output_type": "execute_result",
          "data": {
            "text/plain": [
              "        Store DayOfWeek Year Month Day StateHoliday CompetitionMonthsOpen  \\\n",
              "uniques  1115         7    3    12  31            4                    25   \n",
              "\n",
              "        Promo2Weeks StoreType Assortment  ... Promo2SinceYear State Week  \\\n",
              "uniques          26         4          3  ...               8    12   52   \n",
              "\n",
              "        Events Promo_fw Promo_bw StateHoliday_bool_fw StateHoliday_bool_bw  \\\n",
              "uniques     22        6        6                    3                    3   \n",
              "\n",
              "        SchoolHoliday_fw SchoolHoliday_bw  \n",
              "uniques                8                8  \n",
              "\n",
              "[1 rows x 22 columns]"
            ],
            "text/html": [
              "\n",
              "  <div id=\"df-ede2a613-2463-42b6-9409-e57798a4b7c8\">\n",
              "    <div class=\"colab-df-container\">\n",
              "      <div>\n",
              "<style scoped>\n",
              "    .dataframe tbody tr th:only-of-type {\n",
              "        vertical-align: middle;\n",
              "    }\n",
              "\n",
              "    .dataframe tbody tr th {\n",
              "        vertical-align: top;\n",
              "    }\n",
              "\n",
              "    .dataframe thead th {\n",
              "        text-align: right;\n",
              "    }\n",
              "</style>\n",
              "<table border=\"1\" class=\"dataframe\">\n",
              "  <thead>\n",
              "    <tr style=\"text-align: right;\">\n",
              "      <th></th>\n",
              "      <th>Store</th>\n",
              "      <th>DayOfWeek</th>\n",
              "      <th>Year</th>\n",
              "      <th>Month</th>\n",
              "      <th>Day</th>\n",
              "      <th>StateHoliday</th>\n",
              "      <th>CompetitionMonthsOpen</th>\n",
              "      <th>Promo2Weeks</th>\n",
              "      <th>StoreType</th>\n",
              "      <th>Assortment</th>\n",
              "      <th>...</th>\n",
              "      <th>Promo2SinceYear</th>\n",
              "      <th>State</th>\n",
              "      <th>Week</th>\n",
              "      <th>Events</th>\n",
              "      <th>Promo_fw</th>\n",
              "      <th>Promo_bw</th>\n",
              "      <th>StateHoliday_bool_fw</th>\n",
              "      <th>StateHoliday_bool_bw</th>\n",
              "      <th>SchoolHoliday_fw</th>\n",
              "      <th>SchoolHoliday_bw</th>\n",
              "    </tr>\n",
              "  </thead>\n",
              "  <tbody>\n",
              "    <tr>\n",
              "      <th>uniques</th>\n",
              "      <td>1115</td>\n",
              "      <td>7</td>\n",
              "      <td>3</td>\n",
              "      <td>12</td>\n",
              "      <td>31</td>\n",
              "      <td>4</td>\n",
              "      <td>25</td>\n",
              "      <td>26</td>\n",
              "      <td>4</td>\n",
              "      <td>3</td>\n",
              "      <td>...</td>\n",
              "      <td>8</td>\n",
              "      <td>12</td>\n",
              "      <td>52</td>\n",
              "      <td>22</td>\n",
              "      <td>6</td>\n",
              "      <td>6</td>\n",
              "      <td>3</td>\n",
              "      <td>3</td>\n",
              "      <td>8</td>\n",
              "      <td>8</td>\n",
              "    </tr>\n",
              "  </tbody>\n",
              "</table>\n",
              "<p>1 rows × 22 columns</p>\n",
              "</div>\n",
              "      <button class=\"colab-df-convert\" onclick=\"convertToInteractive('df-ede2a613-2463-42b6-9409-e57798a4b7c8')\"\n",
              "              title=\"Convert this dataframe to an interactive table.\"\n",
              "              style=\"display:none;\">\n",
              "        \n",
              "  <svg xmlns=\"http://www.w3.org/2000/svg\" height=\"24px\"viewBox=\"0 0 24 24\"\n",
              "       width=\"24px\">\n",
              "    <path d=\"M0 0h24v24H0V0z\" fill=\"none\"/>\n",
              "    <path d=\"M18.56 5.44l.94 2.06.94-2.06 2.06-.94-2.06-.94-.94-2.06-.94 2.06-2.06.94zm-11 1L8.5 8.5l.94-2.06 2.06-.94-2.06-.94L8.5 2.5l-.94 2.06-2.06.94zm10 10l.94 2.06.94-2.06 2.06-.94-2.06-.94-.94-2.06-.94 2.06-2.06.94z\"/><path d=\"M17.41 7.96l-1.37-1.37c-.4-.4-.92-.59-1.43-.59-.52 0-1.04.2-1.43.59L10.3 9.45l-7.72 7.72c-.78.78-.78 2.05 0 2.83L4 21.41c.39.39.9.59 1.41.59.51 0 1.02-.2 1.41-.59l7.78-7.78 2.81-2.81c.8-.78.8-2.07 0-2.86zM5.41 20L4 18.59l7.72-7.72 1.47 1.35L5.41 20z\"/>\n",
              "  </svg>\n",
              "      </button>\n",
              "      \n",
              "  <style>\n",
              "    .colab-df-container {\n",
              "      display:flex;\n",
              "      flex-wrap:wrap;\n",
              "      gap: 12px;\n",
              "    }\n",
              "\n",
              "    .colab-df-convert {\n",
              "      background-color: #E8F0FE;\n",
              "      border: none;\n",
              "      border-radius: 50%;\n",
              "      cursor: pointer;\n",
              "      display: none;\n",
              "      fill: #1967D2;\n",
              "      height: 32px;\n",
              "      padding: 0 0 0 0;\n",
              "      width: 32px;\n",
              "    }\n",
              "\n",
              "    .colab-df-convert:hover {\n",
              "      background-color: #E2EBFA;\n",
              "      box-shadow: 0px 1px 2px rgba(60, 64, 67, 0.3), 0px 1px 3px 1px rgba(60, 64, 67, 0.15);\n",
              "      fill: #174EA6;\n",
              "    }\n",
              "\n",
              "    [theme=dark] .colab-df-convert {\n",
              "      background-color: #3B4455;\n",
              "      fill: #D2E3FC;\n",
              "    }\n",
              "\n",
              "    [theme=dark] .colab-df-convert:hover {\n",
              "      background-color: #434B5C;\n",
              "      box-shadow: 0px 1px 3px 1px rgba(0, 0, 0, 0.15);\n",
              "      filter: drop-shadow(0px 1px 2px rgba(0, 0, 0, 0.3));\n",
              "      fill: #FFFFFF;\n",
              "    }\n",
              "  </style>\n",
              "\n",
              "      <script>\n",
              "        const buttonEl =\n",
              "          document.querySelector('#df-ede2a613-2463-42b6-9409-e57798a4b7c8 button.colab-df-convert');\n",
              "        buttonEl.style.display =\n",
              "          google.colab.kernel.accessAllowed ? 'block' : 'none';\n",
              "\n",
              "        async function convertToInteractive(key) {\n",
              "          const element = document.querySelector('#df-ede2a613-2463-42b6-9409-e57798a4b7c8');\n",
              "          const dataTable =\n",
              "            await google.colab.kernel.invokeFunction('convertToInteractive',\n",
              "                                                     [key], {});\n",
              "          if (!dataTable) return;\n",
              "\n",
              "          const docLinkHtml = 'Like what you see? Visit the ' +\n",
              "            '<a target=\"_blank\" href=https://colab.research.google.com/notebooks/data_table.ipynb>data table notebook</a>'\n",
              "            + ' to learn more about interactive tables.';\n",
              "          element.innerHTML = '';\n",
              "          dataTable['output_type'] = 'display_data';\n",
              "          await google.colab.output.renderOutput(dataTable, element);\n",
              "          const docLink = document.createElement('div');\n",
              "          docLink.innerHTML = docLinkHtml;\n",
              "          element.appendChild(docLink);\n",
              "        }\n",
              "      </script>\n",
              "    </div>\n",
              "  </div>\n",
              "  "
            ]
          },
          "metadata": {},
          "execution_count": 19
        }
      ],
      "source": [
        "uniques"
      ]
    },
    {
      "cell_type": "markdown",
      "metadata": {
        "id": "izcJcM973fvp"
      },
      "source": [
        "# Asignación de dimensión de embeddings"
      ]
    },
    {
      "cell_type": "code",
      "execution_count": null,
      "metadata": {
        "id": "oKYqNHIh3fvp"
      },
      "outputs": [],
      "source": [
        "cat_var_dict = {'Store': 50, 'DayOfWeek': 4, 'Year': 2, 'Month': 6,\n",
        "'Day': 10, 'StateHoliday': 3, 'CompetitionMonthsOpen': 2,\n",
        "'Promo2Weeks': 1, 'StoreType': 2, 'Assortment': 3, 'PromoInterval': 3,\n",
        "'CompetitionOpenSinceYear': 4, 'Promo2SinceYear': 4, 'State': 6,\n",
        "'Week': 2, 'Events': 4, 'Promo_fw': 1,\n",
        "'Promo_bw': 1, 'StateHoliday_fw': 1,\n",
        "'StateHoliday_bw': 1, 'SchoolHoliday_fw': 1,\n",
        "'SchoolHoliday_bw': 1}"
      ]
    },
    {
      "cell_type": "markdown",
      "metadata": {
        "id": "SLFydnw_3fvp"
      },
      "source": [
        "## Ejemplo con DayOfWeek, store y CompetitionDistance"
      ]
    },
    {
      "cell_type": "code",
      "execution_count": null,
      "metadata": {
        "id": "3qZBYeBH3fvq",
        "outputId": "e9972d59-335a-40d6-cc5b-a2b0c022a78f",
        "colab": {
          "base_uri": "https://localhost:8080/"
        }
      },
      "outputs": [
        {
          "output_type": "execute_result",
          "data": {
            "text/plain": [
              "7"
            ]
          },
          "metadata": {},
          "execution_count": 21
        }
      ],
      "source": [
        "uniques['DayOfWeek'][0]"
      ]
    },
    {
      "cell_type": "code",
      "execution_count": null,
      "metadata": {
        "id": "-fzCf5uo3fvq"
      },
      "outputs": [],
      "source": [
        "from tensorflow.keras.models import Model\n",
        "from tensorflow.keras.optimizers import Adam\n",
        "from tensorflow.keras.layers import Embedding, Input, Flatten, Dense, Concatenate"
      ]
    },
    {
      "cell_type": "code",
      "execution_count": null,
      "metadata": {
        "id": "aD21Tjir3fvq"
      },
      "outputs": [],
      "source": [
        "day_of_week_input = Input(shape=(1,), name=\"day_of_week_input\")\n",
        "store_input = Input(shape=(1,), name=\"store_input\")\n",
        "# Por ser continua competition_distance no necesita embeddings\n",
        "competition_distance_input = Input(shape=(1,), name=\"competition_distance_input\")\n",
        "\n",
        "day_of_week_Embedd_out = Embedding(uniques['DayOfWeek'][0], cat_var_dict['DayOfWeek'], name=\"day_of_week_Embedd\")(day_of_week_input)\n",
        "store_Embedd_out = Embedding(uniques['Store'][0], cat_var_dict['Store'], name=\"store_Embedd\")(store_input)"
      ]
    },
    {
      "cell_type": "code",
      "execution_count": null,
      "metadata": {
        "id": "NJSRWmdA3fvr",
        "outputId": "a9c9f4cb-5b00-4e82-a06c-45a32952e674",
        "colab": {
          "base_uri": "https://localhost:8080/"
        }
      },
      "outputs": [
        {
          "output_type": "stream",
          "name": "stdout",
          "text": [
            "Entradas: (None, 1), (None, 1)\n",
            "Salidas: (None, 1, 4), (None, 1, 50)\n"
          ]
        }
      ],
      "source": [
        "print(f'Entradas: {day_of_week_input.shape}, {store_input.shape}')\n",
        "print(f'Salidas: {day_of_week_Embedd_out.shape}, {store_Embedd_out.shape}')"
      ]
    },
    {
      "cell_type": "code",
      "execution_count": null,
      "metadata": {
        "id": "uRtN8r-B3fvr"
      },
      "outputs": [],
      "source": [
        "day_of_week_Embedd_flat = Flatten(name=\"day_of_week_flat\")(day_of_week_Embedd_out)\n",
        "store_Embedd_flat = Flatten(name=\"store_flat\")(store_Embedd_out)"
      ]
    },
    {
      "cell_type": "code",
      "execution_count": null,
      "metadata": {
        "id": "fyFKB16j3fvr"
      },
      "outputs": [],
      "source": [
        "merged = Concatenate(name='All_Concatenate')([day_of_week_Embedd_flat, store_Embedd_flat, competition_distance_input])"
      ]
    },
    {
      "cell_type": "code",
      "execution_count": null,
      "metadata": {
        "id": "tHIzrw6I3fvs"
      },
      "outputs": [],
      "source": [
        "x = Dense(1000, activation='relu')(merged)\n",
        "x = Dense(500, activation='relu')(x)\n",
        "output = Dense(1, activation='linear')(x)"
      ]
    },
    {
      "cell_type": "code",
      "execution_count": null,
      "metadata": {
        "id": "hlu3tOiD3fvs"
      },
      "outputs": [],
      "source": [
        "model = Model([day_of_week_input, store_input, competition_distance_input], output)"
      ]
    },
    {
      "cell_type": "code",
      "execution_count": null,
      "metadata": {
        "id": "tqILvvFv3fvs",
        "outputId": "fb31916f-58cd-4b30-c1b8-4273f7a20625",
        "colab": {
          "base_uri": "https://localhost:8080/"
        }
      },
      "outputs": [
        {
          "output_type": "stream",
          "name": "stdout",
          "text": [
            "Model: \"model\"\n",
            "__________________________________________________________________________________________________\n",
            " Layer (type)                   Output Shape         Param #     Connected to                     \n",
            "==================================================================================================\n",
            " day_of_week_input (InputLayer)  [(None, 1)]         0           []                               \n",
            "                                                                                                  \n",
            " store_input (InputLayer)       [(None, 1)]          0           []                               \n",
            "                                                                                                  \n",
            " day_of_week_Embedd (Embedding)  (None, 1, 4)        28          ['day_of_week_input[0][0]']      \n",
            "                                                                                                  \n",
            " store_Embedd (Embedding)       (None, 1, 50)        55750       ['store_input[0][0]']            \n",
            "                                                                                                  \n",
            " day_of_week_flat (Flatten)     (None, 4)            0           ['day_of_week_Embedd[0][0]']     \n",
            "                                                                                                  \n",
            " store_flat (Flatten)           (None, 50)           0           ['store_Embedd[0][0]']           \n",
            "                                                                                                  \n",
            " competition_distance_input (In  [(None, 1)]         0           []                               \n",
            " putLayer)                                                                                        \n",
            "                                                                                                  \n",
            " All_Concatenate (Concatenate)  (None, 55)           0           ['day_of_week_flat[0][0]',       \n",
            "                                                                  'store_flat[0][0]',             \n",
            "                                                                  'competition_distance_input[0][0\n",
            "                                                                 ]']                              \n",
            "                                                                                                  \n",
            " dense (Dense)                  (None, 1000)         56000       ['All_Concatenate[0][0]']        \n",
            "                                                                                                  \n",
            " dense_1 (Dense)                (None, 500)          500500      ['dense[0][0]']                  \n",
            "                                                                                                  \n",
            " dense_2 (Dense)                (None, 1)            501         ['dense_1[0][0]']                \n",
            "                                                                                                  \n",
            "==================================================================================================\n",
            "Total params: 612,779\n",
            "Trainable params: 612,779\n",
            "Non-trainable params: 0\n",
            "__________________________________________________________________________________________________\n"
          ]
        }
      ],
      "source": [
        "model.summary()"
      ]
    },
    {
      "cell_type": "code",
      "execution_count": null,
      "metadata": {
        "id": "YN_7Qm8M3fvt"
      },
      "outputs": [],
      "source": [
        "df_train = df[df.Date < datetime.datetime(2015, 7, 1)]  \n",
        "df_val = df[df.Date >= datetime.datetime(2015, 7, 1)]"
      ]
    },
    {
      "cell_type": "code",
      "execution_count": null,
      "metadata": {
        "id": "tnIXMDLR3fvt",
        "outputId": "6812b15d-aed0-42d9-eaed-e459f5cf0b04",
        "colab": {
          "base_uri": "https://localhost:8080/"
        }
      },
      "outputs": [
        {
          "output_type": "stream",
          "name": "stdout",
          "text": [
            "Cantidad en val: 30188, porcentaje: 0.9642465458145908\n"
          ]
        }
      ],
      "source": [
        "print(f'Cantidad en val: {len(df_val)}, porcentaje: {len(df_train)/(len(df_train) + len(df_val))}')\n",
        "# Cantidad en val: 30188, porcentaje: 0.9642465458145908"
      ]
    },
    {
      "cell_type": "code",
      "execution_count": null,
      "metadata": {
        "id": "5Yz1aZ_e3fvt",
        "outputId": "c3301f5a-521f-423e-b9ec-a11dbaf3ceae",
        "colab": {
          "base_uri": "https://localhost:8080/"
        }
      },
      "outputs": [
        {
          "output_type": "execute_result",
          "data": {
            "text/plain": [
              "(814150, 3)"
            ]
          },
          "metadata": {},
          "execution_count": 33
        }
      ],
      "source": [
        "df_train[['DayOfWeek', 'Store', 'CompetitionDistance']].values.shape\n",
        "# (814150, 3)"
      ]
    },
    {
      "cell_type": "code",
      "execution_count": null,
      "metadata": {
        "id": "v7IJGAYT3fvt"
      },
      "outputs": [],
      "source": [
        "X_train = np.hsplit(df_train[['DayOfWeek', 'Store', 'CompetitionDistance']].values, 3)\n",
        "X_val = np.hsplit(df_val[['DayOfWeek', 'Store', 'CompetitionDistance']].values, 3)"
      ]
    },
    {
      "cell_type": "code",
      "execution_count": null,
      "metadata": {
        "id": "293MiRqX3fvu",
        "outputId": "c43a322a-40c4-4d25-e262-6674da048133",
        "colab": {
          "base_uri": "https://localhost:8080/"
        }
      },
      "outputs": [
        {
          "output_type": "execute_result",
          "data": {
            "text/plain": [
              "814150"
            ]
          },
          "metadata": {},
          "execution_count": 35
        }
      ],
      "source": [
        "len(X_train[2]) # 814150"
      ]
    },
    {
      "cell_type": "code",
      "execution_count": null,
      "metadata": {
        "id": "YmwOQ4E93fvu"
      },
      "outputs": [],
      "source": [
        "# Normalización\n",
        "y_mean = df_train['Sales'].mean()\n",
        "y_std = df_train['Sales'].std()\n",
        "\n",
        "# Escala logaritmica\n",
        "# max_log_y = np.max(np.log(df['Sales']))\n",
        "# y_train = np.log(df['Sales'])/max_log_y"
      ]
    },
    {
      "cell_type": "code",
      "execution_count": null,
      "metadata": {
        "id": "EPfZqy543fvu"
      },
      "outputs": [],
      "source": [
        "y_train = (df_train['Sales'].values - y_mean)/y_std\n",
        "y_val = (df_val['Sales'].values - y_mean)/y_std"
      ]
    },
    {
      "cell_type": "code",
      "execution_count": null,
      "metadata": {
        "id": "lytNCGEU3fvu",
        "colab": {
          "base_uri": "https://localhost:8080/"
        },
        "outputId": "a240c620-ca48-4376-d2f9-282ee1cc2d86"
      },
      "outputs": [
        {
          "output_type": "stream",
          "name": "stderr",
          "text": [
            "/usr/local/lib/python3.7/dist-packages/keras/optimizers/optimizer_v2/adam.py:110: UserWarning: The `lr` argument is deprecated, use `learning_rate` instead.\n",
            "  super(Adam, self).__init__(name, **kwargs)\n"
          ]
        }
      ],
      "source": [
        "model.compile(optimizer=Adam(lr=0.001), metrics=['mse'], loss='mse')"
      ]
    },
    {
      "cell_type": "code",
      "execution_count": null,
      "metadata": {
        "id": "ChRjr8-S3fvu",
        "outputId": "1e76175c-f6c2-4e97-bae1-5cd083e13944",
        "colab": {
          "base_uri": "https://localhost:8080/"
        }
      },
      "outputs": [
        {
          "output_type": "stream",
          "name": "stdout",
          "text": [
            "Epoch 1/10\n",
            "3181/3181 [==============================] - 89s 28ms/step - loss: 0.3129 - mse: 0.3129 - val_loss: 0.2364 - val_mse: 0.2364\n",
            "Epoch 2/10\n",
            "3181/3181 [==============================] - 87s 27ms/step - loss: 0.3095 - mse: 0.3095 - val_loss: 0.2379 - val_mse: 0.2379\n",
            "Epoch 3/10\n",
            "3181/3181 [==============================] - 87s 27ms/step - loss: 0.3076 - mse: 0.3076 - val_loss: 0.2328 - val_mse: 0.2328\n",
            "Epoch 4/10\n",
            "3181/3181 [==============================] - 84s 27ms/step - loss: 0.3064 - mse: 0.3064 - val_loss: 0.2375 - val_mse: 0.2375\n",
            "Epoch 5/10\n",
            "3181/3181 [==============================] - 88s 28ms/step - loss: 0.3056 - mse: 0.3056 - val_loss: 0.2302 - val_mse: 0.2302\n",
            "Epoch 6/10\n",
            "3181/3181 [==============================] - 85s 27ms/step - loss: 0.3048 - mse: 0.3048 - val_loss: 0.2318 - val_mse: 0.2318\n",
            "Epoch 7/10\n",
            "3181/3181 [==============================] - 87s 27ms/step - loss: 0.3042 - mse: 0.3042 - val_loss: 0.2303 - val_mse: 0.2303\n",
            "Epoch 8/10\n",
            "3181/3181 [==============================] - 86s 27ms/step - loss: 0.3036 - mse: 0.3036 - val_loss: 0.2313 - val_mse: 0.2313\n",
            "Epoch 9/10\n",
            "3181/3181 [==============================] - 85s 27ms/step - loss: 0.3032 - mse: 0.3032 - val_loss: 0.2292 - val_mse: 0.2292\n",
            "Epoch 10/10\n",
            "3181/3181 [==============================] - 87s 27ms/step - loss: 0.3029 - mse: 0.3029 - val_loss: 0.2286 - val_mse: 0.2286\n"
          ]
        }
      ],
      "source": [
        "history = model.fit(X_train, y_train, validation_data=(X_val, y_val),  epochs=10, batch_size=256)\n",
        "# antes: 3181/3181 [==============================] - 5s 2ms/step - loss: 0.3350 - mse: 0.3350 - val_loss: 0.2444 - val_mse: 0.2444"
      ]
    },
    {
      "cell_type": "markdown",
      "metadata": {
        "id": "2vef7V5B3fvv"
      },
      "source": [
        "# Métrica"
      ]
    },
    {
      "cell_type": "markdown",
      "metadata": {
        "id": "etgq_CQn3fvv"
      },
      "source": [
        "$$\n",
        "\\textrm{RMSE} = \\sqrt{\\frac{1}{n} \\sum_{i=1}^{n} \\left(\\frac{\\hat{y}_i - y_i}{y_i}\\right)^2}\n",
        "$$"
      ]
    },
    {
      "cell_type": "code",
      "execution_count": null,
      "metadata": {
        "id": "1VwqwrZ93fvv",
        "outputId": "6c0f8060-3d0e-4e06-d0cc-bc672665481e",
        "colab": {
          "base_uri": "https://localhost:8080/"
        }
      },
      "outputs": [
        {
          "output_type": "stream",
          "name": "stdout",
          "text": [
            "944/944 [==============================] - 4s 4ms/step\n"
          ]
        }
      ],
      "source": [
        "y_pred_norm = model.predict(X_val, verbose=1)\n",
        "y_pred = y_pred_norm*y_std + y_mean\n",
        "# y_pred = np.exp(model.predict(X_train)*max_log_y)"
      ]
    },
    {
      "cell_type": "code",
      "execution_count": null,
      "metadata": {
        "id": "ql-89yqS3fvv"
      },
      "outputs": [],
      "source": [
        "def root_mean_squared_error_np(y_true, y_pred):\n",
        "    return np.sqrt(np.mean(np.square((y_pred - y_true)), axis=-1))\n",
        "\n",
        "def rmspe_np(y_true, y_pred):\n",
        "    MSEP_ = ((y_true - y_pred)/y_true)**2\n",
        "    return np.sqrt(MSEP_.mean())"
      ]
    },
    {
      "cell_type": "code",
      "execution_count": null,
      "metadata": {
        "id": "P9VmC73s3fvv",
        "outputId": "d24101e2-bc4d-48ad-895b-6a4c918f0602",
        "colab": {
          "base_uri": "https://localhost:8080/"
        }
      },
      "outputs": [
        {
          "output_type": "execute_result",
          "data": {
            "text/plain": [
              "0.22290882344017499"
            ]
          },
          "metadata": {},
          "execution_count": 45
        }
      ],
      "source": [
        "rmspe_np(df_val['Sales'].values, y_pred.reshape(-1))"
      ]
    },
    {
      "cell_type": "code",
      "execution_count": null,
      "metadata": {
        "id": "hQqdkDCm3fvw",
        "outputId": "48c3a422-1aeb-4e5a-9e29-8b1227f07314",
        "colab": {
          "base_uri": "https://localhost:8080/",
          "height": 265
        }
      },
      "outputs": [
        {
          "output_type": "display_data",
          "data": {
            "text/plain": [
              "<Figure size 432x288 with 1 Axes>"
            ],
            "image/png": "[encoded data removed]"
          },
          "metadata": {
            "needs_background": "light"
          }
        }
      ],
      "source": [
        "from matplotlib import pyplot as plt\n",
        "\n",
        "plt.plot(history.history['loss'])\n",
        "plt.show()\n",
        "\n",
        "# por que esta esto si hay un solo epoch?"
      ]
    },
    {
      "cell_type": "code",
      "execution_count": null,
      "metadata": {
        "id": "U33YQadF3fvw"
      },
      "outputs": [],
      "source": []
    }
  ],
  "metadata": {
    "kernelspec": {
      "display_name": "Python 3",
      "language": "python",
      "name": "python3"
    },
    "language_info": {
      "codemirror_mode": {
        "name": "ipython",
        "version": 3
      },
      "file_extension": ".py",
      "mimetype": "text/x-python",
      "name": "python",
      "nbconvert_exporter": "python",
      "pygments_lexer": "ipython3",
      "version": "3.6.10"
    },
    "colab": {
      "provenance": []
    }
  },
  "nbformat": 4,
  "nbformat_minor": 0
}