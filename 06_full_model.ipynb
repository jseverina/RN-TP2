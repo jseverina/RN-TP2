{
  "cells": [
    {
      "cell_type": "code",
      "execution_count": null,
      "metadata": {
        "id": "79ZCuboj7bei",
        "colab": {
          "base_uri": "https://localhost:8080/"
        },
        "outputId": "34512bad-3d82-403f-9ac7-ea9f6b7a52aa"
      },
      "outputs": [
        {
          "output_type": "stream",
          "name": "stderr",
          "text": [
            "/usr/local/lib/python3.7/dist-packages/tensorflow/python/client/session.py:1768: UserWarning: An interactive session is already active. This can cause out-of-memory errors in some cases. You must explicitly call `InteractiveSession.close()` to release resources held by the other session(s).\n",
            "  warnings.warn('An interactive session is already active. This can '\n"
          ]
        }
      ],
      "source": [
        "from tensorflow.compat.v1 import ConfigProto\n",
        "from tensorflow.compat.v1 import InteractiveSession\n",
        "config = ConfigProto()\n",
        "config.gpu_options.allow_growth = True\n",
        "session = InteractiveSession(config=config)"
      ]
    },
    {
      "cell_type": "code",
      "execution_count": null,
      "metadata": {
        "id": "HHcNe1XO7bek",
        "colab": {
          "base_uri": "https://localhost:8080/"
        },
        "outputId": "d6e832e2-5b82-4c0e-fc31-19bf631cc416"
      },
      "outputs": [
        {
          "output_type": "stream",
          "name": "stdout",
          "text": [
            "Looking in indexes: https://pypi.org/simple, https://us-python.pkg.dev/colab-wheels/public/simple/\n",
            "Requirement already satisfied: pandas_summary in /usr/local/lib/python3.7/dist-packages (0.2.0)\n",
            "Requirement already satisfied: datatile in /usr/local/lib/python3.7/dist-packages (from pandas_summary) (1.0.3)\n",
            "Requirement already satisfied: pandas in /usr/local/lib/python3.7/dist-packages (from pandas_summary) (1.3.5)\n",
            "Requirement already satisfied: numpy in /usr/local/lib/python3.7/dist-packages (from pandas_summary) (1.21.6)\n",
            "Requirement already satisfied: traceml<1.1 in /usr/local/lib/python3.7/dist-packages (from datatile->pandas_summary) (1.0.3)\n",
            "Requirement already satisfied: python-dateutil>=2.7.3 in /usr/local/lib/python3.7/dist-packages (from pandas->pandas_summary) (2.8.2)\n",
            "Requirement already satisfied: pytz>=2017.3 in /usr/local/lib/python3.7/dist-packages (from pandas->pandas_summary) (2022.5)\n",
            "Requirement already satisfied: six>=1.5 in /usr/local/lib/python3.7/dist-packages (from python-dateutil>=2.7.3->pandas->pandas_summary) (1.15.0)\n"
          ]
        }
      ],
      "source": [
        "import pandas as pd\n",
        "import numpy as np\n",
        "import datetime\n",
        "!pip install pandas_summary\n",
        "from pandas_summary import DataFrameSummary"
      ]
    },
    {
      "cell_type": "code",
      "execution_count": null,
      "metadata": {
        "id": "Lcadw8M57bek"
      },
      "outputs": [],
      "source": [
        "from tensorflow.keras.utils import to_categorical"
      ]
    },
    {
      "cell_type": "code",
      "source": [
        "from google.colab import drive\n",
        "drive.mount('/content/drive')"
      ],
      "metadata": {
        "colab": {
          "base_uri": "https://localhost:8080/"
        },
        "id": "pAiUO0rT7yx-",
        "outputId": "4d867309-c5e7-4ce6-9435-ae050ab37930"
      },
      "execution_count": null,
      "outputs": [
        {
          "output_type": "stream",
          "name": "stdout",
          "text": [
            "Drive already mounted at /content/drive; to attempt to forcibly remount, call drive.mount(\"/content/drive\", force_remount=True).\n"
          ]
        }
      ]
    },
    {
      "cell_type": "code",
      "execution_count": null,
      "metadata": {
        "id": "RDEam7hB7bel"
      },
      "outputs": [],
      "source": [
        "df = pd.read_feather('/content/drive/MyDrive/Colab Notebooks/Redes Neuronales/TP2/train_normalized_data.fth')\n",
        "df_test = pd.read_feather('/content/drive/MyDrive/Colab Notebooks/Redes Neuronales/TP2/test_normalized_data.fth')"
      ]
    },
    {
      "cell_type": "code",
      "execution_count": null,
      "metadata": {
        "id": "uH_mWPYQ7bel"
      },
      "outputs": [],
      "source": [
        "cat_vars = ['Store', 'DayOfWeek', 'Year', 'Month', 'Day', 'StateHoliday', 'CompetitionMonthsOpen', 'Promo2Weeks', \n",
        "            'StoreType', 'Assortment', 'PromoInterval', 'CompetitionOpenSinceYear', 'Promo2SinceYear', 'State', \n",
        "            'Week', 'Events', 'Promo_fw', 'Promo_bw', 'Promo', 'StateHoliday_bool_fw', 'StateHoliday_bool_bw', 'SchoolHoliday_fw', 'SchoolHoliday_bw']\n",
        "\n",
        "# cat_vars = ['Store', 'DayOfWeek']"
      ]
    },
    {
      "cell_type": "code",
      "execution_count": null,
      "metadata": {
        "id": "LqJRlkDT7bem"
      },
      "outputs": [],
      "source": [
        "contin_vars = ['CompetitionDistance', \n",
        "   'Max_TemperatureC', 'Mean_TemperatureC', 'Min_TemperatureC', 'Precipitationmm',\n",
        "   'Max_Humidity', 'Mean_Humidity', 'Min_Humidity', 'Max_Wind_SpeedKm_h', \n",
        "   'Mean_Wind_SpeedKm_h', 'CloudCover', 'trend', 'trend_DE',\n",
        "   'AfterStateHoliday_bool', 'BeforeStateHoliday_bool', 'SchoolHoliday', 'StateHoliday_bool']\n",
        "# contin_vars = ['BeforeStateHoliday_bool', 'Max_TemperatureC']"
      ]
    },
    {
      "cell_type": "code",
      "execution_count": null,
      "metadata": {
        "id": "BVb2KWDz7bem"
      },
      "outputs": [],
      "source": [
        "uniques = DataFrameSummary(df[cat_vars]).summary().loc[['uniques']]"
      ]
    },
    {
      "cell_type": "code",
      "execution_count": null,
      "metadata": {
        "id": "vJfGK7li7ben",
        "outputId": "ec435288-6318-4ad2-89b3-cb47b8a9eae8",
        "colab": {
          "base_uri": "https://localhost:8080/",
          "height": 771
        }
      },
      "outputs": [
        {
          "output_type": "execute_result",
          "data": {
            "text/plain": [
              "                         uniques\n",
              "Store                       1115\n",
              "DayOfWeek                      7\n",
              "Year                           3\n",
              "Month                         12\n",
              "Day                           31\n",
              "StateHoliday                   4\n",
              "CompetitionMonthsOpen         25\n",
              "Promo2Weeks                   26\n",
              "StoreType                      4\n",
              "Assortment                     3\n",
              "PromoInterval                  4\n",
              "CompetitionOpenSinceYear      21\n",
              "Promo2SinceYear                8\n",
              "State                         12\n",
              "Week                          52\n",
              "Events                        22\n",
              "Promo_fw                       6\n",
              "Promo_bw                       6\n",
              "Promo                          2\n",
              "StateHoliday_bool_fw           3\n",
              "StateHoliday_bool_bw           3\n",
              "SchoolHoliday_fw               8\n",
              "SchoolHoliday_bw               8"
            ],
            "text/html": [
              "\n",
              "  <div id=\"df-a1e73f1e-0567-4860-988f-94351d265783\">\n",
              "    <div class=\"colab-df-container\">\n",
              "      <div>\n",
              "<style scoped>\n",
              "    .dataframe tbody tr th:only-of-type {\n",
              "        vertical-align: middle;\n",
              "    }\n",
              "\n",
              "    .dataframe tbody tr th {\n",
              "        vertical-align: top;\n",
              "    }\n",
              "\n",
              "    .dataframe thead th {\n",
              "        text-align: right;\n",
              "    }\n",
              "</style>\n",
              "<table border=\"1\" class=\"dataframe\">\n",
              "  <thead>\n",
              "    <tr style=\"text-align: right;\">\n",
              "      <th></th>\n",
              "      <th>uniques</th>\n",
              "    </tr>\n",
              "  </thead>\n",
              "  <tbody>\n",
              "    <tr>\n",
              "      <th>Store</th>\n",
              "      <td>1115</td>\n",
              "    </tr>\n",
              "    <tr>\n",
              "      <th>DayOfWeek</th>\n",
              "      <td>7</td>\n",
              "    </tr>\n",
              "    <tr>\n",
              "      <th>Year</th>\n",
              "      <td>3</td>\n",
              "    </tr>\n",
              "    <tr>\n",
              "      <th>Month</th>\n",
              "      <td>12</td>\n",
              "    </tr>\n",
              "    <tr>\n",
              "      <th>Day</th>\n",
              "      <td>31</td>\n",
              "    </tr>\n",
              "    <tr>\n",
              "      <th>StateHoliday</th>\n",
              "      <td>4</td>\n",
              "    </tr>\n",
              "    <tr>\n",
              "      <th>CompetitionMonthsOpen</th>\n",
              "      <td>25</td>\n",
              "    </tr>\n",
              "    <tr>\n",
              "      <th>Promo2Weeks</th>\n",
              "      <td>26</td>\n",
              "    </tr>\n",
              "    <tr>\n",
              "      <th>StoreType</th>\n",
              "      <td>4</td>\n",
              "    </tr>\n",
              "    <tr>\n",
              "      <th>Assortment</th>\n",
              "      <td>3</td>\n",
              "    </tr>\n",
              "    <tr>\n",
              "      <th>PromoInterval</th>\n",
              "      <td>4</td>\n",
              "    </tr>\n",
              "    <tr>\n",
              "      <th>CompetitionOpenSinceYear</th>\n",
              "      <td>21</td>\n",
              "    </tr>\n",
              "    <tr>\n",
              "      <th>Promo2SinceYear</th>\n",
              "      <td>8</td>\n",
              "    </tr>\n",
              "    <tr>\n",
              "      <th>State</th>\n",
              "      <td>12</td>\n",
              "    </tr>\n",
              "    <tr>\n",
              "      <th>Week</th>\n",
              "      <td>52</td>\n",
              "    </tr>\n",
              "    <tr>\n",
              "      <th>Events</th>\n",
              "      <td>22</td>\n",
              "    </tr>\n",
              "    <tr>\n",
              "      <th>Promo_fw</th>\n",
              "      <td>6</td>\n",
              "    </tr>\n",
              "    <tr>\n",
              "      <th>Promo_bw</th>\n",
              "      <td>6</td>\n",
              "    </tr>\n",
              "    <tr>\n",
              "      <th>Promo</th>\n",
              "      <td>2</td>\n",
              "    </tr>\n",
              "    <tr>\n",
              "      <th>StateHoliday_bool_fw</th>\n",
              "      <td>3</td>\n",
              "    </tr>\n",
              "    <tr>\n",
              "      <th>StateHoliday_bool_bw</th>\n",
              "      <td>3</td>\n",
              "    </tr>\n",
              "    <tr>\n",
              "      <th>SchoolHoliday_fw</th>\n",
              "      <td>8</td>\n",
              "    </tr>\n",
              "    <tr>\n",
              "      <th>SchoolHoliday_bw</th>\n",
              "      <td>8</td>\n",
              "    </tr>\n",
              "  </tbody>\n",
              "</table>\n",
              "</div>\n",
              "      <button class=\"colab-df-convert\" onclick=\"convertToInteractive('df-a1e73f1e-0567-4860-988f-94351d265783')\"\n",
              "              title=\"Convert this dataframe to an interactive table.\"\n",
              "              style=\"display:none;\">\n",
              "        \n",
              "  <svg xmlns=\"http://www.w3.org/2000/svg\" height=\"24px\"viewBox=\"0 0 24 24\"\n",
              "       width=\"24px\">\n",
              "    <path d=\"M0 0h24v24H0V0z\" fill=\"none\"/>\n",
              "    <path d=\"M18.56 5.44l.94 2.06.94-2.06 2.06-.94-2.06-.94-.94-2.06-.94 2.06-2.06.94zm-11 1L8.5 8.5l.94-2.06 2.06-.94-2.06-.94L8.5 2.5l-.94 2.06-2.06.94zm10 10l.94 2.06.94-2.06 2.06-.94-2.06-.94-.94-2.06-.94 2.06-2.06.94z\"/><path d=\"M17.41 7.96l-1.37-1.37c-.4-.4-.92-.59-1.43-.59-.52 0-1.04.2-1.43.59L10.3 9.45l-7.72 7.72c-.78.78-.78 2.05 0 2.83L4 21.41c.39.39.9.59 1.41.59.51 0 1.02-.2 1.41-.59l7.78-7.78 2.81-2.81c.8-.78.8-2.07 0-2.86zM5.41 20L4 18.59l7.72-7.72 1.47 1.35L5.41 20z\"/>\n",
              "  </svg>\n",
              "      </button>\n",
              "      \n",
              "  <style>\n",
              "    .colab-df-container {\n",
              "      display:flex;\n",
              "      flex-wrap:wrap;\n",
              "      gap: 12px;\n",
              "    }\n",
              "\n",
              "    .colab-df-convert {\n",
              "      background-color: #E8F0FE;\n",
              "      border: none;\n",
              "      border-radius: 50%;\n",
              "      cursor: pointer;\n",
              "      display: none;\n",
              "      fill: #1967D2;\n",
              "      height: 32px;\n",
              "      padding: 0 0 0 0;\n",
              "      width: 32px;\n",
              "    }\n",
              "\n",
              "    .colab-df-convert:hover {\n",
              "      background-color: #E2EBFA;\n",
              "      box-shadow: 0px 1px 2px rgba(60, 64, 67, 0.3), 0px 1px 3px 1px rgba(60, 64, 67, 0.15);\n",
              "      fill: #174EA6;\n",
              "    }\n",
              "\n",
              "    [theme=dark] .colab-df-convert {\n",
              "      background-color: #3B4455;\n",
              "      fill: #D2E3FC;\n",
              "    }\n",
              "\n",
              "    [theme=dark] .colab-df-convert:hover {\n",
              "      background-color: #434B5C;\n",
              "      box-shadow: 0px 1px 3px 1px rgba(0, 0, 0, 0.15);\n",
              "      filter: drop-shadow(0px 1px 2px rgba(0, 0, 0, 0.3));\n",
              "      fill: #FFFFFF;\n",
              "    }\n",
              "  </style>\n",
              "\n",
              "      <script>\n",
              "        const buttonEl =\n",
              "          document.querySelector('#df-a1e73f1e-0567-4860-988f-94351d265783 button.colab-df-convert');\n",
              "        buttonEl.style.display =\n",
              "          google.colab.kernel.accessAllowed ? 'block' : 'none';\n",
              "\n",
              "        async function convertToInteractive(key) {\n",
              "          const element = document.querySelector('#df-a1e73f1e-0567-4860-988f-94351d265783');\n",
              "          const dataTable =\n",
              "            await google.colab.kernel.invokeFunction('convertToInteractive',\n",
              "                                                     [key], {});\n",
              "          if (!dataTable) return;\n",
              "\n",
              "          const docLinkHtml = 'Like what you see? Visit the ' +\n",
              "            '<a target=\"_blank\" href=https://colab.research.google.com/notebooks/data_table.ipynb>data table notebook</a>'\n",
              "            + ' to learn more about interactive tables.';\n",
              "          element.innerHTML = '';\n",
              "          dataTable['output_type'] = 'display_data';\n",
              "          await google.colab.output.renderOutput(dataTable, element);\n",
              "          const docLink = document.createElement('div');\n",
              "          docLink.innerHTML = docLinkHtml;\n",
              "          element.appendChild(docLink);\n",
              "        }\n",
              "      </script>\n",
              "    </div>\n",
              "  </div>\n",
              "  "
            ]
          },
          "metadata": {},
          "execution_count": 98
        }
      ],
      "source": [
        "uniques.T"
      ]
    },
    {
      "cell_type": "markdown",
      "metadata": {
        "id": "Xp8fIoWp7beo"
      },
      "source": [
        "# Asignación de dimensión de embeddings"
      ]
    },
    {
      "cell_type": "code",
      "execution_count": null,
      "metadata": {
        "id": "Py4JFs-X7beq"
      },
      "outputs": [],
      "source": [
        "cat_var_dict = {'Store': 50, 'DayOfWeek': 2, 'Year': 2, 'Month': 2,\n",
        "'Day': 10, 'StateHoliday': 2, 'CompetitionMonthsOpen': 2,\n",
        "'Promo2Weeks': 1, 'StoreType': 2, 'Assortment': 3, 'PromoInterval': 3,\n",
        "'CompetitionOpenSinceYear': 4, 'Promo2SinceYear': 4, 'State': 6,\n",
        "'Week': 25, 'Events': 4, 'Promo_fw': 1, 'Promo': 1,\n",
        "'Promo_bw': 1, 'StateHoliday_bool_fw': 1,\n",
        "'StateHoliday_bool_bw': 1, 'SchoolHoliday_fw': 1,\n",
        "'SchoolHoliday_bw': 1}"
      ]
    },
    {
      "cell_type": "code",
      "execution_count": null,
      "metadata": {
        "id": "bI5Ty8F57ber",
        "outputId": "6d77ff38-2382-4729-d3bc-589e66fa7d78",
        "colab": {
          "base_uri": "https://localhost:8080/"
        }
      },
      "outputs": [
        {
          "output_type": "stream",
          "name": "stdout",
          "text": [
            "Store 50 1115 [   0    1    2 ... 1112 1113 1114]\n",
            "\n",
            "DayOfWeek 2 7 [0 1 2 3 4 5 6]\n",
            "\n",
            "Year 2 3 [0 1 2]\n",
            "\n",
            "Month 2 12 [ 0  1  2  3  4  5  6  7  8  9 10 11]\n",
            "\n",
            "Day 10 31 [ 0  1  2  3  4  5  6  7  8  9 10 11 12 13 14 15 16 17 18 19 20 21 22 23\n",
            " 24 25 26 27 28 29 30]\n",
            "\n",
            "StateHoliday 2 4 [0 1 2 3]\n",
            "\n",
            "CompetitionMonthsOpen 2 25 [ 0  1  2  3  4  5  6  7  8  9 10 11 12 13 14 15 16 17 18 19 20 21 22 23\n",
            " 24]\n",
            "\n",
            "Promo2Weeks 1 26 [ 0  1  2  3  4  5  6  7  8  9 10 11 12 13 14 15 16 17 18 19 20 21 22 23\n",
            " 24 25]\n",
            "\n",
            "StoreType 2 4 [0 1 2 3]\n",
            "\n",
            "Assortment 3 3 [0 1 2]\n",
            "\n",
            "PromoInterval 3 4 [0 1 2 3]\n",
            "\n",
            "CompetitionOpenSinceYear 4 21 [ 0  1  2  3  4  5  6  7  8  9 10 11 12 13 14 15 16 17 18 19 20]\n",
            "\n",
            "Promo2SinceYear 4 8 [0 1 2 3 4 5 6 7]\n",
            "\n",
            "State 6 12 [ 0  1  2  3  4  5  6  7  8  9 10 11]\n",
            "\n",
            "Week 25 52 [ 0  1  2  3  4  5  6  7  8  9 10 11 12 13 14 15 16 17 18 19 20 21 22 23\n",
            " 24 25 26 27 28 29 30 31 32 33 34 35 36 37 38 39 40 41 42 43 44 45 46 47\n",
            " 48 49 50 51]\n",
            "\n",
            "Events 4 22 [ 0  1  2  3  4  5  6  7  8  9 10 11 12 13 14 15 16 17 18 19 20 21]\n",
            "\n",
            "Promo_fw 1 6 [0 1 2 3 4 5]\n",
            "\n",
            "Promo_bw 1 6 [0 1 2 3 4 5]\n",
            "\n",
            "Promo 1 2 [-0.78539979  1.27323691]\n",
            "\n",
            "StateHoliday_bool_fw 1 3 [0 1 2]\n",
            "\n",
            "StateHoliday_bool_bw 1 3 [0 1 2]\n",
            "\n",
            "SchoolHoliday_fw 1 8 [0 1 2 3 4 5 6 7]\n",
            "\n",
            "SchoolHoliday_bw 1 8 [0 1 2 3 4 5 6 7]\n",
            "\n"
          ]
        }
      ],
      "source": [
        "for v in cat_vars:\n",
        "    uniques_ = df[v].unique()\n",
        "    uniques_.sort()\n",
        "    print(v, cat_var_dict[v], len(uniques_), uniques_)\n",
        "    print()"
      ]
    },
    {
      "cell_type": "markdown",
      "metadata": {
        "id": "MVoecGAX7ber"
      },
      "source": [
        "# Definición de modelo"
      ]
    },
    {
      "cell_type": "code",
      "execution_count": null,
      "metadata": {
        "id": "NeD_CcHS7bes"
      },
      "outputs": [],
      "source": [
        "add_customers = True\n",
        "log_output = False\n",
        "output_activation = 'linear'"
      ]
    },
    {
      "cell_type": "code",
      "execution_count": null,
      "metadata": {
        "id": "_H0FesnR7bes"
      },
      "outputs": [],
      "source": [
        "from tensorflow.keras.models import Model\n",
        "from tensorflow.keras.callbacks import ModelCheckpoint\n",
        "from tensorflow.keras.optimizers import Adam\n",
        "from tensorflow.keras.layers import Embedding, Input, Flatten, Concatenate, Dense, BatchNormalization, Activation, LeakyReLU, Dropout\n",
        "from tensorflow.keras.regularizers import l2"
      ]
    },
    {
      "cell_type": "code",
      "execution_count": null,
      "metadata": {
        "id": "DI1Qi7t97bes"
      },
      "outputs": [],
      "source": [
        "def get_cat_vars_model(cat_vars, uniques, cat_var_dict):\n",
        "    cat_vars_embed_outs = []\n",
        "    cat_var_inputs = []\n",
        "    for cat_var in cat_vars:\n",
        "        cat_var_in = Input(shape=(1,), name=f\"{cat_var}_input\")\n",
        "        cat_var_inputs.append(cat_var_in)\n",
        "        embed_out = Embedding(uniques[cat_var][0], cat_var_dict[cat_var], name=f'{cat_var}_Embed')(cat_var_in)\n",
        "        flatten_out = Flatten(name=f\"{cat_var}_flat\")(embed_out)\n",
        "        cat_vars_embed_outs.append(flatten_out)\n",
        "    return cat_var_inputs, cat_vars_embed_outs\n",
        "\n",
        "def get_cont_vars_input(contin_vars, dense_layer=False):\n",
        "    cont_vars_inputs = []\n",
        "    cont_vars_outputs = []\n",
        "    for cont_var in contin_vars:\n",
        "        cont_var_in = Input(shape=(1,), name=f\"{cont_var}_input\")\n",
        "        cont_vars_inputs.append(cont_var_in)\n",
        "        if dense_layer:\n",
        "            cont_var_out = Dense(1, name=f\"{cont_var}_input\", activation = 'linear')(cont_var_in)\n",
        "            cont_vars_outputs.append(cont_var_out)\n",
        "        else:\n",
        "            cont_vars_outputs.append(cont_var_in)\n",
        "    return cont_vars_inputs, cont_vars_outputs"
      ]
    },
    {
      "cell_type": "code",
      "execution_count": null,
      "metadata": {
        "id": "9d-KcEOM7bet"
      },
      "outputs": [],
      "source": [
        "cat_var_inputs, cat_vars_embed_outs = get_cat_vars_model(cat_vars, uniques, cat_var_dict)\n",
        "cont_vars_inputs,  cont_vars_outs= get_cont_vars_input(contin_vars)"
      ]
    },
    {
      "cell_type": "code",
      "execution_count": null,
      "metadata": {
        "id": "j0jRiGaU7bet"
      },
      "outputs": [],
      "source": [
        "# Descomentar para ver resultados\n",
        "# cat_vars_embed_outs\n",
        "# cat_var_inputs\n",
        "# cont_vars_inputs\n",
        "# cont_vars_outs"
      ]
    },
    {
      "cell_type": "code",
      "execution_count": null,
      "metadata": {
        "id": "OjEgisQG7bet"
      },
      "outputs": [],
      "source": [
        "first_hidden_units = 1000\n",
        "second_hidden_units = 500\n",
        "l2_lambda = 1e-3\n",
        "merged = Concatenate(name='All_Concatenate')(cat_vars_embed_outs + cont_vars_inputs)\n",
        "x = Dense(first_hidden_units, kernel_initializer=\"uniform\", kernel_regularizer=l2(l2_lambda))(merged)\n",
        "# x = BatchNormalization()(x)\n",
        "x = Activation('relu')(x)\n",
        "# x = LeakyReLU()(x)\n",
        "x = Dense(second_hidden_units, kernel_initializer=\"uniform\", kernel_regularizer=l2(l2_lambda))(x)\n",
        "# x = BatchNormalization()(x)\n",
        "x = Activation('relu')(x)\n",
        "# x = LeakyReLU()(x)\n",
        "\n",
        "output_1 = Dense(1, name='Sales', activation=output_activation)(x)\n",
        "output_2 = Dense(1, name='Customers', activation=output_activation)(x)"
      ]
    },
    {
      "cell_type": "code",
      "execution_count": null,
      "metadata": {
        "id": "Jltqt0ym7beu"
      },
      "outputs": [],
      "source": [
        "if add_customers:\n",
        "    model = Model(cat_var_inputs + cont_vars_inputs, [output_1, output_2])\n",
        "else: \n",
        "    model = Model(cat_var_inputs + cont_vars_inputs, [output_1])"
      ]
    },
    {
      "cell_type": "code",
      "execution_count": null,
      "metadata": {
        "id": "aGEXNiPs7beu",
        "outputId": "60e4e3e6-2bab-497c-cee4-081b3696ce3e",
        "colab": {
          "base_uri": "https://localhost:8080/"
        }
      },
      "outputs": [
        {
          "output_type": "stream",
          "name": "stdout",
          "text": [
            "Model: \"model_2\"\n",
            "__________________________________________________________________________________________________\n",
            " Layer (type)                   Output Shape         Param #     Connected to                     \n",
            "==================================================================================================\n",
            " Store_input (InputLayer)       [(None, 1)]          0           []                               \n",
            "                                                                                                  \n",
            " DayOfWeek_input (InputLayer)   [(None, 1)]          0           []                               \n",
            "                                                                                                  \n",
            " Year_input (InputLayer)        [(None, 1)]          0           []                               \n",
            "                                                                                                  \n",
            " Month_input (InputLayer)       [(None, 1)]          0           []                               \n",
            "                                                                                                  \n",
            " Day_input (InputLayer)         [(None, 1)]          0           []                               \n",
            "                                                                                                  \n",
            " StateHoliday_input (InputLayer  [(None, 1)]         0           []                               \n",
            " )                                                                                                \n",
            "                                                                                                  \n",
            " CompetitionMonthsOpen_input (I  [(None, 1)]         0           []                               \n",
            " nputLayer)                                                                                       \n",
            "                                                                                                  \n",
            " Promo2Weeks_input (InputLayer)  [(None, 1)]         0           []                               \n",
            "                                                                                                  \n",
            " StoreType_input (InputLayer)   [(None, 1)]          0           []                               \n",
            "                                                                                                  \n",
            " Assortment_input (InputLayer)  [(None, 1)]          0           []                               \n",
            "                                                                                                  \n",
            " PromoInterval_input (InputLaye  [(None, 1)]         0           []                               \n",
            " r)                                                                                               \n",
            "                                                                                                  \n",
            " CompetitionOpenSinceYear_input  [(None, 1)]         0           []                               \n",
            "  (InputLayer)                                                                                    \n",
            "                                                                                                  \n",
            " Promo2SinceYear_input (InputLa  [(None, 1)]         0           []                               \n",
            " yer)                                                                                             \n",
            "                                                                                                  \n",
            " State_input (InputLayer)       [(None, 1)]          0           []                               \n",
            "                                                                                                  \n",
            " Week_input (InputLayer)        [(None, 1)]          0           []                               \n",
            "                                                                                                  \n",
            " Events_input (InputLayer)      [(None, 1)]          0           []                               \n",
            "                                                                                                  \n",
            " Promo_fw_input (InputLayer)    [(None, 1)]          0           []                               \n",
            "                                                                                                  \n",
            " Promo_bw_input (InputLayer)    [(None, 1)]          0           []                               \n",
            "                                                                                                  \n",
            " Promo_input (InputLayer)       [(None, 1)]          0           []                               \n",
            "                                                                                                  \n",
            " StateHoliday_bool_fw_input (In  [(None, 1)]         0           []                               \n",
            " putLayer)                                                                                        \n",
            "                                                                                                  \n",
            " StateHoliday_bool_bw_input (In  [(None, 1)]         0           []                               \n",
            " putLayer)                                                                                        \n",
            "                                                                                                  \n",
            " SchoolHoliday_fw_input (InputL  [(None, 1)]         0           []                               \n",
            " ayer)                                                                                            \n",
            "                                                                                                  \n",
            " SchoolHoliday_bw_input (InputL  [(None, 1)]         0           []                               \n",
            " ayer)                                                                                            \n",
            "                                                                                                  \n",
            " Store_Embed (Embedding)        (None, 1, 50)        55750       ['Store_input[0][0]']            \n",
            "                                                                                                  \n",
            " DayOfWeek_Embed (Embedding)    (None, 1, 2)         14          ['DayOfWeek_input[0][0]']        \n",
            "                                                                                                  \n",
            " Year_Embed (Embedding)         (None, 1, 2)         6           ['Year_input[0][0]']             \n",
            "                                                                                                  \n",
            " Month_Embed (Embedding)        (None, 1, 2)         24          ['Month_input[0][0]']            \n",
            "                                                                                                  \n",
            " Day_Embed (Embedding)          (None, 1, 10)        310         ['Day_input[0][0]']              \n",
            "                                                                                                  \n",
            " StateHoliday_Embed (Embedding)  (None, 1, 2)        8           ['StateHoliday_input[0][0]']     \n",
            "                                                                                                  \n",
            " CompetitionMonthsOpen_Embed (E  (None, 1, 2)        50          ['CompetitionMonthsOpen_input[0][\n",
            " mbedding)                                                       0]']                             \n",
            "                                                                                                  \n",
            " Promo2Weeks_Embed (Embedding)  (None, 1, 1)         26          ['Promo2Weeks_input[0][0]']      \n",
            "                                                                                                  \n",
            " StoreType_Embed (Embedding)    (None, 1, 2)         8           ['StoreType_input[0][0]']        \n",
            "                                                                                                  \n",
            " Assortment_Embed (Embedding)   (None, 1, 3)         9           ['Assortment_input[0][0]']       \n",
            "                                                                                                  \n",
            " PromoInterval_Embed (Embedding  (None, 1, 3)        12          ['PromoInterval_input[0][0]']    \n",
            " )                                                                                                \n",
            "                                                                                                  \n",
            " CompetitionOpenSinceYear_Embed  (None, 1, 4)        84          ['CompetitionOpenSinceYear_input[\n",
            "  (Embedding)                                                    0][0]']                          \n",
            "                                                                                                  \n",
            " Promo2SinceYear_Embed (Embeddi  (None, 1, 4)        32          ['Promo2SinceYear_input[0][0]']  \n",
            " ng)                                                                                              \n",
            "                                                                                                  \n",
            " State_Embed (Embedding)        (None, 1, 6)         72          ['State_input[0][0]']            \n",
            "                                                                                                  \n",
            " Week_Embed (Embedding)         (None, 1, 25)        1300        ['Week_input[0][0]']             \n",
            "                                                                                                  \n",
            " Events_Embed (Embedding)       (None, 1, 4)         88          ['Events_input[0][0]']           \n",
            "                                                                                                  \n",
            " Promo_fw_Embed (Embedding)     (None, 1, 1)         6           ['Promo_fw_input[0][0]']         \n",
            "                                                                                                  \n",
            " Promo_bw_Embed (Embedding)     (None, 1, 1)         6           ['Promo_bw_input[0][0]']         \n",
            "                                                                                                  \n",
            " Promo_Embed (Embedding)        (None, 1, 1)         2           ['Promo_input[0][0]']            \n",
            "                                                                                                  \n",
            " StateHoliday_bool_fw_Embed (Em  (None, 1, 1)        3           ['StateHoliday_bool_fw_input[0][0\n",
            " bedding)                                                        ]']                              \n",
            "                                                                                                  \n",
            " StateHoliday_bool_bw_Embed (Em  (None, 1, 1)        3           ['StateHoliday_bool_bw_input[0][0\n",
            " bedding)                                                        ]']                              \n",
            "                                                                                                  \n",
            " SchoolHoliday_fw_Embed (Embedd  (None, 1, 1)        8           ['SchoolHoliday_fw_input[0][0]'] \n",
            " ing)                                                                                             \n",
            "                                                                                                  \n",
            " SchoolHoliday_bw_Embed (Embedd  (None, 1, 1)        8           ['SchoolHoliday_bw_input[0][0]'] \n",
            " ing)                                                                                             \n",
            "                                                                                                  \n",
            " Store_flat (Flatten)           (None, 50)           0           ['Store_Embed[0][0]']            \n",
            "                                                                                                  \n",
            " DayOfWeek_flat (Flatten)       (None, 2)            0           ['DayOfWeek_Embed[0][0]']        \n",
            "                                                                                                  \n",
            " Year_flat (Flatten)            (None, 2)            0           ['Year_Embed[0][0]']             \n",
            "                                                                                                  \n",
            " Month_flat (Flatten)           (None, 2)            0           ['Month_Embed[0][0]']            \n",
            "                                                                                                  \n",
            " Day_flat (Flatten)             (None, 10)           0           ['Day_Embed[0][0]']              \n",
            "                                                                                                  \n",
            " StateHoliday_flat (Flatten)    (None, 2)            0           ['StateHoliday_Embed[0][0]']     \n",
            "                                                                                                  \n",
            " CompetitionMonthsOpen_flat (Fl  (None, 2)           0           ['CompetitionMonthsOpen_Embed[0][\n",
            " atten)                                                          0]']                             \n",
            "                                                                                                  \n",
            " Promo2Weeks_flat (Flatten)     (None, 1)            0           ['Promo2Weeks_Embed[0][0]']      \n",
            "                                                                                                  \n",
            " StoreType_flat (Flatten)       (None, 2)            0           ['StoreType_Embed[0][0]']        \n",
            "                                                                                                  \n",
            " Assortment_flat (Flatten)      (None, 3)            0           ['Assortment_Embed[0][0]']       \n",
            "                                                                                                  \n",
            " PromoInterval_flat (Flatten)   (None, 3)            0           ['PromoInterval_Embed[0][0]']    \n",
            "                                                                                                  \n",
            " CompetitionOpenSinceYear_flat   (None, 4)           0           ['CompetitionOpenSinceYear_Embed[\n",
            " (Flatten)                                                       0][0]']                          \n",
            "                                                                                                  \n",
            " Promo2SinceYear_flat (Flatten)  (None, 4)           0           ['Promo2SinceYear_Embed[0][0]']  \n",
            "                                                                                                  \n",
            " State_flat (Flatten)           (None, 6)            0           ['State_Embed[0][0]']            \n",
            "                                                                                                  \n",
            " Week_flat (Flatten)            (None, 25)           0           ['Week_Embed[0][0]']             \n",
            "                                                                                                  \n",
            " Events_flat (Flatten)          (None, 4)            0           ['Events_Embed[0][0]']           \n",
            "                                                                                                  \n",
            " Promo_fw_flat (Flatten)        (None, 1)            0           ['Promo_fw_Embed[0][0]']         \n",
            "                                                                                                  \n",
            " Promo_bw_flat (Flatten)        (None, 1)            0           ['Promo_bw_Embed[0][0]']         \n",
            "                                                                                                  \n",
            " Promo_flat (Flatten)           (None, 1)            0           ['Promo_Embed[0][0]']            \n",
            "                                                                                                  \n",
            " StateHoliday_bool_fw_flat (Fla  (None, 1)           0           ['StateHoliday_bool_fw_Embed[0][0\n",
            " tten)                                                           ]']                              \n",
            "                                                                                                  \n",
            " StateHoliday_bool_bw_flat (Fla  (None, 1)           0           ['StateHoliday_bool_bw_Embed[0][0\n",
            " tten)                                                           ]']                              \n",
            "                                                                                                  \n",
            " SchoolHoliday_fw_flat (Flatten  (None, 1)           0           ['SchoolHoliday_fw_Embed[0][0]'] \n",
            " )                                                                                                \n",
            "                                                                                                  \n",
            " SchoolHoliday_bw_flat (Flatten  (None, 1)           0           ['SchoolHoliday_bw_Embed[0][0]'] \n",
            " )                                                                                                \n",
            "                                                                                                  \n",
            " CompetitionDistance_input (Inp  [(None, 1)]         0           []                               \n",
            " utLayer)                                                                                         \n",
            "                                                                                                  \n",
            " Max_TemperatureC_input (InputL  [(None, 1)]         0           []                               \n",
            " ayer)                                                                                            \n",
            "                                                                                                  \n",
            " Mean_TemperatureC_input (Input  [(None, 1)]         0           []                               \n",
            " Layer)                                                                                           \n",
            "                                                                                                  \n",
            " Min_TemperatureC_input (InputL  [(None, 1)]         0           []                               \n",
            " ayer)                                                                                            \n",
            "                                                                                                  \n",
            " Precipitationmm_input (InputLa  [(None, 1)]         0           []                               \n",
            " yer)                                                                                             \n",
            "                                                                                                  \n",
            " Max_Humidity_input (InputLayer  [(None, 1)]         0           []                               \n",
            " )                                                                                                \n",
            "                                                                                                  \n",
            " Mean_Humidity_input (InputLaye  [(None, 1)]         0           []                               \n",
            " r)                                                                                               \n",
            "                                                                                                  \n",
            " Min_Humidity_input (InputLayer  [(None, 1)]         0           []                               \n",
            " )                                                                                                \n",
            "                                                                                                  \n",
            " Max_Wind_SpeedKm_h_input (Inpu  [(None, 1)]         0           []                               \n",
            " tLayer)                                                                                          \n",
            "                                                                                                  \n",
            " Mean_Wind_SpeedKm_h_input (Inp  [(None, 1)]         0           []                               \n",
            " utLayer)                                                                                         \n",
            "                                                                                                  \n",
            " CloudCover_input (InputLayer)  [(None, 1)]          0           []                               \n",
            "                                                                                                  \n",
            " trend_input (InputLayer)       [(None, 1)]          0           []                               \n",
            "                                                                                                  \n",
            " trend_DE_input (InputLayer)    [(None, 1)]          0           []                               \n",
            "                                                                                                  \n",
            " AfterStateHoliday_bool_input (  [(None, 1)]         0           []                               \n",
            " InputLayer)                                                                                      \n",
            "                                                                                                  \n",
            " BeforeStateHoliday_bool_input   [(None, 1)]         0           []                               \n",
            " (InputLayer)                                                                                     \n",
            "                                                                                                  \n",
            " SchoolHoliday_input (InputLaye  [(None, 1)]         0           []                               \n",
            " r)                                                                                               \n",
            "                                                                                                  \n",
            " StateHoliday_bool_input (Input  [(None, 1)]         0           []                               \n",
            " Layer)                                                                                           \n",
            "                                                                                                  \n",
            " All_Concatenate (Concatenate)  (None, 146)          0           ['Store_flat[0][0]',             \n",
            "                                                                  'DayOfWeek_flat[0][0]',         \n",
            "                                                                  'Year_flat[0][0]',              \n",
            "                                                                  'Month_flat[0][0]',             \n",
            "                                                                  'Day_flat[0][0]',               \n",
            "                                                                  'StateHoliday_flat[0][0]',      \n",
            "                                                                  'CompetitionMonthsOpen_flat[0][0\n",
            "                                                                 ]',                              \n",
            "                                                                  'Promo2Weeks_flat[0][0]',       \n",
            "                                                                  'StoreType_flat[0][0]',         \n",
            "                                                                  'Assortment_flat[0][0]',        \n",
            "                                                                  'PromoInterval_flat[0][0]',     \n",
            "                                                                  'CompetitionOpenSinceYear_flat[0\n",
            "                                                                 ][0]',                           \n",
            "                                                                  'Promo2SinceYear_flat[0][0]',   \n",
            "                                                                  'State_flat[0][0]',             \n",
            "                                                                  'Week_flat[0][0]',              \n",
            "                                                                  'Events_flat[0][0]',            \n",
            "                                                                  'Promo_fw_flat[0][0]',          \n",
            "                                                                  'Promo_bw_flat[0][0]',          \n",
            "                                                                  'Promo_flat[0][0]',             \n",
            "                                                                  'StateHoliday_bool_fw_flat[0][0]\n",
            "                                                                 ',                               \n",
            "                                                                  'StateHoliday_bool_bw_flat[0][0]\n",
            "                                                                 ',                               \n",
            "                                                                  'SchoolHoliday_fw_flat[0][0]',  \n",
            "                                                                  'SchoolHoliday_bw_flat[0][0]',  \n",
            "                                                                  'CompetitionDistance_input[0][0]\n",
            "                                                                 ',                               \n",
            "                                                                  'Max_TemperatureC_input[0][0]', \n",
            "                                                                  'Mean_TemperatureC_input[0][0]',\n",
            "                                                                  'Min_TemperatureC_input[0][0]', \n",
            "                                                                  'Precipitationmm_input[0][0]',  \n",
            "                                                                  'Max_Humidity_input[0][0]',     \n",
            "                                                                  'Mean_Humidity_input[0][0]',    \n",
            "                                                                  'Min_Humidity_input[0][0]',     \n",
            "                                                                  'Max_Wind_SpeedKm_h_input[0][0]'\n",
            "                                                                 , 'Mean_Wind_SpeedKm_h_input[0][0\n",
            "                                                                 ]',                              \n",
            "                                                                  'CloudCover_input[0][0]',       \n",
            "                                                                  'trend_input[0][0]',            \n",
            "                                                                  'trend_DE_input[0][0]',         \n",
            "                                                                  'AfterStateHoliday_bool_input[0]\n",
            "                                                                 [0]',                            \n",
            "                                                                  'BeforeStateHoliday_bool_input[0\n",
            "                                                                 ][0]',                           \n",
            "                                                                  'SchoolHoliday_input[0][0]',    \n",
            "                                                                  'StateHoliday_bool_input[0][0]']\n",
            "                                                                                                  \n",
            " dense_4 (Dense)                (None, 1000)         147000      ['All_Concatenate[0][0]']        \n",
            "                                                                                                  \n",
            " activation_4 (Activation)      (None, 1000)         0           ['dense_4[0][0]']                \n",
            "                                                                                                  \n",
            " dense_5 (Dense)                (None, 500)          500500      ['activation_4[0][0]']           \n",
            "                                                                                                  \n",
            " activation_5 (Activation)      (None, 500)          0           ['dense_5[0][0]']                \n",
            "                                                                                                  \n",
            " Sales (Dense)                  (None, 1)            501         ['activation_5[0][0]']           \n",
            "                                                                                                  \n",
            " Customers (Dense)              (None, 1)            501         ['activation_5[0][0]']           \n",
            "                                                                                                  \n",
            "==================================================================================================\n",
            "Total params: 706,331\n",
            "Trainable params: 706,331\n",
            "Non-trainable params: 0\n",
            "__________________________________________________________________________________________________\n"
          ]
        }
      ],
      "source": [
        "# Descomentar para ver\n",
        "model.summary()"
      ]
    },
    {
      "cell_type": "code",
      "execution_count": null,
      "metadata": {
        "id": "blJZYVhJ7bev"
      },
      "outputs": [],
      "source": [
        "model.save_weights('initial_weights.hdf5')"
      ]
    },
    {
      "cell_type": "code",
      "execution_count": null,
      "metadata": {
        "id": "e8XmADIY7bev",
        "outputId": "0c7885c4-27c1-4120-a6a3-6d8bbcc3220b",
        "colab": {
          "base_uri": "https://localhost:8080/"
        }
      },
      "outputs": [
        {
          "output_type": "stream",
          "name": "stdout",
          "text": [
            "Cantidad en val: 30188, porcentaje: 0.9642465458145908\n"
          ]
        }
      ],
      "source": [
        "df_train = df[df.Date < datetime.datetime(2015, 7, 1)]  \n",
        "df_val = df[df.Date >= datetime.datetime(2015, 7, 1)]\n",
        "print(f'Cantidad en val: {len(df_val)}, porcentaje: {len(df_train)/(len(df_train) + len(df_val))}')"
      ]
    },
    {
      "cell_type": "code",
      "execution_count": null,
      "metadata": {
        "id": "asVwv3yI7bev"
      },
      "outputs": [],
      "source": [
        "from matplotlib import pyplot as plt\n",
        "# plt.figure(figsize=(20,5))\n",
        "# plt.plot((df_train[df_train['Store']==1]['Sales'].values - df_train[df_train['Store']==1]['Sales'].mean())/df_train[df_train['Store']==1]['Sales'].std())\n",
        "# plt.show()\n",
        "# plt.figure(figsize=(20,5))\n",
        "# plt.plot(np.log(df_train[df_train['Store']==1]['Sales'].values)/np.max(np.log(df_train[df_train['Store']==1]['Sales'].values)))\n",
        "# plt.show()"
      ]
    },
    {
      "cell_type": "code",
      "execution_count": null,
      "metadata": {
        "id": "hrRjdBci7bev"
      },
      "outputs": [],
      "source": [
        "stores_mean = {}\n",
        "for store, g_df in df_train.groupby('Store'):\n",
        "    stores_mean[store] = g_df[g_df['Sales'] > 0]['Sales'].mean()"
      ]
    },
    {
      "cell_type": "code",
      "execution_count": null,
      "metadata": {
        "id": "DqhhjC6S7bew",
        "colab": {
          "base_uri": "https://localhost:8080/"
        },
        "outputId": "6119a353-71e5-46a0-d6ff-007c691a026b"
      },
      "outputs": [
        {
          "output_type": "stream",
          "name": "stderr",
          "text": [
            "/usr/local/lib/python3.7/dist-packages/pandas/core/indexing.py:1667: SettingWithCopyWarning: \n",
            "A value is trying to be set on a copy of a slice from a DataFrame.\n",
            "Try using .loc[row_indexer,col_indexer] = value instead\n",
            "\n",
            "See the caveats in the documentation: https://pandas.pydata.org/pandas-docs/stable/user_guide/indexing.html#returning-a-view-versus-a-copy\n",
            "  self.obj[key] = value\n"
          ]
        }
      ],
      "source": [
        "df_train.loc[:, 'mean_by_store'] = df_train['Store'].apply(stores_mean.get)\n",
        "df_val.loc[:, 'mean_by_store'] = df_val['Store'].apply(stores_mean.get)\n",
        "\n",
        "df_train.loc[:, 'Sales_store'] = df_train['Sales'] - df_train['mean_by_store']\n",
        "df_val.loc[:, 'Sales_store'] = df_val['Sales'] - df_val['mean_by_store']"
      ]
    },
    {
      "cell_type": "code",
      "execution_count": null,
      "metadata": {
        "id": "jiqHGy1-7bew"
      },
      "outputs": [],
      "source": [
        "from tensorflow.keras import backend as K"
      ]
    },
    {
      "cell_type": "code",
      "execution_count": null,
      "metadata": {
        "id": "m-Cq9vls7bew"
      },
      "outputs": [],
      "source": [
        "def rmspe(y_true, y_pred):\n",
        "    return K.sqrt(K.mean(K.square((y_true - y_pred)/y_true)))"
      ]
    },
    {
      "cell_type": "code",
      "execution_count": null,
      "metadata": {
        "id": "77z6CuTr7bew"
      },
      "outputs": [],
      "source": [
        "def get_metric(df, sales_):\n",
        "    return np.sqrt((((df['Sales'] - sales_)/df['Sales'])**2).mean())"
      ]
    },
    {
      "cell_type": "code",
      "execution_count": null,
      "metadata": {
        "id": "BkkE2IET7bew",
        "outputId": "33642c7a-adb4-4d93-e640-1f085cf4bfb9",
        "colab": {
          "base_uri": "https://localhost:8080/"
        }
      },
      "outputs": [
        {
          "output_type": "execute_result",
          "data": {
            "text/plain": [
              "0.3071746085338871"
            ]
          },
          "metadata": {},
          "execution_count": 115
        }
      ],
      "source": [
        "get_metric(df_val, df_val['mean_by_store'])"
      ]
    },
    {
      "cell_type": "code",
      "execution_count": null,
      "metadata": {
        "id": "WMs3g57n7bex"
      },
      "outputs": [],
      "source": [
        "all_vars = cat_vars + contin_vars\n",
        "X_train = np.hsplit(df_train[all_vars].values, len(all_vars))\n",
        "X_val = np.hsplit(df_val[all_vars].values, len(all_vars))\n",
        "X_test = np.hsplit(df_test[all_vars].values, len(all_vars))"
      ]
    },
    {
      "cell_type": "code",
      "execution_count": null,
      "metadata": {
        "id": "eLtLDr9-7bex"
      },
      "outputs": [],
      "source": [
        "if add_customers:\n",
        "    y_out_columns = ['Sales', 'Customers']\n",
        "else:\n",
        "    y_out_columns = ['Sales_store']\n",
        "    \n",
        "if log_output:\n",
        "    # Escala logaritmica\n",
        "    max_log_y = np.max(np.log(df[y_out_columns])).values\n",
        "    y_train = np.log(df_train[y_out_columns].values)/max_log_y\n",
        "    y_val = np.log(df_val[y_out_columns].values)/max_log_y\n",
        "else:\n",
        "    # Normalización\n",
        "    y_mean = df_train[y_out_columns].mean().values\n",
        "    y_std = df_train[y_out_columns].std().values\n",
        "    y_train = (df_train[y_out_columns].values - y_mean)/y_std\n",
        "    y_val = (df_val[y_out_columns].values - y_mean)/y_std\n",
        "    # y_max = df_train[y_out_columns].max().values\n",
        "    # y_train = df_train[y_out_columns].values/y_max\n",
        "    # y_val = df_val[y_out_columns].values/y_max\n",
        "y_train = np.hsplit(y_train, y_train.shape[1])\n",
        "y_val = np.hsplit(y_val, y_val.shape[1])"
      ]
    },
    {
      "cell_type": "code",
      "execution_count": null,
      "metadata": {
        "id": "9CNdLj4z7bex",
        "colab": {
          "base_uri": "https://localhost:8080/"
        },
        "outputId": "637be597-5d8d-489a-f0f6-6f8a9cfea00a"
      },
      "outputs": [
        {
          "output_type": "stream",
          "name": "stderr",
          "text": [
            "/usr/local/lib/python3.7/dist-packages/keras/optimizers/optimizer_v2/adam.py:110: UserWarning: The `lr` argument is deprecated, use `learning_rate` instead.\n",
            "  super(Adam, self).__init__(name, **kwargs)\n"
          ]
        }
      ],
      "source": [
        "lr = 0.001\n",
        "model.compile(optimizer=Adam(lr=lr), metrics=['mse', rmspe], loss='mse')"
      ]
    },
    {
      "cell_type": "code",
      "execution_count": null,
      "metadata": {
        "id": "VB3yXUwo7bex"
      },
      "outputs": [],
      "source": [
        "if add_customers:\n",
        "    checkpoint = ModelCheckpoint('bestmodel.hdf5', monitor='val_Sales_mse', verbose=1, save_best_only=True)\n",
        "else:\n",
        "    checkpoint = ModelCheckpoint('bestmodel.hdf5', monitor='val_loss', verbose=1, save_best_only=True)"
      ]
    },
    {
      "cell_type": "code",
      "execution_count": null,
      "metadata": {
        "id": "b-4uQTyH7bey",
        "outputId": "fd0734d7-1048-4e15-ab00-239d3d9608d8",
        "colab": {
          "base_uri": "https://localhost:8080/"
        }
      },
      "outputs": [
        {
          "output_type": "stream",
          "name": "stdout",
          "text": [
            "Epoch 1/20\n",
            "\n",
            "Epoch 1: val_Sales_mse improved from inf to 0.09458, saving model to bestmodel.hdf5\n",
            "3181/3181 - 98s - loss: 0.2776 - Sales_loss: 0.1284 - Customers_loss: 0.0903 - Sales_mse: 0.1284 - Sales_rmspe: 26.7045 - Customers_mse: 0.0903 - Customers_rmspe: 10.0373 - val_loss: 0.1799 - val_Sales_loss: 0.0946 - val_Customers_loss: 0.0562 - val_Sales_mse: 0.0946 - val_Sales_rmspe: 32.0083 - val_Customers_mse: 0.0562 - val_Customers_rmspe: 8.4239 - 98s/epoch - 31ms/step\n",
            "Epoch 2/20\n",
            "\n",
            "Epoch 2: val_Sales_mse improved from 0.09458 to 0.09168, saving model to bestmodel.hdf5\n",
            "3181/3181 - 93s - loss: 0.1426 - Sales_loss: 0.0724 - Customers_loss: 0.0452 - Sales_mse: 0.0724 - Sales_rmspe: 22.4212 - Customers_mse: 0.0452 - Customers_rmspe: 7.9079 - val_loss: 0.1733 - val_Sales_loss: 0.0917 - val_Customers_loss: 0.0594 - val_Sales_mse: 0.0917 - val_Sales_rmspe: 32.9583 - val_Customers_mse: 0.0594 - val_Customers_rmspe: 9.9438 - 93s/epoch - 29ms/step\n",
            "Epoch 3/20\n",
            "\n",
            "Epoch 3: val_Sales_mse improved from 0.09168 to 0.08642, saving model to bestmodel.hdf5\n",
            "3181/3181 - 93s - loss: 0.1223 - Sales_loss: 0.0637 - Customers_loss: 0.0382 - Sales_mse: 0.0637 - Sales_rmspe: 20.5835 - Customers_mse: 0.0382 - Customers_rmspe: 7.3447 - val_loss: 0.1529 - val_Sales_loss: 0.0864 - val_Customers_loss: 0.0476 - val_Sales_mse: 0.0864 - val_Sales_rmspe: 29.1572 - val_Customers_mse: 0.0476 - val_Customers_rmspe: 9.7235 - 93s/epoch - 29ms/step\n",
            "Epoch 4/20\n",
            "\n",
            "Epoch 4: val_Sales_mse improved from 0.08642 to 0.08069, saving model to bestmodel.hdf5\n",
            "3181/3181 - 91s - loss: 0.1130 - Sales_loss: 0.0599 - Customers_loss: 0.0353 - Sales_mse: 0.0599 - Sales_rmspe: 21.6189 - Customers_mse: 0.0353 - Customers_rmspe: 7.1628 - val_loss: 0.1427 - val_Sales_loss: 0.0807 - val_Customers_loss: 0.0451 - val_Sales_mse: 0.0807 - val_Sales_rmspe: 32.8566 - val_Customers_mse: 0.0451 - val_Customers_rmspe: 9.4817 - 91s/epoch - 28ms/step\n",
            "Epoch 5/20\n",
            "\n",
            "Epoch 5: val_Sales_mse did not improve from 0.08069\n",
            "3181/3181 - 91s - loss: 0.1072 - Sales_loss: 0.0574 - Customers_loss: 0.0334 - Sales_mse: 0.0574 - Sales_rmspe: 20.5628 - Customers_mse: 0.0334 - Customers_rmspe: 6.9397 - val_loss: 0.1438 - val_Sales_loss: 0.0840 - val_Customers_loss: 0.0440 - val_Sales_mse: 0.0840 - val_Sales_rmspe: 27.5491 - val_Customers_mse: 0.0440 - val_Customers_rmspe: 9.0488 - 91s/epoch - 29ms/step\n",
            "Epoch 6/20\n",
            "\n",
            "Epoch 6: val_Sales_mse improved from 0.08069 to 0.07773, saving model to bestmodel.hdf5\n",
            "3181/3181 - 90s - loss: 0.1035 - Sales_loss: 0.0559 - Customers_loss: 0.0323 - Sales_mse: 0.0559 - Sales_rmspe: 19.5716 - Customers_mse: 0.0323 - Customers_rmspe: 6.9048 - val_loss: 0.1374 - val_Sales_loss: 0.0777 - val_Customers_loss: 0.0450 - val_Sales_mse: 0.0777 - val_Sales_rmspe: 32.3181 - val_Customers_mse: 0.0450 - val_Customers_rmspe: 8.6109 - 90s/epoch - 28ms/step\n",
            "Epoch 7/20\n",
            "\n",
            "Epoch 7: val_Sales_mse improved from 0.07773 to 0.07669, saving model to bestmodel.hdf5\n",
            "3181/3181 - 90s - loss: 0.1008 - Sales_loss: 0.0547 - Customers_loss: 0.0316 - Sales_mse: 0.0547 - Sales_rmspe: 18.8286 - Customers_mse: 0.0316 - Customers_rmspe: 6.7920 - val_loss: 0.1338 - val_Sales_loss: 0.0767 - val_Customers_loss: 0.0430 - val_Sales_mse: 0.0767 - val_Sales_rmspe: 25.5220 - val_Customers_mse: 0.0430 - val_Customers_rmspe: 8.6582 - 90s/epoch - 28ms/step\n",
            "Epoch 8/20\n",
            "\n",
            "Epoch 8: val_Sales_mse did not improve from 0.07669\n",
            "3181/3181 - 90s - loss: 0.0984 - Sales_loss: 0.0536 - Customers_loss: 0.0307 - Sales_mse: 0.0536 - Sales_rmspe: 18.4559 - Customers_mse: 0.0307 - Customers_rmspe: 6.5619 - val_loss: 0.1422 - val_Sales_loss: 0.0827 - val_Customers_loss: 0.0457 - val_Sales_mse: 0.0827 - val_Sales_rmspe: 25.8319 - val_Customers_mse: 0.0457 - val_Customers_rmspe: 8.1939 - 90s/epoch - 28ms/step\n",
            "Epoch 9/20\n",
            "\n",
            "Epoch 9: val_Sales_mse improved from 0.07669 to 0.07526, saving model to bestmodel.hdf5\n",
            "3181/3181 - 93s - loss: 0.0969 - Sales_loss: 0.0529 - Customers_loss: 0.0303 - Sales_mse: 0.0529 - Sales_rmspe: 19.5708 - Customers_mse: 0.0303 - Customers_rmspe: 6.5765 - val_loss: 0.1292 - val_Sales_loss: 0.0753 - val_Customers_loss: 0.0404 - val_Sales_mse: 0.0753 - val_Sales_rmspe: 22.5051 - val_Customers_mse: 0.0404 - val_Customers_rmspe: 8.7385 - 93s/epoch - 29ms/step\n",
            "Epoch 10/20\n",
            "\n",
            "Epoch 10: val_Sales_mse did not improve from 0.07526\n",
            "3181/3181 - 91s - loss: 0.0953 - Sales_loss: 0.0521 - Customers_loss: 0.0298 - Sales_mse: 0.0521 - Sales_rmspe: 18.4712 - Customers_mse: 0.0298 - Customers_rmspe: 6.4989 - val_loss: 0.1357 - val_Sales_loss: 0.0800 - val_Customers_loss: 0.0423 - val_Sales_mse: 0.0800 - val_Sales_rmspe: 27.8525 - val_Customers_mse: 0.0423 - val_Customers_rmspe: 8.4725 - 91s/epoch - 29ms/step\n",
            "Epoch 11/20\n",
            "\n",
            "Epoch 11: val_Sales_mse did not improve from 0.07526\n",
            "3181/3181 - 93s - loss: 0.0938 - Sales_loss: 0.0514 - Customers_loss: 0.0293 - Sales_mse: 0.0514 - Sales_rmspe: 18.0140 - Customers_mse: 0.0293 - Customers_rmspe: 6.4852 - val_loss: 0.1334 - val_Sales_loss: 0.0766 - val_Customers_loss: 0.0438 - val_Sales_mse: 0.0766 - val_Sales_rmspe: 28.9567 - val_Customers_mse: 0.0438 - val_Customers_rmspe: 8.7716 - 93s/epoch - 29ms/step\n",
            "Epoch 12/20\n",
            "\n",
            "Epoch 12: val_Sales_mse did not improve from 0.07526\n",
            "3181/3181 - 91s - loss: 0.0928 - Sales_loss: 0.0508 - Customers_loss: 0.0290 - Sales_mse: 0.0508 - Sales_rmspe: 18.2982 - Customers_mse: 0.0290 - Customers_rmspe: 6.4234 - val_loss: 0.1453 - val_Sales_loss: 0.0852 - val_Customers_loss: 0.0473 - val_Sales_mse: 0.0852 - val_Sales_rmspe: 26.8832 - val_Customers_mse: 0.0473 - val_Customers_rmspe: 9.2718 - 91s/epoch - 29ms/step\n",
            "Epoch 13/20\n",
            "\n",
            "Epoch 13: val_Sales_mse improved from 0.07526 to 0.07255, saving model to bestmodel.hdf5\n",
            "3181/3181 - 95s - loss: 0.0917 - Sales_loss: 0.0502 - Customers_loss: 0.0287 - Sales_mse: 0.0502 - Sales_rmspe: 17.9625 - Customers_mse: 0.0287 - Customers_rmspe: 6.4873 - val_loss: 0.1218 - val_Sales_loss: 0.0725 - val_Customers_loss: 0.0367 - val_Sales_mse: 0.0725 - val_Sales_rmspe: 23.9866 - val_Customers_mse: 0.0367 - val_Customers_rmspe: 8.4819 - 95s/epoch - 30ms/step\n",
            "Epoch 14/20\n",
            "\n",
            "Epoch 14: val_Sales_mse improved from 0.07255 to 0.06954, saving model to bestmodel.hdf5\n",
            "3181/3181 - 93s - loss: 0.0910 - Sales_loss: 0.0499 - Customers_loss: 0.0284 - Sales_mse: 0.0499 - Sales_rmspe: 17.8995 - Customers_mse: 0.0284 - Customers_rmspe: 6.2861 - val_loss: 0.1208 - val_Sales_loss: 0.0695 - val_Customers_loss: 0.0385 - val_Sales_mse: 0.0695 - val_Sales_rmspe: 20.9315 - val_Customers_mse: 0.0385 - val_Customers_rmspe: 8.7436 - 93s/epoch - 29ms/step\n",
            "Epoch 15/20\n",
            "\n",
            "Epoch 15: val_Sales_mse did not improve from 0.06954\n",
            "3181/3181 - 92s - loss: 0.0904 - Sales_loss: 0.0496 - Customers_loss: 0.0282 - Sales_mse: 0.0496 - Sales_rmspe: 17.6632 - Customers_mse: 0.0282 - Customers_rmspe: 6.3632 - val_loss: 0.1235 - val_Sales_loss: 0.0721 - val_Customers_loss: 0.0388 - val_Sales_mse: 0.0721 - val_Sales_rmspe: 22.9679 - val_Customers_mse: 0.0388 - val_Customers_rmspe: 8.9239 - 92s/epoch - 29ms/step\n",
            "Epoch 16/20\n",
            "\n",
            "Epoch 16: val_Sales_mse did not improve from 0.06954\n",
            "3181/3181 - 90s - loss: 0.0894 - Sales_loss: 0.0490 - Customers_loss: 0.0278 - Sales_mse: 0.0490 - Sales_rmspe: 17.6437 - Customers_mse: 0.0278 - Customers_rmspe: 6.3038 - val_loss: 0.1286 - val_Sales_loss: 0.0744 - val_Customers_loss: 0.0418 - val_Sales_mse: 0.0744 - val_Sales_rmspe: 21.0163 - val_Customers_mse: 0.0418 - val_Customers_rmspe: 8.4092 - 90s/epoch - 28ms/step\n",
            "Epoch 17/20\n",
            "\n",
            "Epoch 17: val_Sales_mse did not improve from 0.06954\n",
            "3181/3181 - 92s - loss: 0.0890 - Sales_loss: 0.0488 - Customers_loss: 0.0277 - Sales_mse: 0.0488 - Sales_rmspe: 17.8922 - Customers_mse: 0.0277 - Customers_rmspe: 6.4195 - val_loss: 0.1262 - val_Sales_loss: 0.0741 - val_Customers_loss: 0.0395 - val_Sales_mse: 0.0741 - val_Sales_rmspe: 24.7039 - val_Customers_mse: 0.0395 - val_Customers_rmspe: 9.1080 - 92s/epoch - 29ms/step\n",
            "Epoch 18/20\n",
            "\n",
            "Epoch 18: val_Sales_mse did not improve from 0.06954\n",
            "3181/3181 - 91s - loss: 0.0882 - Sales_loss: 0.0484 - Customers_loss: 0.0274 - Sales_mse: 0.0484 - Sales_rmspe: 17.3892 - Customers_mse: 0.0274 - Customers_rmspe: 6.3556 - val_loss: 0.1210 - val_Sales_loss: 0.0701 - val_Customers_loss: 0.0384 - val_Sales_mse: 0.0701 - val_Sales_rmspe: 20.2197 - val_Customers_mse: 0.0384 - val_Customers_rmspe: 8.6120 - 91s/epoch - 29ms/step\n",
            "Epoch 19/20\n",
            "\n",
            "Epoch 19: val_Sales_mse did not improve from 0.06954\n",
            "3181/3181 - 92s - loss: 0.0877 - Sales_loss: 0.0480 - Customers_loss: 0.0273 - Sales_mse: 0.0480 - Sales_rmspe: 18.0344 - Customers_mse: 0.0273 - Customers_rmspe: 6.3886 - val_loss: 0.1254 - val_Sales_loss: 0.0755 - val_Customers_loss: 0.0373 - val_Sales_mse: 0.0755 - val_Sales_rmspe: 25.5153 - val_Customers_mse: 0.0373 - val_Customers_rmspe: 8.2164 - 92s/epoch - 29ms/step\n",
            "Epoch 20/20\n",
            "\n",
            "Epoch 20: val_Sales_mse did not improve from 0.06954\n",
            "3181/3181 - 92s - loss: 0.0869 - Sales_loss: 0.0476 - Customers_loss: 0.0269 - Sales_mse: 0.0476 - Sales_rmspe: 17.4528 - Customers_mse: 0.0269 - Customers_rmspe: 6.3122 - val_loss: 0.1292 - val_Sales_loss: 0.0754 - val_Customers_loss: 0.0416 - val_Sales_mse: 0.0754 - val_Sales_rmspe: 24.0816 - val_Customers_mse: 0.0416 - val_Customers_rmspe: 9.2511 - 92s/epoch - 29ms/step\n"
          ]
        }
      ],
      "source": [
        "epochs = 20\n",
        "batch_size = 256\n",
        "history = model.fit(X_train, y_train, validation_data=(X_val, y_val),  epochs=epochs, batch_size=batch_size, callbacks=[checkpoint], verbose=2)"
      ]
    },
    {
      "cell_type": "code",
      "execution_count": null,
      "metadata": {
        "id": "YyZZqjfL7bey",
        "outputId": "697cd9ab-1175-48b3-a882-c896f75edaa4",
        "colab": {
          "base_uri": "https://localhost:8080/",
          "height": 530
        }
      },
      "outputs": [
        {
          "output_type": "display_data",
          "data": {
            "text/plain": [
              "<Figure size 432x288 with 1 Axes>"
            ],
            "image/png": "[encoded data removed]"
          },
          "metadata": {
            "needs_background": "light"
          }
        },
        {
          "output_type": "execute_result",
          "data": {
            "text/plain": [
              "[<matplotlib.lines.Line2D at 0x7fa873cd0c90>]"
            ]
          },
          "metadata": {},
          "execution_count": 121
        },
        {
          "output_type": "display_data",
          "data": {
            "text/plain": [
              "<Figure size 432x288 with 1 Axes>"
            ],
            "image/png": "[encoded data removed]"
          },
          "metadata": {
            "needs_background": "light"
          }
        }
      ],
      "source": [
        "import matplotlib.pyplot as plt\n",
        "plt.plot(history.history['val_loss'])\n",
        "# plt.plot(history.history['val_Customers_mse'])\n",
        "# plt.plot(history.history['val_Sales_mse'])\n",
        "plt.show()\n",
        "plt.plot(history.history['loss'])\n",
        "# plt.plot(history.history['Customers_mse'])\n",
        "# plt.plot(history.history['Sales_mse'])"
      ]
    },
    {
      "cell_type": "markdown",
      "metadata": {
        "id": "FsNwFXMq7bey"
      },
      "source": [
        "# Métrica"
      ]
    },
    {
      "cell_type": "markdown",
      "metadata": {
        "id": "arcdMgg_7bey"
      },
      "source": [
        "$$\n",
        "\\textrm{RMSE} = \\sqrt{\\frac{1}{n} \\sum_{i=1}^{n} \\left(\\frac{\\hat{y}_i - y_i}{y_i}\\right)^2}\n",
        "$$"
      ]
    },
    {
      "cell_type": "code",
      "execution_count": null,
      "metadata": {
        "id": "DSa1zrU_7bey",
        "outputId": "1f20338d-b569-444f-cac2-379a4532b5df",
        "colab": {
          "base_uri": "https://localhost:8080/"
        }
      },
      "outputs": [
        {
          "output_type": "stream",
          "name": "stdout",
          "text": [
            "944/944 [==============================] - 7s 7ms/step - loss: 0.1292 - Sales_loss: 0.0754 - Customers_loss: 0.0416 - Sales_mse: 0.0754 - Sales_rmspe: 10.6232 - Customers_mse: 0.0416 - Customers_rmspe: 4.9699\n"
          ]
        },
        {
          "output_type": "execute_result",
          "data": {
            "text/plain": [
              "[0.12921932339668274,\n",
              " 0.07536710053682327,\n",
              " 0.04157830402255058,\n",
              " 0.07536710053682327,\n",
              " 10.623239517211914,\n",
              " 0.04157830402255058,\n",
              " 4.9698710441589355]"
            ]
          },
          "metadata": {},
          "execution_count": 122
        }
      ],
      "source": [
        "model.evaluate(X_val, y_val)"
      ]
    },
    {
      "cell_type": "code",
      "execution_count": null,
      "metadata": {
        "id": "ns2MF0fn7bez",
        "outputId": "1dd613fe-2502-4259-9e86-d6d9b4071ad4",
        "colab": {
          "base_uri": "https://localhost:8080/"
        }
      },
      "outputs": [
        {
          "output_type": "stream",
          "name": "stdout",
          "text": [
            "944/944 [==============================] - 7s 7ms/step - loss: 0.1208 - Sales_loss: 0.0695 - Customers_loss: 0.0385 - Sales_mse: 0.0695 - Sales_rmspe: 9.4361 - Customers_mse: 0.0385 - Customers_rmspe: 4.5674\n"
          ]
        },
        {
          "output_type": "execute_result",
          "data": {
            "text/plain": [
              "[0.12077847123146057,\n",
              " 0.06954479217529297,\n",
              " 0.03847568482160568,\n",
              " 0.06954479217529297,\n",
              " 9.436066627502441,\n",
              " 0.03847568482160568,\n",
              " 4.56736946105957]"
            ]
          },
          "metadata": {},
          "execution_count": 123
        }
      ],
      "source": [
        "model.load_weights('bestmodel.hdf5')\n",
        "model.evaluate(X_val, y_val)"
      ]
    },
    {
      "cell_type": "code",
      "execution_count": null,
      "metadata": {
        "id": "Rb7VKBt87bez"
      },
      "outputs": [],
      "source": [
        "# model.load_weights('bestmodel.hdf5')\n",
        "# model.evaluate(X_val, y_val)\n",
        "# 30188/30188 [==============================] - 5s 172us/step\n",
        "# [0.12197033089921382,\n",
        "#  0.07211007360268763,\n",
        "#  0.037183713050426136,\n",
        "#  0.07211007360268763,\n",
        "#  0.037183713050426136]\n",
        "\n",
        "# [0.12932546436786652,\n",
        "#  0.07751645147800446,\n",
        "#  0.039259567856788635,\n",
        "#  0.07751645147800446,\n",
        "#  0.039259567856788635]"
      ]
    },
    {
      "cell_type": "code",
      "execution_count": null,
      "metadata": {
        "id": "rT-Anj8s7bez",
        "outputId": "1472964c-44f4-4e4f-cdac-a3853130800b",
        "colab": {
          "base_uri": "https://localhost:8080/"
        }
      },
      "outputs": [
        {
          "output_type": "stream",
          "name": "stdout",
          "text": [
            "944/944 [==============================] - 5s 5ms/step\n",
            "1284/1284 [==============================] - 8s 7ms/step\n"
          ]
        }
      ],
      "source": [
        "if log_output:\n",
        "    if add_customers:\n",
        "        y_pred = np.exp(model.predict(X_val, verbose=1)[0][:, 0]*max_log_y[0])\n",
        "        y_pred_test = np.exp(model.predict(X_test, verbose=1)[0][:, 0]*max_log_y[0])\n",
        "    else:\n",
        "        y_pred = np.exp(model.predict(X_val, verbose=1)*max_log_y)[:,0]\n",
        "        y_pred_test = np.exp(model.predict(X_test, verbose=1)*max_log_y)[:,0]\n",
        "else:\n",
        "    if add_customers:\n",
        "        y_pred = (model.predict(X_val, verbose=1)[0]*y_std[0] + y_mean[0])[:,0]\n",
        "        y_pred_test = (model.predict(X_test, verbose=1)[0]*y_std[0] + y_mean[0])[:,0]\n",
        "    else:\n",
        "#         y_pred = model.predict(X_val, verbose=1)[:,0]*y_std + y_mean\n",
        "#         y_pred_test = model.predict(X_test, verbose=1)[:,0]*y_std + y_mean\n",
        "        y_pred = model.predict(X_val, verbose=1)[:,0]*y_max\n",
        "        y_pred_test = model.predict(X_test, verbose=1)[:,0]*y_max\n",
        "y_pred_test[df_test['Open'] == 0] = 0"
      ]
    },
    {
      "cell_type": "code",
      "execution_count": null,
      "metadata": {
        "id": "E1auKkwF7be0",
        "outputId": "6633328a-5e1d-4aa8-cd95-43ef26d19533",
        "colab": {
          "base_uri": "https://localhost:8080/"
        }
      },
      "outputs": [
        {
          "output_type": "execute_result",
          "data": {
            "text/plain": [
              "0.11987906289271852"
            ]
          },
          "metadata": {},
          "execution_count": 125
        }
      ],
      "source": [
        "np.sqrt((((df_val['Sales'].values - y_pred)/df_val['Sales'].values)**2).sum()/len(y_pred))"
      ]
    },
    {
      "cell_type": "code",
      "execution_count": null,
      "metadata": {
        "id": "RP-QfOnH7be0",
        "outputId": "a50de224-e454-4f23-f331-a78fe40f5244",
        "colab": {
          "base_uri": "https://localhost:8080/"
        }
      },
      "outputs": [
        {
          "output_type": "execute_result",
          "data": {
            "text/plain": [
              "array([4324.2744, 7238.5693, 8610.546 , 6855.5747, 7228.071 , 5688.2734,\n",
              "       7416.8984, 7835.3857, 4776.1377, 5854.2925], dtype=float32)"
            ]
          },
          "metadata": {},
          "execution_count": 126
        }
      ],
      "source": [
        "y_pred_test[:10]"
      ]
    },
    {
      "cell_type": "markdown",
      "metadata": {
        "id": "p78C-Vva7be0"
      },
      "source": [
        "# Baseline"
      ]
    },
    {
      "cell_type": "code",
      "execution_count": null,
      "metadata": {
        "id": "NgAycLXx7be0"
      },
      "outputs": [],
      "source": [
        "import pandas as pd\n",
        "sample_csv = pd.read_csv('/content/drive/MyDrive/Colab Notebooks/Redes Neuronales/TP2/dataset/sample_submission.csv')"
      ]
    },
    {
      "cell_type": "code",
      "execution_count": null,
      "metadata": {
        "id": "p-RnbACW7be1"
      },
      "outputs": [],
      "source": [
        "stores_mean = {}\n",
        "for store, g_df in df.groupby('Store'):\n",
        "    stores_mean[store] = g_df[g_df['Sales'] > 0]['Sales'].mean()"
      ]
    },
    {
      "cell_type": "code",
      "execution_count": null,
      "metadata": {
        "id": "qDb_62297be1"
      },
      "outputs": [],
      "source": [
        "df_test['Sales'] = df_test['Store'].apply(stores_mean.get)\n",
        "df_test.loc[df_test['Open'] == 0, 'Sales'] = 0"
      ]
    },
    {
      "cell_type": "code",
      "execution_count": null,
      "metadata": {
        "id": "4SR1PSBn7be1",
        "outputId": "73a663ed-0d4e-44c0-fafa-7fbf5cf1e1cf",
        "colab": {
          "base_uri": "https://localhost:8080/",
          "height": 363
        }
      },
      "outputs": [
        {
          "output_type": "execute_result",
          "data": {
            "text/plain": [
              "   Store        Sales\n",
              "0      0  4759.096031\n",
              "1      2  6942.568678\n",
              "2      6  8817.050891\n",
              "3      7  5539.358418\n",
              "4      8  6562.337612\n",
              "5      9  5568.420918\n",
              "6     10  8030.977041\n",
              "7     11  7589.598214\n",
              "8     12  5034.747182\n",
              "9     13  5508.567394"
            ],
            "text/html": [
              "\n",
              "  <div id=\"df-4dd69c1b-97e1-4c01-aae6-684cb11f1c8c\">\n",
              "    <div class=\"colab-df-container\">\n",
              "      <div>\n",
              "<style scoped>\n",
              "    .dataframe tbody tr th:only-of-type {\n",
              "        vertical-align: middle;\n",
              "    }\n",
              "\n",
              "    .dataframe tbody tr th {\n",
              "        vertical-align: top;\n",
              "    }\n",
              "\n",
              "    .dataframe thead th {\n",
              "        text-align: right;\n",
              "    }\n",
              "</style>\n",
              "<table border=\"1\" class=\"dataframe\">\n",
              "  <thead>\n",
              "    <tr style=\"text-align: right;\">\n",
              "      <th></th>\n",
              "      <th>Store</th>\n",
              "      <th>Sales</th>\n",
              "    </tr>\n",
              "  </thead>\n",
              "  <tbody>\n",
              "    <tr>\n",
              "      <th>0</th>\n",
              "      <td>0</td>\n",
              "      <td>4759.096031</td>\n",
              "    </tr>\n",
              "    <tr>\n",
              "      <th>1</th>\n",
              "      <td>2</td>\n",
              "      <td>6942.568678</td>\n",
              "    </tr>\n",
              "    <tr>\n",
              "      <th>2</th>\n",
              "      <td>6</td>\n",
              "      <td>8817.050891</td>\n",
              "    </tr>\n",
              "    <tr>\n",
              "      <th>3</th>\n",
              "      <td>7</td>\n",
              "      <td>5539.358418</td>\n",
              "    </tr>\n",
              "    <tr>\n",
              "      <th>4</th>\n",
              "      <td>8</td>\n",
              "      <td>6562.337612</td>\n",
              "    </tr>\n",
              "    <tr>\n",
              "      <th>5</th>\n",
              "      <td>9</td>\n",
              "      <td>5568.420918</td>\n",
              "    </tr>\n",
              "    <tr>\n",
              "      <th>6</th>\n",
              "      <td>10</td>\n",
              "      <td>8030.977041</td>\n",
              "    </tr>\n",
              "    <tr>\n",
              "      <th>7</th>\n",
              "      <td>11</td>\n",
              "      <td>7589.598214</td>\n",
              "    </tr>\n",
              "    <tr>\n",
              "      <th>8</th>\n",
              "      <td>12</td>\n",
              "      <td>5034.747182</td>\n",
              "    </tr>\n",
              "    <tr>\n",
              "      <th>9</th>\n",
              "      <td>13</td>\n",
              "      <td>5508.567394</td>\n",
              "    </tr>\n",
              "  </tbody>\n",
              "</table>\n",
              "</div>\n",
              "      <button class=\"colab-df-convert\" onclick=\"convertToInteractive('df-4dd69c1b-97e1-4c01-aae6-684cb11f1c8c')\"\n",
              "              title=\"Convert this dataframe to an interactive table.\"\n",
              "              style=\"display:none;\">\n",
              "        \n",
              "  <svg xmlns=\"http://www.w3.org/2000/svg\" height=\"24px\"viewBox=\"0 0 24 24\"\n",
              "       width=\"24px\">\n",
              "    <path d=\"M0 0h24v24H0V0z\" fill=\"none\"/>\n",
              "    <path d=\"M18.56 5.44l.94 2.06.94-2.06 2.06-.94-2.06-.94-.94-2.06-.94 2.06-2.06.94zm-11 1L8.5 8.5l.94-2.06 2.06-.94-2.06-.94L8.5 2.5l-.94 2.06-2.06.94zm10 10l.94 2.06.94-2.06 2.06-.94-2.06-.94-.94-2.06-.94 2.06-2.06.94z\"/><path d=\"M17.41 7.96l-1.37-1.37c-.4-.4-.92-.59-1.43-.59-.52 0-1.04.2-1.43.59L10.3 9.45l-7.72 7.72c-.78.78-.78 2.05 0 2.83L4 21.41c.39.39.9.59 1.41.59.51 0 1.02-.2 1.41-.59l7.78-7.78 2.81-2.81c.8-.78.8-2.07 0-2.86zM5.41 20L4 18.59l7.72-7.72 1.47 1.35L5.41 20z\"/>\n",
              "  </svg>\n",
              "      </button>\n",
              "      \n",
              "  <style>\n",
              "    .colab-df-container {\n",
              "      display:flex;\n",
              "      flex-wrap:wrap;\n",
              "      gap: 12px;\n",
              "    }\n",
              "\n",
              "    .colab-df-convert {\n",
              "      background-color: #E8F0FE;\n",
              "      border: none;\n",
              "      border-radius: 50%;\n",
              "      cursor: pointer;\n",
              "      display: none;\n",
              "      fill: #1967D2;\n",
              "      height: 32px;\n",
              "      padding: 0 0 0 0;\n",
              "      width: 32px;\n",
              "    }\n",
              "\n",
              "    .colab-df-convert:hover {\n",
              "      background-color: #E2EBFA;\n",
              "      box-shadow: 0px 1px 2px rgba(60, 64, 67, 0.3), 0px 1px 3px 1px rgba(60, 64, 67, 0.15);\n",
              "      fill: #174EA6;\n",
              "    }\n",
              "\n",
              "    [theme=dark] .colab-df-convert {\n",
              "      background-color: #3B4455;\n",
              "      fill: #D2E3FC;\n",
              "    }\n",
              "\n",
              "    [theme=dark] .colab-df-convert:hover {\n",
              "      background-color: #434B5C;\n",
              "      box-shadow: 0px 1px 3px 1px rgba(0, 0, 0, 0.15);\n",
              "      filter: drop-shadow(0px 1px 2px rgba(0, 0, 0, 0.3));\n",
              "      fill: #FFFFFF;\n",
              "    }\n",
              "  </style>\n",
              "\n",
              "      <script>\n",
              "        const buttonEl =\n",
              "          document.querySelector('#df-4dd69c1b-97e1-4c01-aae6-684cb11f1c8c button.colab-df-convert');\n",
              "        buttonEl.style.display =\n",
              "          google.colab.kernel.accessAllowed ? 'block' : 'none';\n",
              "\n",
              "        async function convertToInteractive(key) {\n",
              "          const element = document.querySelector('#df-4dd69c1b-97e1-4c01-aae6-684cb11f1c8c');\n",
              "          const dataTable =\n",
              "            await google.colab.kernel.invokeFunction('convertToInteractive',\n",
              "                                                     [key], {});\n",
              "          if (!dataTable) return;\n",
              "\n",
              "          const docLinkHtml = 'Like what you see? Visit the ' +\n",
              "            '<a target=\"_blank\" href=https://colab.research.google.com/notebooks/data_table.ipynb>data table notebook</a>'\n",
              "            + ' to learn more about interactive tables.';\n",
              "          element.innerHTML = '';\n",
              "          dataTable['output_type'] = 'display_data';\n",
              "          await google.colab.output.renderOutput(dataTable, element);\n",
              "          const docLink = document.createElement('div');\n",
              "          docLink.innerHTML = docLinkHtml;\n",
              "          element.appendChild(docLink);\n",
              "        }\n",
              "      </script>\n",
              "    </div>\n",
              "  </div>\n",
              "  "
            ]
          },
          "metadata": {},
          "execution_count": 131
        }
      ],
      "source": [
        "df_test[['Store', 'Sales']].head(10)"
      ]
    },
    {
      "cell_type": "code",
      "execution_count": null,
      "metadata": {
        "id": "HEnyIUf47be1",
        "outputId": "3c37f57a-fb88-4748-89ea-49f1af7f4772",
        "colab": {
          "base_uri": "https://localhost:8080/",
          "height": 206
        }
      },
      "outputs": [
        {
          "output_type": "execute_result",
          "data": {
            "text/plain": [
              "      Store  Sales\n",
              "543     702    0.0\n",
              "676     878    0.0\n",
              "840    1096    0.0\n",
              "1399    702    0.0\n",
              "1532    878    0.0"
            ],
            "text/html": [
              "\n",
              "  <div id=\"df-cb5dd647-e31d-4f77-b03d-e6bfaf503350\">\n",
              "    <div class=\"colab-df-container\">\n",
              "      <div>\n",
              "<style scoped>\n",
              "    .dataframe tbody tr th:only-of-type {\n",
              "        vertical-align: middle;\n",
              "    }\n",
              "\n",
              "    .dataframe tbody tr th {\n",
              "        vertical-align: top;\n",
              "    }\n",
              "\n",
              "    .dataframe thead th {\n",
              "        text-align: right;\n",
              "    }\n",
              "</style>\n",
              "<table border=\"1\" class=\"dataframe\">\n",
              "  <thead>\n",
              "    <tr style=\"text-align: right;\">\n",
              "      <th></th>\n",
              "      <th>Store</th>\n",
              "      <th>Sales</th>\n",
              "    </tr>\n",
              "  </thead>\n",
              "  <tbody>\n",
              "    <tr>\n",
              "      <th>543</th>\n",
              "      <td>702</td>\n",
              "      <td>0.0</td>\n",
              "    </tr>\n",
              "    <tr>\n",
              "      <th>676</th>\n",
              "      <td>878</td>\n",
              "      <td>0.0</td>\n",
              "    </tr>\n",
              "    <tr>\n",
              "      <th>840</th>\n",
              "      <td>1096</td>\n",
              "      <td>0.0</td>\n",
              "    </tr>\n",
              "    <tr>\n",
              "      <th>1399</th>\n",
              "      <td>702</td>\n",
              "      <td>0.0</td>\n",
              "    </tr>\n",
              "    <tr>\n",
              "      <th>1532</th>\n",
              "      <td>878</td>\n",
              "      <td>0.0</td>\n",
              "    </tr>\n",
              "  </tbody>\n",
              "</table>\n",
              "</div>\n",
              "      <button class=\"colab-df-convert\" onclick=\"convertToInteractive('df-cb5dd647-e31d-4f77-b03d-e6bfaf503350')\"\n",
              "              title=\"Convert this dataframe to an interactive table.\"\n",
              "              style=\"display:none;\">\n",
              "        \n",
              "  <svg xmlns=\"http://www.w3.org/2000/svg\" height=\"24px\"viewBox=\"0 0 24 24\"\n",
              "       width=\"24px\">\n",
              "    <path d=\"M0 0h24v24H0V0z\" fill=\"none\"/>\n",
              "    <path d=\"M18.56 5.44l.94 2.06.94-2.06 2.06-.94-2.06-.94-.94-2.06-.94 2.06-2.06.94zm-11 1L8.5 8.5l.94-2.06 2.06-.94-2.06-.94L8.5 2.5l-.94 2.06-2.06.94zm10 10l.94 2.06.94-2.06 2.06-.94-2.06-.94-.94-2.06-.94 2.06-2.06.94z\"/><path d=\"M17.41 7.96l-1.37-1.37c-.4-.4-.92-.59-1.43-.59-.52 0-1.04.2-1.43.59L10.3 9.45l-7.72 7.72c-.78.78-.78 2.05 0 2.83L4 21.41c.39.39.9.59 1.41.59.51 0 1.02-.2 1.41-.59l7.78-7.78 2.81-2.81c.8-.78.8-2.07 0-2.86zM5.41 20L4 18.59l7.72-7.72 1.47 1.35L5.41 20z\"/>\n",
              "  </svg>\n",
              "      </button>\n",
              "      \n",
              "  <style>\n",
              "    .colab-df-container {\n",
              "      display:flex;\n",
              "      flex-wrap:wrap;\n",
              "      gap: 12px;\n",
              "    }\n",
              "\n",
              "    .colab-df-convert {\n",
              "      background-color: #E8F0FE;\n",
              "      border: none;\n",
              "      border-radius: 50%;\n",
              "      cursor: pointer;\n",
              "      display: none;\n",
              "      fill: #1967D2;\n",
              "      height: 32px;\n",
              "      padding: 0 0 0 0;\n",
              "      width: 32px;\n",
              "    }\n",
              "\n",
              "    .colab-df-convert:hover {\n",
              "      background-color: #E2EBFA;\n",
              "      box-shadow: 0px 1px 2px rgba(60, 64, 67, 0.3), 0px 1px 3px 1px rgba(60, 64, 67, 0.15);\n",
              "      fill: #174EA6;\n",
              "    }\n",
              "\n",
              "    [theme=dark] .colab-df-convert {\n",
              "      background-color: #3B4455;\n",
              "      fill: #D2E3FC;\n",
              "    }\n",
              "\n",
              "    [theme=dark] .colab-df-convert:hover {\n",
              "      background-color: #434B5C;\n",
              "      box-shadow: 0px 1px 3px 1px rgba(0, 0, 0, 0.15);\n",
              "      filter: drop-shadow(0px 1px 2px rgba(0, 0, 0, 0.3));\n",
              "      fill: #FFFFFF;\n",
              "    }\n",
              "  </style>\n",
              "\n",
              "      <script>\n",
              "        const buttonEl =\n",
              "          document.querySelector('#df-cb5dd647-e31d-4f77-b03d-e6bfaf503350 button.colab-df-convert');\n",
              "        buttonEl.style.display =\n",
              "          google.colab.kernel.accessAllowed ? 'block' : 'none';\n",
              "\n",
              "        async function convertToInteractive(key) {\n",
              "          const element = document.querySelector('#df-cb5dd647-e31d-4f77-b03d-e6bfaf503350');\n",
              "          const dataTable =\n",
              "            await google.colab.kernel.invokeFunction('convertToInteractive',\n",
              "                                                     [key], {});\n",
              "          if (!dataTable) return;\n",
              "\n",
              "          const docLinkHtml = 'Like what you see? Visit the ' +\n",
              "            '<a target=\"_blank\" href=https://colab.research.google.com/notebooks/data_table.ipynb>data table notebook</a>'\n",
              "            + ' to learn more about interactive tables.';\n",
              "          element.innerHTML = '';\n",
              "          dataTable['output_type'] = 'display_data';\n",
              "          await google.colab.output.renderOutput(dataTable, element);\n",
              "          const docLink = document.createElement('div');\n",
              "          docLink.innerHTML = docLinkHtml;\n",
              "          element.appendChild(docLink);\n",
              "        }\n",
              "      </script>\n",
              "    </div>\n",
              "  </div>\n",
              "  "
            ]
          },
          "metadata": {},
          "execution_count": 132
        }
      ],
      "source": [
        "df_test[df_test['Open'] == 0][['Store', 'Sales']].head()"
      ]
    },
    {
      "cell_type": "code",
      "execution_count": null,
      "metadata": {
        "id": "DJ1Gn9qY7be1"
      },
      "outputs": [],
      "source": [
        "sample_csv['Sales'] = df_test['Sales']"
      ]
    },
    {
      "cell_type": "code",
      "execution_count": null,
      "metadata": {
        "id": "K2qIWumt7be1"
      },
      "outputs": [],
      "source": [
        "sample_csv.to_csv(f'submision_baseline.csv', index=False)"
      ]
    },
    {
      "cell_type": "code",
      "execution_count": null,
      "metadata": {
        "id": "i3jUoaTZ7be2",
        "outputId": "bbb9b41d-7b1e-408f-909b-15482f2bb0fc",
        "colab": {
          "base_uri": "https://localhost:8080/",
          "height": 206
        }
      },
      "outputs": [
        {
          "output_type": "execute_result",
          "data": {
            "text/plain": [
              "   Id        Sales\n",
              "0   1  4759.096031\n",
              "1   2  6942.568678\n",
              "2   3  8817.050891\n",
              "3   4  5539.358418\n",
              "4   5  6562.337612"
            ],
            "text/html": [
              "\n",
              "  <div id=\"df-54b85417-c3ef-4686-8dd7-f3d4c6be3796\">\n",
              "    <div class=\"colab-df-container\">\n",
              "      <div>\n",
              "<style scoped>\n",
              "    .dataframe tbody tr th:only-of-type {\n",
              "        vertical-align: middle;\n",
              "    }\n",
              "\n",
              "    .dataframe tbody tr th {\n",
              "        vertical-align: top;\n",
              "    }\n",
              "\n",
              "    .dataframe thead th {\n",
              "        text-align: right;\n",
              "    }\n",
              "</style>\n",
              "<table border=\"1\" class=\"dataframe\">\n",
              "  <thead>\n",
              "    <tr style=\"text-align: right;\">\n",
              "      <th></th>\n",
              "      <th>Id</th>\n",
              "      <th>Sales</th>\n",
              "    </tr>\n",
              "  </thead>\n",
              "  <tbody>\n",
              "    <tr>\n",
              "      <th>0</th>\n",
              "      <td>1</td>\n",
              "      <td>4759.096031</td>\n",
              "    </tr>\n",
              "    <tr>\n",
              "      <th>1</th>\n",
              "      <td>2</td>\n",
              "      <td>6942.568678</td>\n",
              "    </tr>\n",
              "    <tr>\n",
              "      <th>2</th>\n",
              "      <td>3</td>\n",
              "      <td>8817.050891</td>\n",
              "    </tr>\n",
              "    <tr>\n",
              "      <th>3</th>\n",
              "      <td>4</td>\n",
              "      <td>5539.358418</td>\n",
              "    </tr>\n",
              "    <tr>\n",
              "      <th>4</th>\n",
              "      <td>5</td>\n",
              "      <td>6562.337612</td>\n",
              "    </tr>\n",
              "  </tbody>\n",
              "</table>\n",
              "</div>\n",
              "      <button class=\"colab-df-convert\" onclick=\"convertToInteractive('df-54b85417-c3ef-4686-8dd7-f3d4c6be3796')\"\n",
              "              title=\"Convert this dataframe to an interactive table.\"\n",
              "              style=\"display:none;\">\n",
              "        \n",
              "  <svg xmlns=\"http://www.w3.org/2000/svg\" height=\"24px\"viewBox=\"0 0 24 24\"\n",
              "       width=\"24px\">\n",
              "    <path d=\"M0 0h24v24H0V0z\" fill=\"none\"/>\n",
              "    <path d=\"M18.56 5.44l.94 2.06.94-2.06 2.06-.94-2.06-.94-.94-2.06-.94 2.06-2.06.94zm-11 1L8.5 8.5l.94-2.06 2.06-.94-2.06-.94L8.5 2.5l-.94 2.06-2.06.94zm10 10l.94 2.06.94-2.06 2.06-.94-2.06-.94-.94-2.06-.94 2.06-2.06.94z\"/><path d=\"M17.41 7.96l-1.37-1.37c-.4-.4-.92-.59-1.43-.59-.52 0-1.04.2-1.43.59L10.3 9.45l-7.72 7.72c-.78.78-.78 2.05 0 2.83L4 21.41c.39.39.9.59 1.41.59.51 0 1.02-.2 1.41-.59l7.78-7.78 2.81-2.81c.8-.78.8-2.07 0-2.86zM5.41 20L4 18.59l7.72-7.72 1.47 1.35L5.41 20z\"/>\n",
              "  </svg>\n",
              "      </button>\n",
              "      \n",
              "  <style>\n",
              "    .colab-df-container {\n",
              "      display:flex;\n",
              "      flex-wrap:wrap;\n",
              "      gap: 12px;\n",
              "    }\n",
              "\n",
              "    .colab-df-convert {\n",
              "      background-color: #E8F0FE;\n",
              "      border: none;\n",
              "      border-radius: 50%;\n",
              "      cursor: pointer;\n",
              "      display: none;\n",
              "      fill: #1967D2;\n",
              "      height: 32px;\n",
              "      padding: 0 0 0 0;\n",
              "      width: 32px;\n",
              "    }\n",
              "\n",
              "    .colab-df-convert:hover {\n",
              "      background-color: #E2EBFA;\n",
              "      box-shadow: 0px 1px 2px rgba(60, 64, 67, 0.3), 0px 1px 3px 1px rgba(60, 64, 67, 0.15);\n",
              "      fill: #174EA6;\n",
              "    }\n",
              "\n",
              "    [theme=dark] .colab-df-convert {\n",
              "      background-color: #3B4455;\n",
              "      fill: #D2E3FC;\n",
              "    }\n",
              "\n",
              "    [theme=dark] .colab-df-convert:hover {\n",
              "      background-color: #434B5C;\n",
              "      box-shadow: 0px 1px 3px 1px rgba(0, 0, 0, 0.15);\n",
              "      filter: drop-shadow(0px 1px 2px rgba(0, 0, 0, 0.3));\n",
              "      fill: #FFFFFF;\n",
              "    }\n",
              "  </style>\n",
              "\n",
              "      <script>\n",
              "        const buttonEl =\n",
              "          document.querySelector('#df-54b85417-c3ef-4686-8dd7-f3d4c6be3796 button.colab-df-convert');\n",
              "        buttonEl.style.display =\n",
              "          google.colab.kernel.accessAllowed ? 'block' : 'none';\n",
              "\n",
              "        async function convertToInteractive(key) {\n",
              "          const element = document.querySelector('#df-54b85417-c3ef-4686-8dd7-f3d4c6be3796');\n",
              "          const dataTable =\n",
              "            await google.colab.kernel.invokeFunction('convertToInteractive',\n",
              "                                                     [key], {});\n",
              "          if (!dataTable) return;\n",
              "\n",
              "          const docLinkHtml = 'Like what you see? Visit the ' +\n",
              "            '<a target=\"_blank\" href=https://colab.research.google.com/notebooks/data_table.ipynb>data table notebook</a>'\n",
              "            + ' to learn more about interactive tables.';\n",
              "          element.innerHTML = '';\n",
              "          dataTable['output_type'] = 'display_data';\n",
              "          await google.colab.output.renderOutput(dataTable, element);\n",
              "          const docLink = document.createElement('div');\n",
              "          docLink.innerHTML = docLinkHtml;\n",
              "          element.appendChild(docLink);\n",
              "        }\n",
              "      </script>\n",
              "    </div>\n",
              "  </div>\n",
              "  "
            ]
          },
          "metadata": {},
          "execution_count": 135
        }
      ],
      "source": [
        "sample_csv.head()"
      ]
    },
    {
      "cell_type": "markdown",
      "metadata": {
        "id": "8BmH0xOy7be2"
      },
      "source": [
        "# Sumbit a la competición"
      ]
    },
    {
      "cell_type": "code",
      "execution_count": null,
      "metadata": {
        "id": "uJxOQPyf7be2",
        "colab": {
          "base_uri": "https://localhost:8080/",
          "height": 35
        },
        "outputId": "2b21912e-29ca-4fc5-8ef7-33026a267c31"
      },
      "outputs": [
        {
          "output_type": "execute_result",
          "data": {
            "text/plain": [
              "'/content/drive/MyDrive/Colab Notebooks/Redes Neuronales/TP2/submision_06_2True-False-linear-0.001-1000-20-256-0.001.csv'"
            ],
            "application/vnd.google.colaboratory.intrinsic+json": {
              "type": "string"
            }
          },
          "metadata": {},
          "execution_count": 136
        }
      ],
      "source": [
        "\n",
        "sample_csv = pd.read_csv('/content/drive/MyDrive/Colab Notebooks/Redes Neuronales/TP2/dataset/sample_submission.csv')\n",
        "sample_csv['Sales'] = y_pred_test\n",
        "sample_csv.head()\n",
        "\n",
        "sample_csv.to_csv(f'submision_06_2{add_customers}-{log_output}-{output_activation}-{l2_lambda}-{first_hidden_units}-{epochs}-{batch_size}-{lr}.csv', index=False)\n",
        "import shutil\n",
        "shutil.copy(f'/content/submision_06_2{add_customers}-{log_output}-{output_activation}-{l2_lambda}-{first_hidden_units}-{epochs}-{batch_size}-{lr}.csv',\"/content/drive/MyDrive/Colab Notebooks/Redes Neuronales/TP2\")"
      ]
    },
    {
      "cell_type": "markdown",
      "metadata": {
        "id": "qDPIv2wf7be2"
      },
      "source": [
        "# Analisis de embedings"
      ]
    },
    {
      "cell_type": "code",
      "execution_count": null,
      "metadata": {
        "id": "278uV_577be2"
      },
      "outputs": [],
      "source": [
        "def plot_embed(layer_name, cat_names):\n",
        "    Y = model.get_layer(layer_name).get_weights()[0]\n",
        "    print(Y.shape)\n",
        "    plt.figure(figsize=(8,8))\n",
        "    plt.scatter(-Y[:, 0], -Y[:, 1])\n",
        "    for i, txt in enumerate(cat_names):\n",
        "        plt.annotate(txt, (-Y[i, 0],-Y[i, 1]), xytext = (-5, 8), textcoords = 'offset points')"
      ]
    },
    {
      "cell_type": "code",
      "execution_count": null,
      "metadata": {
        "id": "NZ65fUFC7be2",
        "outputId": "a969b5f5-53d5-47c2-a089-bc4aacb1b44b",
        "colab": {
          "base_uri": "https://localhost:8080/",
          "height": 500
        }
      },
      "outputs": [
        {
          "output_type": "stream",
          "name": "stdout",
          "text": [
            "(7, 2)\n"
          ]
        },
        {
          "output_type": "display_data",
          "data": {
            "text/plain": [
              "<Figure size 576x576 with 1 Axes>"
            ],
            "image/png": "[encoded data removed]"
          },
          "metadata": {
            "needs_background": "light"
          }
        }
      ],
      "source": [
        "model.load_weights('bestmodel.hdf5')\n",
        "plot_embed('DayOfWeek_Embed', ['Mon', 'Tue', 'Wed', 'Thu', 'Fri', 'Sat','Sun'])"
      ]
    },
    {
      "cell_type": "code",
      "execution_count": null,
      "metadata": {
        "id": "sNcftvGF7be3",
        "outputId": "11717a8c-dd7c-4144-f7c1-6b71951be55e",
        "colab": {
          "base_uri": "https://localhost:8080/",
          "height": 500
        }
      },
      "outputs": [
        {
          "output_type": "stream",
          "name": "stdout",
          "text": [
            "(12, 2)\n"
          ]
        },
        {
          "output_type": "display_data",
          "data": {
            "text/plain": [
              "<Figure size 576x576 with 1 Axes>"
            ],
            "image/png": "[encoded data removed]"
          },
          "metadata": {
            "needs_background": "light"
          }
        }
      ],
      "source": [
        "plot_embed('Month_Embed', list(range(12)))"
      ]
    },
    {
      "cell_type": "code",
      "execution_count": null,
      "metadata": {
        "id": "TwSKtT4A7be3"
      },
      "outputs": [],
      "source": [
        "from sklearn.manifold import TSNE\n",
        "from sklearn.decomposition import PCA"
      ]
    },
    {
      "cell_type": "code",
      "execution_count": null,
      "metadata": {
        "id": "HTEYxl-x7be3",
        "outputId": "73879646-1a50-4510-9c95-547accfc6c6f",
        "colab": {
          "base_uri": "https://localhost:8080/",
          "height": 165
        }
      },
      "outputs": [
        {
          "output_type": "error",
          "ename": "NameError",
          "evalue": "ignored",
          "traceback": [
            "\u001b[0;31m---------------------------------------------------------------------------\u001b[0m",
            "\u001b[0;31mNameError\u001b[0m                                 Traceback (most recent call last)",
            "\u001b[0;32m<ipython-input-141-00f84f4b7b18>\u001b[0m in \u001b[0;36m<module>\u001b[0;34m\u001b[0m\n\u001b[0;32m----> 1\u001b[0;31m \u001b[0mday_of_week_embedding\u001b[0m\u001b[0;34m.\u001b[0m\u001b[0mshape\u001b[0m\u001b[0;34m\u001b[0m\u001b[0;34m\u001b[0m\u001b[0m\n\u001b[0m",
            "\u001b[0;31mNameError\u001b[0m: name 'day_of_week_embedding' is not defined"
          ]
        }
      ],
      "source": [
        "day_of_week_embedding.shape"
      ]
    },
    {
      "cell_type": "code",
      "execution_count": null,
      "metadata": {
        "id": "Ho5qMxbE7be3",
        "outputId": "096a51a9-0433-4333-f473-cc5014fba3f4"
      },
      "outputs": [
        {
          "data": {
            "image/png": "[encoded data removed]",
            "text/plain": [
              "<Figure size 576x576 with 1 Axes>"
            ]
          },
          "metadata": {
            "needs_background": "light"
          },
          "output_type": "display_data"
        }
      ],
      "source": [
        "tsne = TSNE(n_components=2, random_state=1, learning_rate=10, n_iter=10000)\n",
        "Y = tsne.fit_transform(day_of_week_embedding)\n",
        "names = ['Mon', 'Tue', 'Wed', 'Thu', 'Fri', 'Sat','Sun']\n",
        "plt.figure(figsize=(8,8))\n",
        "plt.scatter(-Y[:, 0], -Y[:, 1])\n",
        "for i, txt in enumerate(names):\n",
        "    plt.annotate(txt, (-Y[i, 0],-Y[i, 1]), xytext = (-5, 8), textcoords = 'offset points')"
      ]
    },
    {
      "cell_type": "code",
      "execution_count": null,
      "metadata": {
        "id": "eM7C9X5_7be4",
        "outputId": "6781c1cb-cb38-429f-fa15-3c64601a0ae0",
        "colab": {
          "base_uri": "https://localhost:8080/"
        }
      },
      "outputs": [
        {
          "output_type": "execute_result",
          "data": {
            "text/plain": [
              "['Store',\n",
              " 'DayOfWeek',\n",
              " 'Year',\n",
              " 'Month',\n",
              " 'Day',\n",
              " 'StateHoliday',\n",
              " 'CompetitionMonthsOpen',\n",
              " 'Promo2Weeks',\n",
              " 'StoreType',\n",
              " 'Assortment',\n",
              " 'PromoInterval',\n",
              " 'CompetitionOpenSinceYear',\n",
              " 'Promo2SinceYear',\n",
              " 'State',\n",
              " 'Week',\n",
              " 'Events',\n",
              " 'Promo_fw',\n",
              " 'Promo_bw',\n",
              " 'Promo',\n",
              " 'StateHoliday_bool_fw',\n",
              " 'StateHoliday_bool_bw',\n",
              " 'SchoolHoliday_fw',\n",
              " 'SchoolHoliday_bw']"
            ]
          },
          "metadata": {},
          "execution_count": 142
        }
      ],
      "source": [
        "cat_vars"
      ]
    },
    {
      "cell_type": "markdown",
      "metadata": {
        "id": "iQnsTiVX7be4"
      },
      "source": [
        "## Store embeddings"
      ]
    },
    {
      "cell_type": "code",
      "execution_count": null,
      "metadata": {
        "id": "qB-1F_hf7be4"
      },
      "outputs": [],
      "source": [
        "submodel = Model(cat_var_inputs + cont_vars_inputs, merged)"
      ]
    },
    {
      "cell_type": "code",
      "execution_count": null,
      "metadata": {
        "id": "JxVBR6Nq7be4",
        "outputId": "9064340f-3784-4e4e-e0c4-f113bc45c36b",
        "colab": {
          "base_uri": "https://localhost:8080/"
        }
      },
      "outputs": [
        {
          "output_type": "stream",
          "name": "stdout",
          "text": [
            "Model: \"model_3\"\n",
            "__________________________________________________________________________________________________\n",
            " Layer (type)                   Output Shape         Param #     Connected to                     \n",
            "==================================================================================================\n",
            " Store_input (InputLayer)       [(None, 1)]          0           []                               \n",
            "                                                                                                  \n",
            " DayOfWeek_input (InputLayer)   [(None, 1)]          0           []                               \n",
            "                                                                                                  \n",
            " Year_input (InputLayer)        [(None, 1)]          0           []                               \n",
            "                                                                                                  \n",
            " Month_input (InputLayer)       [(None, 1)]          0           []                               \n",
            "                                                                                                  \n",
            " Day_input (InputLayer)         [(None, 1)]          0           []                               \n",
            "                                                                                                  \n",
            " StateHoliday_input (InputLayer  [(None, 1)]         0           []                               \n",
            " )                                                                                                \n",
            "                                                                                                  \n",
            " CompetitionMonthsOpen_input (I  [(None, 1)]         0           []                               \n",
            " nputLayer)                                                                                       \n",
            "                                                                                                  \n",
            " Promo2Weeks_input (InputLayer)  [(None, 1)]         0           []                               \n",
            "                                                                                                  \n",
            " StoreType_input (InputLayer)   [(None, 1)]          0           []                               \n",
            "                                                                                                  \n",
            " Assortment_input (InputLayer)  [(None, 1)]          0           []                               \n",
            "                                                                                                  \n",
            " PromoInterval_input (InputLaye  [(None, 1)]         0           []                               \n",
            " r)                                                                                               \n",
            "                                                                                                  \n",
            " CompetitionOpenSinceYear_input  [(None, 1)]         0           []                               \n",
            "  (InputLayer)                                                                                    \n",
            "                                                                                                  \n",
            " Promo2SinceYear_input (InputLa  [(None, 1)]         0           []                               \n",
            " yer)                                                                                             \n",
            "                                                                                                  \n",
            " State_input (InputLayer)       [(None, 1)]          0           []                               \n",
            "                                                                                                  \n",
            " Week_input (InputLayer)        [(None, 1)]          0           []                               \n",
            "                                                                                                  \n",
            " Events_input (InputLayer)      [(None, 1)]          0           []                               \n",
            "                                                                                                  \n",
            " Promo_fw_input (InputLayer)    [(None, 1)]          0           []                               \n",
            "                                                                                                  \n",
            " Promo_bw_input (InputLayer)    [(None, 1)]          0           []                               \n",
            "                                                                                                  \n",
            " Promo_input (InputLayer)       [(None, 1)]          0           []                               \n",
            "                                                                                                  \n",
            " StateHoliday_bool_fw_input (In  [(None, 1)]         0           []                               \n",
            " putLayer)                                                                                        \n",
            "                                                                                                  \n",
            " StateHoliday_bool_bw_input (In  [(None, 1)]         0           []                               \n",
            " putLayer)                                                                                        \n",
            "                                                                                                  \n",
            " SchoolHoliday_fw_input (InputL  [(None, 1)]         0           []                               \n",
            " ayer)                                                                                            \n",
            "                                                                                                  \n",
            " SchoolHoliday_bw_input (InputL  [(None, 1)]         0           []                               \n",
            " ayer)                                                                                            \n",
            "                                                                                                  \n",
            " Store_Embed (Embedding)        (None, 1, 50)        55750       ['Store_input[0][0]']            \n",
            "                                                                                                  \n",
            " DayOfWeek_Embed (Embedding)    (None, 1, 2)         14          ['DayOfWeek_input[0][0]']        \n",
            "                                                                                                  \n",
            " Year_Embed (Embedding)         (None, 1, 2)         6           ['Year_input[0][0]']             \n",
            "                                                                                                  \n",
            " Month_Embed (Embedding)        (None, 1, 2)         24          ['Month_input[0][0]']            \n",
            "                                                                                                  \n",
            " Day_Embed (Embedding)          (None, 1, 10)        310         ['Day_input[0][0]']              \n",
            "                                                                                                  \n",
            " StateHoliday_Embed (Embedding)  (None, 1, 2)        8           ['StateHoliday_input[0][0]']     \n",
            "                                                                                                  \n",
            " CompetitionMonthsOpen_Embed (E  (None, 1, 2)        50          ['CompetitionMonthsOpen_input[0][\n",
            " mbedding)                                                       0]']                             \n",
            "                                                                                                  \n",
            " Promo2Weeks_Embed (Embedding)  (None, 1, 1)         26          ['Promo2Weeks_input[0][0]']      \n",
            "                                                                                                  \n",
            " StoreType_Embed (Embedding)    (None, 1, 2)         8           ['StoreType_input[0][0]']        \n",
            "                                                                                                  \n",
            " Assortment_Embed (Embedding)   (None, 1, 3)         9           ['Assortment_input[0][0]']       \n",
            "                                                                                                  \n",
            " PromoInterval_Embed (Embedding  (None, 1, 3)        12          ['PromoInterval_input[0][0]']    \n",
            " )                                                                                                \n",
            "                                                                                                  \n",
            " CompetitionOpenSinceYear_Embed  (None, 1, 4)        84          ['CompetitionOpenSinceYear_input[\n",
            "  (Embedding)                                                    0][0]']                          \n",
            "                                                                                                  \n",
            " Promo2SinceYear_Embed (Embeddi  (None, 1, 4)        32          ['Promo2SinceYear_input[0][0]']  \n",
            " ng)                                                                                              \n",
            "                                                                                                  \n",
            " State_Embed (Embedding)        (None, 1, 6)         72          ['State_input[0][0]']            \n",
            "                                                                                                  \n",
            " Week_Embed (Embedding)         (None, 1, 25)        1300        ['Week_input[0][0]']             \n",
            "                                                                                                  \n",
            " Events_Embed (Embedding)       (None, 1, 4)         88          ['Events_input[0][0]']           \n",
            "                                                                                                  \n",
            " Promo_fw_Embed (Embedding)     (None, 1, 1)         6           ['Promo_fw_input[0][0]']         \n",
            "                                                                                                  \n",
            " Promo_bw_Embed (Embedding)     (None, 1, 1)         6           ['Promo_bw_input[0][0]']         \n",
            "                                                                                                  \n",
            " Promo_Embed (Embedding)        (None, 1, 1)         2           ['Promo_input[0][0]']            \n",
            "                                                                                                  \n",
            " StateHoliday_bool_fw_Embed (Em  (None, 1, 1)        3           ['StateHoliday_bool_fw_input[0][0\n",
            " bedding)                                                        ]']                              \n",
            "                                                                                                  \n",
            " StateHoliday_bool_bw_Embed (Em  (None, 1, 1)        3           ['StateHoliday_bool_bw_input[0][0\n",
            " bedding)                                                        ]']                              \n",
            "                                                                                                  \n",
            " SchoolHoliday_fw_Embed (Embedd  (None, 1, 1)        8           ['SchoolHoliday_fw_input[0][0]'] \n",
            " ing)                                                                                             \n",
            "                                                                                                  \n",
            " SchoolHoliday_bw_Embed (Embedd  (None, 1, 1)        8           ['SchoolHoliday_bw_input[0][0]'] \n",
            " ing)                                                                                             \n",
            "                                                                                                  \n",
            " Store_flat (Flatten)           (None, 50)           0           ['Store_Embed[0][0]']            \n",
            "                                                                                                  \n",
            " DayOfWeek_flat (Flatten)       (None, 2)            0           ['DayOfWeek_Embed[0][0]']        \n",
            "                                                                                                  \n",
            " Year_flat (Flatten)            (None, 2)            0           ['Year_Embed[0][0]']             \n",
            "                                                                                                  \n",
            " Month_flat (Flatten)           (None, 2)            0           ['Month_Embed[0][0]']            \n",
            "                                                                                                  \n",
            " Day_flat (Flatten)             (None, 10)           0           ['Day_Embed[0][0]']              \n",
            "                                                                                                  \n",
            " StateHoliday_flat (Flatten)    (None, 2)            0           ['StateHoliday_Embed[0][0]']     \n",
            "                                                                                                  \n",
            " CompetitionMonthsOpen_flat (Fl  (None, 2)           0           ['CompetitionMonthsOpen_Embed[0][\n",
            " atten)                                                          0]']                             \n",
            "                                                                                                  \n",
            " Promo2Weeks_flat (Flatten)     (None, 1)            0           ['Promo2Weeks_Embed[0][0]']      \n",
            "                                                                                                  \n",
            " StoreType_flat (Flatten)       (None, 2)            0           ['StoreType_Embed[0][0]']        \n",
            "                                                                                                  \n",
            " Assortment_flat (Flatten)      (None, 3)            0           ['Assortment_Embed[0][0]']       \n",
            "                                                                                                  \n",
            " PromoInterval_flat (Flatten)   (None, 3)            0           ['PromoInterval_Embed[0][0]']    \n",
            "                                                                                                  \n",
            " CompetitionOpenSinceYear_flat   (None, 4)           0           ['CompetitionOpenSinceYear_Embed[\n",
            " (Flatten)                                                       0][0]']                          \n",
            "                                                                                                  \n",
            " Promo2SinceYear_flat (Flatten)  (None, 4)           0           ['Promo2SinceYear_Embed[0][0]']  \n",
            "                                                                                                  \n",
            " State_flat (Flatten)           (None, 6)            0           ['State_Embed[0][0]']            \n",
            "                                                                                                  \n",
            " Week_flat (Flatten)            (None, 25)           0           ['Week_Embed[0][0]']             \n",
            "                                                                                                  \n",
            " Events_flat (Flatten)          (None, 4)            0           ['Events_Embed[0][0]']           \n",
            "                                                                                                  \n",
            " Promo_fw_flat (Flatten)        (None, 1)            0           ['Promo_fw_Embed[0][0]']         \n",
            "                                                                                                  \n",
            " Promo_bw_flat (Flatten)        (None, 1)            0           ['Promo_bw_Embed[0][0]']         \n",
            "                                                                                                  \n",
            " Promo_flat (Flatten)           (None, 1)            0           ['Promo_Embed[0][0]']            \n",
            "                                                                                                  \n",
            " StateHoliday_bool_fw_flat (Fla  (None, 1)           0           ['StateHoliday_bool_fw_Embed[0][0\n",
            " tten)                                                           ]']                              \n",
            "                                                                                                  \n",
            " StateHoliday_bool_bw_flat (Fla  (None, 1)           0           ['StateHoliday_bool_bw_Embed[0][0\n",
            " tten)                                                           ]']                              \n",
            "                                                                                                  \n",
            " SchoolHoliday_fw_flat (Flatten  (None, 1)           0           ['SchoolHoliday_fw_Embed[0][0]'] \n",
            " )                                                                                                \n",
            "                                                                                                  \n",
            " SchoolHoliday_bw_flat (Flatten  (None, 1)           0           ['SchoolHoliday_bw_Embed[0][0]'] \n",
            " )                                                                                                \n",
            "                                                                                                  \n",
            " CompetitionDistance_input (Inp  [(None, 1)]         0           []                               \n",
            " utLayer)                                                                                         \n",
            "                                                                                                  \n",
            " Max_TemperatureC_input (InputL  [(None, 1)]         0           []                               \n",
            " ayer)                                                                                            \n",
            "                                                                                                  \n",
            " Mean_TemperatureC_input (Input  [(None, 1)]         0           []                               \n",
            " Layer)                                                                                           \n",
            "                                                                                                  \n",
            " Min_TemperatureC_input (InputL  [(None, 1)]         0           []                               \n",
            " ayer)                                                                                            \n",
            "                                                                                                  \n",
            " Precipitationmm_input (InputLa  [(None, 1)]         0           []                               \n",
            " yer)                                                                                             \n",
            "                                                                                                  \n",
            " Max_Humidity_input (InputLayer  [(None, 1)]         0           []                               \n",
            " )                                                                                                \n",
            "                                                                                                  \n",
            " Mean_Humidity_input (InputLaye  [(None, 1)]         0           []                               \n",
            " r)                                                                                               \n",
            "                                                                                                  \n",
            " Min_Humidity_input (InputLayer  [(None, 1)]         0           []                               \n",
            " )                                                                                                \n",
            "                                                                                                  \n",
            " Max_Wind_SpeedKm_h_input (Inpu  [(None, 1)]         0           []                               \n",
            " tLayer)                                                                                          \n",
            "                                                                                                  \n",
            " Mean_Wind_SpeedKm_h_input (Inp  [(None, 1)]         0           []                               \n",
            " utLayer)                                                                                         \n",
            "                                                                                                  \n",
            " CloudCover_input (InputLayer)  [(None, 1)]          0           []                               \n",
            "                                                                                                  \n",
            " trend_input (InputLayer)       [(None, 1)]          0           []                               \n",
            "                                                                                                  \n",
            " trend_DE_input (InputLayer)    [(None, 1)]          0           []                               \n",
            "                                                                                                  \n",
            " AfterStateHoliday_bool_input (  [(None, 1)]         0           []                               \n",
            " InputLayer)                                                                                      \n",
            "                                                                                                  \n",
            " BeforeStateHoliday_bool_input   [(None, 1)]         0           []                               \n",
            " (InputLayer)                                                                                     \n",
            "                                                                                                  \n",
            " SchoolHoliday_input (InputLaye  [(None, 1)]         0           []                               \n",
            " r)                                                                                               \n",
            "                                                                                                  \n",
            " StateHoliday_bool_input (Input  [(None, 1)]         0           []                               \n",
            " Layer)                                                                                           \n",
            "                                                                                                  \n",
            " All_Concatenate (Concatenate)  (None, 146)          0           ['Store_flat[0][0]',             \n",
            "                                                                  'DayOfWeek_flat[0][0]',         \n",
            "                                                                  'Year_flat[0][0]',              \n",
            "                                                                  'Month_flat[0][0]',             \n",
            "                                                                  'Day_flat[0][0]',               \n",
            "                                                                  'StateHoliday_flat[0][0]',      \n",
            "                                                                  'CompetitionMonthsOpen_flat[0][0\n",
            "                                                                 ]',                              \n",
            "                                                                  'Promo2Weeks_flat[0][0]',       \n",
            "                                                                  'StoreType_flat[0][0]',         \n",
            "                                                                  'Assortment_flat[0][0]',        \n",
            "                                                                  'PromoInterval_flat[0][0]',     \n",
            "                                                                  'CompetitionOpenSinceYear_flat[0\n",
            "                                                                 ][0]',                           \n",
            "                                                                  'Promo2SinceYear_flat[0][0]',   \n",
            "                                                                  'State_flat[0][0]',             \n",
            "                                                                  'Week_flat[0][0]',              \n",
            "                                                                  'Events_flat[0][0]',            \n",
            "                                                                  'Promo_fw_flat[0][0]',          \n",
            "                                                                  'Promo_bw_flat[0][0]',          \n",
            "                                                                  'Promo_flat[0][0]',             \n",
            "                                                                  'StateHoliday_bool_fw_flat[0][0]\n",
            "                                                                 ',                               \n",
            "                                                                  'StateHoliday_bool_bw_flat[0][0]\n",
            "                                                                 ',                               \n",
            "                                                                  'SchoolHoliday_fw_flat[0][0]',  \n",
            "                                                                  'SchoolHoliday_bw_flat[0][0]',  \n",
            "                                                                  'CompetitionDistance_input[0][0]\n",
            "                                                                 ',                               \n",
            "                                                                  'Max_TemperatureC_input[0][0]', \n",
            "                                                                  'Mean_TemperatureC_input[0][0]',\n",
            "                                                                  'Min_TemperatureC_input[0][0]', \n",
            "                                                                  'Precipitationmm_input[0][0]',  \n",
            "                                                                  'Max_Humidity_input[0][0]',     \n",
            "                                                                  'Mean_Humidity_input[0][0]',    \n",
            "                                                                  'Min_Humidity_input[0][0]',     \n",
            "                                                                  'Max_Wind_SpeedKm_h_input[0][0]'\n",
            "                                                                 , 'Mean_Wind_SpeedKm_h_input[0][0\n",
            "                                                                 ]',                              \n",
            "                                                                  'CloudCover_input[0][0]',       \n",
            "                                                                  'trend_input[0][0]',            \n",
            "                                                                  'trend_DE_input[0][0]',         \n",
            "                                                                  'AfterStateHoliday_bool_input[0]\n",
            "                                                                 [0]',                            \n",
            "                                                                  'BeforeStateHoliday_bool_input[0\n",
            "                                                                 ][0]',                           \n",
            "                                                                  'SchoolHoliday_input[0][0]',    \n",
            "                                                                  'StateHoliday_bool_input[0][0]']\n",
            "                                                                                                  \n",
            "==================================================================================================\n",
            "Total params: 57,829\n",
            "Trainable params: 57,829\n",
            "Non-trainable params: 0\n",
            "__________________________________________________________________________________________________\n"
          ]
        }
      ],
      "source": [
        "submodel.summary()"
      ]
    },
    {
      "cell_type": "code",
      "execution_count": null,
      "metadata": {
        "id": "BdV4eklU7be4",
        "colab": {
          "base_uri": "https://localhost:8080/"
        },
        "outputId": "1de226e9-cf23-4c0b-a5ef-a741b9a6f35d"
      },
      "outputs": [
        {
          "output_type": "stream",
          "name": "stderr",
          "text": [
            "WARNING:tensorflow:Compiled the loaded model, but the compiled metrics have yet to be built. `model.compile_metrics` will be empty until you train or evaluate the model.\n"
          ]
        }
      ],
      "source": [
        "submodel.save('embeddings_model.hdf5')"
      ]
    },
    {
      "cell_type": "code",
      "execution_count": null,
      "metadata": {
        "id": "mM3KYcit7be4"
      },
      "outputs": [],
      "source": []
    }
  ],
  "metadata": {
    "kernelspec": {
      "display_name": "Python 3",
      "language": "python",
      "name": "python3"
    },
    "language_info": {
      "codemirror_mode": {
        "name": "ipython",
        "version": 3
      },
      "file_extension": ".py",
      "mimetype": "text/x-python",
      "name": "python",
      "nbconvert_exporter": "python",
      "pygments_lexer": "ipython3",
      "version": "3.6.10"
    },
    "colab": {
      "provenance": []
    }
  },
  "nbformat": 4,
  "nbformat_minor": 0
}