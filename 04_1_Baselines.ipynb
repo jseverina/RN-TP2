{
  "cells": [
    {
      "cell_type": "code",
      "execution_count": null,
      "metadata": {
        "id": "5zoLiHy6JSkH",
        "colab": {
          "base_uri": "https://localhost:8080/"
        },
        "outputId": "19f94700-c0dd-44cf-c40f-702e9323b36e"
      },
      "outputs": [
        {
          "output_type": "stream",
          "name": "stdout",
          "text": [
            "Looking in indexes: https://pypi.org/simple, https://us-python.pkg.dev/colab-wheels/public/simple/\n",
            "Collecting pandas_summary\n",
            "  Downloading pandas_summary-0.2.0-py2.py3-none-any.whl (5.2 kB)\n",
            "Requirement already satisfied: pandas in /usr/local/lib/python3.7/dist-packages (from pandas_summary) (1.3.5)\n",
            "Requirement already satisfied: numpy in /usr/local/lib/python3.7/dist-packages (from pandas_summary) (1.21.6)\n",
            "Collecting datatile\n",
            "  Downloading datatile-1.0.3-py3-none-any.whl (6.0 kB)\n",
            "Collecting traceml<1.1\n",
            "  Downloading traceml-1.0.3-py3-none-any.whl (127 kB)\n",
            "\u001b[K     |████████████████████████████████| 127 kB 14.0 MB/s \n",
            "\u001b[?25hRequirement already satisfied: pytz>=2017.3 in /usr/local/lib/python3.7/dist-packages (from pandas->pandas_summary) (2022.5)\n",
            "Requirement already satisfied: python-dateutil>=2.7.3 in /usr/local/lib/python3.7/dist-packages (from pandas->pandas_summary) (2.8.2)\n",
            "Requirement already satisfied: six>=1.5 in /usr/local/lib/python3.7/dist-packages (from python-dateutil>=2.7.3->pandas->pandas_summary) (1.15.0)\n",
            "Installing collected packages: traceml, datatile, pandas-summary\n",
            "Successfully installed datatile-1.0.3 pandas-summary-0.2.0 traceml-1.0.3\n"
          ]
        }
      ],
      "source": [
        "import pandas as pd\n",
        "import numpy as np\n",
        "import datetime\n",
        "!pip install pandas_summary\n",
        "from pandas_summary import DataFrameSummary"
      ]
    },
    {
      "cell_type": "code",
      "source": [
        "from google.colab import drive\n",
        "drive.mount('/content/drive')"
      ],
      "metadata": {
        "colab": {
          "base_uri": "https://localhost:8080/"
        },
        "id": "CDcZFtzHJ5mU",
        "outputId": "b2eb5dc1-021b-4bda-a568-2344dcfa53d6"
      },
      "execution_count": null,
      "outputs": [
        {
          "output_type": "stream",
          "name": "stdout",
          "text": [
            "Mounted at /content/drive\n"
          ]
        }
      ]
    },
    {
      "cell_type": "code",
      "execution_count": null,
      "metadata": {
        "id": "WKVtgv2VJSkM"
      },
      "outputs": [],
      "source": [
        "path = '/content/drive/MyDrive/Colab Notebooks/Redes Neuronales/TP2/'\n",
        "df = pd.read_feather(path + 'train_normalized_data.fth')\n",
        "df_test = pd.read_feather(path + 'test_normalized_data.fth')"
      ]
    },
    {
      "cell_type": "code",
      "execution_count": null,
      "metadata": {
        "id": "Vl6VwCAGJSkN",
        "outputId": "360e4845-1ec3-4d53-fc3a-dc859aba8a97",
        "colab": {
          "base_uri": "https://localhost:8080/"
        }
      },
      "outputs": [
        {
          "output_type": "execute_result",
          "data": {
            "text/plain": [
              "(0.9642465458145908, 0.035753454185409164, 844338, 30188)"
            ]
          },
          "metadata": {},
          "execution_count": 4
        }
      ],
      "source": [
        "df_train = df[df.Date < datetime.datetime(2015, 7, 1)]  \n",
        "df_val = df[df.Date >= datetime.datetime(2015, 7, 1)]\n",
        "len(df_train)/len(df), len(df_val)/len(df), len(df), len(df_val)"
      ]
    },
    {
      "cell_type": "code",
      "execution_count": null,
      "metadata": {
        "id": "8c8d6v4fJSkO"
      },
      "outputs": [],
      "source": []
    },
    {
      "cell_type": "code",
      "execution_count": null,
      "metadata": {
        "id": "l1bGVD3lJSkO"
      },
      "outputs": [],
      "source": [
        "final_train = False"
      ]
    },
    {
      "cell_type": "code",
      "execution_count": null,
      "metadata": {
        "id": "A74M-BriJSkP"
      },
      "outputs": [],
      "source": [
        "def get_metric(sales, sales_):\n",
        "    return np.sqrt((((sales - sales_)/sales)**2).sum()/len(sales))"
      ]
    },
    {
      "cell_type": "markdown",
      "metadata": {
        "id": "1QIJICMoJSkP"
      },
      "source": [
        "\n",
        "$\\textrm{RMSE} = \\sqrt{\\frac{1}{n} \\sum_{i=1}^{n} \\left(\\frac{\\hat{y}_i - y_i}{y_i}\\right)^2}$\n"
      ]
    },
    {
      "cell_type": "code",
      "execution_count": null,
      "metadata": {
        "id": "NjLJ_0a8JSkS",
        "outputId": "f912fe37-3f3b-4934-aa65-72f0ee4ce511",
        "colab": {
          "base_uri": "https://localhost:8080/"
        }
      },
      "outputs": [
        {
          "output_type": "execute_result",
          "data": {
            "text/plain": [
              "Index(['index', 'Store', 'DayOfWeek', 'Date', 'Sales', 'Customers', 'Open',\n",
              "       'Promo', 'StateHoliday', 'SchoolHoliday', 'Year', 'Month', 'Week',\n",
              "       'Day', 'StoreType', 'Assortment', 'CompetitionDistance',\n",
              "       'CompetitionOpenSinceMonth', 'CompetitionOpenSinceYear', 'Promo2',\n",
              "       'Promo2SinceWeek', 'Promo2SinceYear', 'PromoInterval',\n",
              "       'CompetitionOpenSince', 'Promo2Since', 'State', 'file', 'week', 'trend',\n",
              "       'Date_y', 'Month_y', 'Day_y', 'file_DE', 'week_DE', 'trend_DE',\n",
              "       'Date_DE', 'State_DE', 'Month_DE', 'Day_DE', 'file_y',\n",
              "       'Max_TemperatureC', 'Mean_TemperatureC', 'Min_TemperatureC',\n",
              "       'Dew_PointC', 'MeanDew_PointC', 'Min_DewpointC', 'Max_Humidity',\n",
              "       'Mean_Humidity', 'Min_Humidity', 'Max_Sea_Level_PressurehPa',\n",
              "       'Mean_Sea_Level_PressurehPa', 'Min_Sea_Level_PressurehPa',\n",
              "       'Max_VisibilityKm', 'Mean_VisibilityKm', 'Min_VisibilitykM',\n",
              "       'Max_Wind_SpeedKm_h', 'Mean_Wind_SpeedKm_h', 'Max_Gust_SpeedKm_h',\n",
              "       'Precipitationmm', 'CloudCover', 'Events', 'WindDirDegrees',\n",
              "       'StateName', 'Year_y', 'Week_y', 'CompetitionDaysOpen',\n",
              "       'CompetitionMonthsOpen', 'Promo2Days', 'Promo2Weeks',\n",
              "       'StateHoliday_bool', 'AfterSchoolHoliday', 'BeforeSchoolHoliday',\n",
              "       'AfterStateHoliday_bool', 'BeforeStateHoliday_bool', 'AfterPromo',\n",
              "       'BeforePromo', 'SchoolHoliday_bw', 'StateHoliday_bool_bw', 'Promo_bw',\n",
              "       'SchoolHoliday_fw', 'StateHoliday_bool_fw', 'Promo_fw'],\n",
              "      dtype='object')"
            ]
          },
          "metadata": {},
          "execution_count": 7
        }
      ],
      "source": [
        "df_train.columns"
      ]
    },
    {
      "cell_type": "code",
      "execution_count": null,
      "metadata": {
        "id": "LqPL5JQGJSkS",
        "outputId": "c415c088-f7fd-489d-c06b-3a5ae71dbbcd",
        "colab": {
          "base_uri": "https://localhost:8080/"
        }
      },
      "outputs": [
        {
          "output_type": "execute_result",
          "data": {
            "text/plain": [
              "30188     20\n",
              "30189     20\n",
              "30190      0\n",
              "30191     20\n",
              "30192     20\n",
              "          ..\n",
              "844333    10\n",
              "844334    10\n",
              "844335    10\n",
              "844336     1\n",
              "844337    10\n",
              "Name: Events, Length: 814150, dtype: int64"
            ]
          },
          "metadata": {},
          "execution_count": 8
        }
      ],
      "source": [
        "df_train['Events']"
      ]
    },
    {
      "cell_type": "code",
      "execution_count": null,
      "metadata": {
        "id": "pZ9jqwbcJSkT"
      },
      "outputs": [],
      "source": [
        "max_sales = df_train['Sales'].max()\n",
        "df.loc[:, 'Sales_norm'] = df['Sales'].values/max_sales"
      ]
    },
    {
      "cell_type": "code",
      "execution_count": null,
      "metadata": {
        "id": "qwWQAPKLJSkU",
        "outputId": "b6e6682e-7400-4266-ab19-30ed0cd56397",
        "colab": {
          "base_uri": "https://localhost:8080/"
        }
      },
      "outputs": [
        {
          "output_type": "stream",
          "name": "stderr",
          "text": [
            "/usr/local/lib/python3.7/dist-packages/pandas/core/indexing.py:1667: SettingWithCopyWarning: \n",
            "A value is trying to be set on a copy of a slice from a DataFrame.\n",
            "Try using .loc[row_indexer,col_indexer] = value instead\n",
            "\n",
            "See the caveats in the documentation: https://pandas.pydata.org/pandas-docs/stable/user_guide/indexing.html#returning-a-view-versus-a-copy\n",
            "  self.obj[key] = value\n"
          ]
        }
      ],
      "source": [
        "df_train.loc[:, 'Sales_norm'] = df_train['Sales'].values/max_sales\n",
        "df_val.loc[:, 'Sales_norm'] = df_val['Sales'].values/max_sales"
      ]
    },
    {
      "cell_type": "code",
      "execution_count": null,
      "metadata": {
        "id": "6ztHg1k6JSkV",
        "outputId": "430c602d-043a-4f2f-b121-5dacd5723fd9",
        "colab": {
          "base_uri": "https://localhost:8080/"
        }
      },
      "outputs": [
        {
          "output_type": "stream",
          "name": "stdout",
          "text": [
            "Train:\n",
            "0.6371089378658743\n",
            "Val:\n"
          ]
        },
        {
          "output_type": "execute_result",
          "data": {
            "text/plain": [
              "0.5496723521813329"
            ]
          },
          "metadata": {},
          "execution_count": 11
        }
      ],
      "source": [
        "print('Train:')\n",
        "print(get_metric(df_train['Sales_norm'], \n",
        "                 df_train['Sales_norm'].mean()))\n",
        "print('Val:')\n",
        "get_metric(df_val['Sales_norm'], \n",
        "           df_train['Sales_norm'].mean())"
      ]
    },
    {
      "cell_type": "code",
      "execution_count": null,
      "metadata": {
        "id": "3DRNSx1RJSkV"
      },
      "outputs": [],
      "source": [
        "def get_mean_by_column(column, sales_str):\n",
        "    group_means_dict = {}\n",
        "    group_mean_list = []\n",
        "    for col_value, group_df in df_train.groupby(column):\n",
        "        group_mean =  group_df[group_df[sales_str] > 0][sales_str].mean()\n",
        "        group_means_dict[col_value] = group_mean\n",
        "        group_mean_list.append(group_mean)\n",
        "    print('Train:', get_metric(df_train[sales_str], \n",
        "                               df_train[column].apply(group_means_dict.get)))\n",
        "    print('Val:', get_metric(df_val[sales_str], \n",
        "                             df_val[column].apply(group_means_dict.get)))\n",
        "    return group_means_dict, group_mean_list"
      ]
    },
    {
      "cell_type": "code",
      "execution_count": null,
      "metadata": {
        "id": "tDdNN7vVJSkW",
        "outputId": "8506cb95-3586-40f9-da7e-018c65b80934",
        "colab": {
          "base_uri": "https://localhost:8080/"
        }
      },
      "outputs": [
        {
          "output_type": "stream",
          "name": "stdout",
          "text": [
            "Train: 0.3960913521241833\n",
            "Val: 0.3071746085338872\n"
          ]
        }
      ],
      "source": [
        "# Media por store\n",
        "_ = get_mean_by_column('Store', 'Sales_norm')\n",
        "# Train: 0.3960913521241833\n",
        "# Val: 0.3071746085338872"
      ]
    },
    {
      "cell_type": "code",
      "execution_count": null,
      "metadata": {
        "id": "P10qnrn7JSkW",
        "outputId": "179b384f-d9c3-4a46-a26d-a8507fb4f0cc",
        "colab": {
          "base_uri": "https://localhost:8080/"
        }
      },
      "outputs": [
        {
          "output_type": "stream",
          "name": "stdout",
          "text": [
            "Train: 0.6008874922754364\n",
            "Val: 0.5061392186635405\n"
          ]
        }
      ],
      "source": [
        "# Media por dia de la semana\n",
        "_ = get_mean_by_column('DayOfWeek', 'Sales_norm')\n",
        "# Train: 0.6008874922754364\n",
        "# Val: 0.5061392186635405"
      ]
    },
    {
      "cell_type": "code",
      "execution_count": null,
      "metadata": {
        "id": "Ks9rBpxlJSkW",
        "outputId": "f0dc818e-657a-4392-e333-78f3b848bfe1",
        "colab": {
          "base_uri": "https://localhost:8080/"
        }
      },
      "outputs": [
        {
          "output_type": "stream",
          "name": "stdout",
          "text": [
            "Train: 0.6077405789213655\n",
            "Val: 0.5171468581189804\n"
          ]
        }
      ],
      "source": [
        "# Media por numera de semana (1-52)\n",
        "_ = get_mean_by_column('Week', 'Sales_norm')\n",
        "# Train: 0.6077405789213655\n",
        "# Val: 0.5171468581189804"
      ]
    },
    {
      "cell_type": "code",
      "execution_count": null,
      "metadata": {
        "id": "4H06QYVEJSkX",
        "outputId": "80fbfca6-7ab7-42ab-877c-bda880acdcc9",
        "colab": {
          "base_uri": "https://localhost:8080/"
        }
      },
      "outputs": [
        {
          "output_type": "stream",
          "name": "stdout",
          "text": [
            "Train: 0.6326710739722268\n",
            "Val: 0.544465040070309\n"
          ]
        }
      ],
      "source": [
        "_ = get_mean_by_column('Month', 'Sales_norm')\n",
        "# Train: 0.6326710739722268\n",
        "# Val: 0.544465040070309"
      ]
    },
    {
      "cell_type": "code",
      "execution_count": null,
      "metadata": {
        "id": "c8G774hgJSkX",
        "outputId": "0c4a53a5-78d1-40b8-a965-ae860907c424",
        "colab": {
          "base_uri": "https://localhost:8080/"
        }
      },
      "outputs": [
        {
          "output_type": "stream",
          "name": "stdout",
          "text": [
            "Train: 0.6379671046048598\n",
            "Val: 0.5494193814701794\n"
          ]
        }
      ],
      "source": [
        "_ = get_mean_by_column('StateHoliday', 'Sales_norm')\n",
        "#Train: 0.6379671046048598\n",
        "# Val: 0.5494193814701794"
      ]
    },
    {
      "cell_type": "code",
      "execution_count": null,
      "metadata": {
        "id": "d9FS2yLuJSkY",
        "outputId": "5347ef7c-9c12-4a49-ca3e-730335725d88",
        "colab": {
          "base_uri": "https://localhost:8080/"
        }
      },
      "outputs": [
        {
          "output_type": "stream",
          "name": "stdout",
          "text": [
            "Train: 0.6352131730794401\n",
            "Val: 0.5522886254888293\n"
          ]
        }
      ],
      "source": [
        "_ = get_mean_by_column('SchoolHoliday', 'Sales_norm')\n",
        "#Train: 0.6352131730794401\n",
        "# Val: 0.5522886254888293"
      ]
    },
    {
      "cell_type": "code",
      "execution_count": null,
      "metadata": {
        "id": "s9EhU0b2JSkY"
      },
      "outputs": [],
      "source": [
        "from tensorflow.keras.models import Model\n",
        "from tensorflow.keras.callbacks import ModelCheckpoint\n",
        "from tensorflow.keras.optimizers import Adam\n",
        "from tensorflow.keras.layers import Embedding, Input, Flatten, Concatenate, Dense, BatchNormalization, Activation, LeakyReLU, Dropout\n",
        "from tensorflow.keras.regularizers import l2\n",
        "from tensorflow.keras import optimizers\n",
        "from tensorflow.keras import backend as K\n",
        "from tensorflow.keras.utils import to_categorical"
      ]
    },
    {
      "cell_type": "code",
      "execution_count": null,
      "metadata": {
        "id": "LYnFQ1KpJSkY"
      },
      "outputs": [],
      "source": [
        "def rmspe(y_true, y_pred):\n",
        "    return K.sqrt(K.mean(K.square((y_true - y_pred)/y_true)))"
      ]
    },
    {
      "cell_type": "code",
      "execution_count": null,
      "metadata": {
        "id": "Vy_V4Tz6JSkZ"
      },
      "outputs": [],
      "source": [
        "def get_keras_LR(X_columns, hidden_units=1):\n",
        "    inputs = []\n",
        "    activation = 'linear'\n",
        "    if hidden_units>1:\n",
        "        activation = 'relu'\n",
        "    for i, col in enumerate(X_columns):\n",
        "        inp = Input(shape=(X_train[i].shape[1],), name=f\"{col}_input\")\n",
        "        inputs.append(inp)\n",
        "    if len(X_columns)>1:\n",
        "        concat_out = Concatenate()(inputs)\n",
        "        dense_out = Dense(hidden_units, name='Dense', activation=activation)(concat_out)\n",
        "    else:\n",
        "        dense_out = Dense(hidden_units, name='Dense', activation=activation)(inputs[0])\n",
        "    if hidden_units>1:\n",
        "        dense_out = Dense(1, name='Dense_out')(dense_out)\n",
        "    model = Model(inputs, dense_out)\n",
        "    model.compile(optimizers.Adam(lr=0.0001), loss='mse', metrics=[rmspe, 'mse'])\n",
        "    return model\n",
        "\n",
        "\n",
        "def get_embedings_NN(X_columns, hidden_units = 20, activation = 'relu'):\n",
        "    embed_outs = []\n",
        "    inputs = []\n",
        "    for i, col in enumerate(X_columns):\n",
        "        inp = Input(shape=(1,), name=f\"{col}_input\")\n",
        "        inputs.append(inp)\n",
        "        if col in embed_outs_dict:\n",
        "            embed_out = Embedding(len(np.unique(X_train[i])), embed_outs_dict[col], name=f\"{col}_embedding\", mask_zero=False)(inp)\n",
        "            out = Flatten(name=f\"{col}_flatten\")(embed_out)\n",
        "            embed_outs.append(out)\n",
        "        else:\n",
        "            embed_outs.append(inp)\n",
        "        \n",
        "    if len(X_columns)>1:\n",
        "        concat_out = Concatenate()(embed_outs)\n",
        "        dense_out = Dense(hidden_units, activation=activation)(concat_out)\n",
        "    else:\n",
        "        dense_out = Dense(hidden_units, activation=activation)(out)\n",
        "    out = Dense(1)(dense_out)\n",
        "    model = Model(inputs, out)\n",
        "    model.compile(optimizers.Adam(lr=0.0001), loss='mse', metrics=[rmspe, 'mse'])\n",
        "    return model"
      ]
    },
    {
      "cell_type": "code",
      "execution_count": null,
      "metadata": {
        "id": "b2H26X9qJSkZ"
      },
      "outputs": [],
      "source": [
        "with_embed = True\n",
        "\n",
        "embed_outs_dict = {'Store': 2, 'DayOfWeek': 2} #,  'Week': 2, 'Month': 2}\n",
        "X_columns = list(embed_outs_dict.keys())# + ['BeforeStateHoliday_bool', 'Max_TemperatureC'] # ['Precipitationmm']\n",
        "\n",
        "if final_train:\n",
        "    X_train = np.hsplit(df[X_columns].values, len(X_columns))\n",
        "    y_train = df['Sales_norm']\n",
        "else:\n",
        "    X_train = np.hsplit(df_train[X_columns].values, len(X_columns))\n",
        "    y_train = df_train['Sales_norm']\n",
        "    \n",
        "X_val = np.hsplit(df_val[X_columns].values, len(X_columns))\n",
        "X_test = np.hsplit(df_test[X_columns].values, len(X_columns))\n",
        "\n",
        "if not with_embed:\n",
        "    for i in range(len(X_train)):\n",
        "        X_train[i] = to_categorical(X_train[i])\n",
        "        X_val[i] = to_categorical(X_val[i])\n",
        "        X_test[i] = to_categorical(X_test[i])\n",
        "\n",
        "y_val = df_val['Sales_norm']"
      ]
    },
    {
      "cell_type": "code",
      "execution_count": null,
      "metadata": {
        "id": "MZk0NMnrJSkZ",
        "outputId": "64f8d11e-c115-42d3-89f8-b991186cc412",
        "colab": {
          "base_uri": "https://localhost:8080/"
        }
      },
      "outputs": [
        {
          "output_type": "stream",
          "name": "stdout",
          "text": [
            "Model: \"model\"\n",
            "__________________________________________________________________________________________________\n",
            " Layer (type)                   Output Shape         Param #     Connected to                     \n",
            "==================================================================================================\n",
            " Store_input (InputLayer)       [(None, 1)]          0           []                               \n",
            "                                                                                                  \n",
            " DayOfWeek_input (InputLayer)   [(None, 1)]          0           []                               \n",
            "                                                                                                  \n",
            " Store_embedding (Embedding)    (None, 1, 2)         2230        ['Store_input[0][0]']            \n",
            "                                                                                                  \n",
            " DayOfWeek_embedding (Embedding  (None, 1, 2)        14          ['DayOfWeek_input[0][0]']        \n",
            " )                                                                                                \n",
            "                                                                                                  \n",
            " Store_flatten (Flatten)        (None, 2)            0           ['Store_embedding[0][0]']        \n",
            "                                                                                                  \n",
            " DayOfWeek_flatten (Flatten)    (None, 2)            0           ['DayOfWeek_embedding[0][0]']    \n",
            "                                                                                                  \n",
            " concatenate (Concatenate)      (None, 4)            0           ['Store_flatten[0][0]',          \n",
            "                                                                  'DayOfWeek_flatten[0][0]']      \n",
            "                                                                                                  \n",
            " dense (Dense)                  (None, 20)           100         ['concatenate[0][0]']            \n",
            "                                                                                                  \n",
            " dense_1 (Dense)                (None, 1)            21          ['dense[0][0]']                  \n",
            "                                                                                                  \n",
            "==================================================================================================\n",
            "Total params: 2,365\n",
            "Trainable params: 2,365\n",
            "Non-trainable params: 0\n",
            "__________________________________________________________________________________________________\n"
          ]
        },
        {
          "output_type": "stream",
          "name": "stderr",
          "text": [
            "/usr/local/lib/python3.7/dist-packages/keras/optimizers/optimizer_v2/adam.py:110: UserWarning: The `lr` argument is deprecated, use `learning_rate` instead.\n",
            "  super(Adam, self).__init__(name, **kwargs)\n"
          ]
        }
      ],
      "source": [
        "if with_embed:\n",
        "    model = get_embedings_NN(X_columns)\n",
        "else:\n",
        "    model = get_keras_LR(X_columns, hidden_units=20)\n",
        "model.summary()"
      ]
    },
    {
      "cell_type": "code",
      "execution_count": null,
      "metadata": {
        "id": "m2SLCnAUJSka"
      },
      "outputs": [],
      "source": [
        "# weights = model.get_weights()\n",
        "# weights[0] = np.array(np.array(stores_mean_list).reshape(-1, 1))\n",
        "# model.set_weights(weights)"
      ]
    },
    {
      "cell_type": "code",
      "execution_count": null,
      "metadata": {
        "id": "9b9rwgfKJSka"
      },
      "outputs": [],
      "source": [
        "from tensorflow.keras import callbacks"
      ]
    },
    {
      "cell_type": "code",
      "execution_count": null,
      "metadata": {
        "id": "uT1K_jZ7JSka"
      },
      "outputs": [],
      "source": [
        "# model.evaluate(X_val, y_val)"
      ]
    },
    {
      "cell_type": "code",
      "execution_count": null,
      "metadata": {
        "id": "gbIvvgIvJSka"
      },
      "outputs": [],
      "source": [
        "# np.sqrt(0.0951)"
      ]
    },
    {
      "cell_type": "code",
      "execution_count": null,
      "metadata": {
        "id": "UxdyBS-iJSka",
        "outputId": "fe972d51-da31-4f28-e356-e28781bce2fd",
        "colab": {
          "base_uri": "https://localhost:8080/"
        }
      },
      "outputs": [
        {
          "output_type": "stream",
          "name": "stdout",
          "text": [
            "Epoch 1/5\n",
            "25431/25443 [============================>.] - ETA: 0s - loss: 0.0020 - rmspe: 0.2867 - mse: 0.0020\n",
            "Epoch 1: val_rmspe improved from inf to 0.20781, saving model to best_val_rmspe.hdf5\n",
            "25443/25443 [==============================] - 36s 1ms/step - loss: 0.0020 - rmspe: 0.2867 - mse: 0.0020 - val_loss: 0.0014 - val_rmspe: 0.2078 - val_mse: 0.0014 - lr: 0.0010\n",
            "Epoch 2/5\n",
            "25439/25443 [============================>.] - ETA: 0s - loss: 0.0018 - rmspe: 0.2674 - mse: 0.0018\n",
            "Epoch 2: val_rmspe did not improve from 0.20781\n",
            "25443/25443 [==============================] - 34s 1ms/step - loss: 0.0018 - rmspe: 0.2674 - mse: 0.0018 - val_loss: 0.0013 - val_rmspe: 0.2094 - val_mse: 0.0013 - lr: 0.0010\n",
            "Epoch 3/5\n",
            "25430/25443 [============================>.] - ETA: 0s - loss: 0.0018 - rmspe: 0.2658 - mse: 0.0018\n",
            "Epoch 3: ReduceLROnPlateau reducing learning rate to 0.00010000000474974513.\n",
            "\n",
            "Epoch 3: val_rmspe did not improve from 0.20781\n",
            "25443/25443 [==============================] - 34s 1ms/step - loss: 0.0018 - rmspe: 0.2658 - mse: 0.0018 - val_loss: 0.0014 - val_rmspe: 0.2160 - val_mse: 0.0014 - lr: 0.0010\n",
            "Epoch 4/5\n",
            "25440/25443 [============================>.] - ETA: 0s - loss: 0.0017 - rmspe: 0.2609 - mse: 0.0017\n",
            "Epoch 4: val_rmspe did not improve from 0.20781\n",
            "25443/25443 [==============================] - 34s 1ms/step - loss: 0.0017 - rmspe: 0.2609 - mse: 0.0017 - val_loss: 0.0013 - val_rmspe: 0.2088 - val_mse: 0.0013 - lr: 1.0000e-04\n",
            "Epoch 5/5\n",
            "25416/25443 [============================>.] - ETA: 0s - loss: 0.0017 - rmspe: 0.2599 - mse: 0.0017\n",
            "Epoch 5: ReduceLROnPlateau reducing learning rate to 1.0000000474974514e-05.\n",
            "\n",
            "Epoch 5: val_rmspe did not improve from 0.20781\n",
            "25443/25443 [==============================] - 34s 1ms/step - loss: 0.0017 - rmspe: 0.2599 - mse: 0.0017 - val_loss: 0.0013 - val_rmspe: 0.2096 - val_mse: 0.0013 - lr: 1.0000e-04\n"
          ]
        }
      ],
      "source": [
        "epochs = 5\n",
        "model.compile(optimizers.Adam(lr=0.001), loss='mse', metrics=[rmspe, 'mse'])\n",
        "cbs = [callbacks.ReduceLROnPlateau(monitor='val_rmspe', mode='min', verbose=1, patience=2), callbacks.ModelCheckpoint('best_val_rmspe.hdf5', monitor='val_rmspe', mode='min', verbose=1, save_best_only=True)]\n",
        "if final_train:\n",
        "    model.fit(X_train, y_train, epochs=epochs, callbacks=cbs)\n",
        "else:\n",
        "    model.fit(X_train, y_train, epochs=epochs, validation_data=(X_val, y_val), callbacks=cbs)"
      ]
    },
    {
      "cell_type": "code",
      "execution_count": null,
      "metadata": {
        "id": "bHXsLuNVJSkb"
      },
      "outputs": [],
      "source": [
        "model.load_weights('best_val_rmspe.hdf5')"
      ]
    },
    {
      "cell_type": "code",
      "execution_count": null,
      "metadata": {
        "id": "nyZtGElBJSkb",
        "outputId": "b59adaf6-4a25-4713-e05c-a68d63fc1da5",
        "colab": {
          "base_uri": "https://localhost:8080/"
        }
      },
      "outputs": [
        {
          "output_type": "stream",
          "name": "stdout",
          "text": [
            "25443/25443 [==============================] - 30s 1ms/step - loss: 0.0018 - rmspe: 0.2291 - mse: 0.0018\n"
          ]
        },
        {
          "output_type": "execute_result",
          "data": {
            "text/plain": [
              "[0.001813751645386219, 0.22906601428985596, 0.001813751645386219]"
            ]
          },
          "metadata": {},
          "execution_count": 27
        }
      ],
      "source": [
        "model.evaluate(X_train, y_train)"
      ]
    },
    {
      "cell_type": "code",
      "execution_count": null,
      "metadata": {
        "id": "ItnzqDRAJSkb",
        "outputId": "0688f9c1-10e0-4950-d02e-0785d58c8160",
        "colab": {
          "base_uri": "https://localhost:8080/"
        }
      },
      "outputs": [
        {
          "output_type": "stream",
          "name": "stdout",
          "text": [
            "944/944 [==============================] - 1s 1ms/step - loss: 0.0014 - rmspe: 0.2078 - mse: 0.0014\n"
          ]
        },
        {
          "output_type": "execute_result",
          "data": {
            "text/plain": [
              "[0.0014215366682037711, 0.2078104317188263, 0.0014215366682037711]"
            ]
          },
          "metadata": {},
          "execution_count": 28
        }
      ],
      "source": [
        "model.evaluate(X_val, y_val)\n",
        "# 944/944 [==============================] - 1s 795us/step - loss: 0.0013 - rmspe: 0.2084 - mse: 0.0013\n",
        "# [0.0013232995988801122, 0.2084130048751831, 0.0013232995988801122]"
      ]
    },
    {
      "cell_type": "code",
      "execution_count": null,
      "metadata": {
        "id": "qShX_PhkJSkb"
      },
      "outputs": [],
      "source": [
        "from matplotlib import pyplot as plt"
      ]
    },
    {
      "cell_type": "code",
      "execution_count": null,
      "metadata": {
        "id": "AajTVNCOJSkb"
      },
      "outputs": [],
      "source": [
        "def plot_embed(layer_name, cat_names):\n",
        "    Y = model.get_layer(layer_name).get_weights()[0]\n",
        "    print(Y.shape)\n",
        "    plt.figure(figsize=(8,8))\n",
        "    plt.scatter(-Y[:, 0], -Y[:, 1])\n",
        "    for i, txt in enumerate(cat_names):\n",
        "        plt.annotate(txt, (-Y[i, 0],-Y[i, 1]), xytext = (-5, 8), textcoords = 'offset points')"
      ]
    },
    {
      "cell_type": "code",
      "execution_count": null,
      "metadata": {
        "id": "0qriQBH6JSkb",
        "outputId": "5c0536b4-2bad-4c4b-fe2a-ac006dcf6e7a",
        "colab": {
          "base_uri": "https://localhost:8080/",
          "height": 500
        }
      },
      "outputs": [
        {
          "output_type": "stream",
          "name": "stdout",
          "text": [
            "(7, 2)\n"
          ]
        },
        {
          "output_type": "display_data",
          "data": {
            "text/plain": [
              "<Figure size 576x576 with 1 Axes>"
            ],
            "image/png": "[encoded data removed]"
          },
          "metadata": {
            "needs_background": "light"
          }
        }
      ],
      "source": [
        "plot_embed('DayOfWeek_embedding', ['Mon', 'Tue', 'Wed', 'Thu', 'Fri', 'Sat','Sun'])"
      ]
    },
    {
      "cell_type": "code",
      "execution_count": null,
      "metadata": {
        "id": "60f_nfewJSkc",
        "outputId": "144ed1f2-28c6-4fb9-bf60-0c66c1799c11",
        "colab": {
          "base_uri": "https://localhost:8080/",
          "height": 500
        }
      },
      "outputs": [
        {
          "output_type": "stream",
          "name": "stdout",
          "text": [
            "(1115, 2)\n"
          ]
        },
        {
          "output_type": "display_data",
          "data": {
            "text/plain": [
              "<Figure size 576x576 with 1 Axes>"
            ],
            "image/png": "[encoded data removed]"
          },
          "metadata": {
            "needs_background": "light"
          }
        }
      ],
      "source": [
        "plot_embed('Store_embedding', list(range(1115)))"
      ]
    },
    {
      "cell_type": "raw",
      "metadata": {
        "id": "Fs9aq3zXJSkc"
      },
      "source": [
        "Store, DayOfWeek: 0.09212721139192581, 0.048540305346250534\n",
        "Store, DayOfWeek, Week: 0.0615, 0.02256705053150654\n",
        "Store, DayOfWeek, Week, Month: 0.061621, 0.02359057404100895"
      ]
    },
    {
      "cell_type": "code",
      "execution_count": null,
      "metadata": {
        "id": "k3XjmRVMJSkc",
        "outputId": "c4d63a32-eb78-4ed5-ef47-2ae9267fe438",
        "colab": {
          "base_uri": "https://localhost:8080/"
        }
      },
      "outputs": [
        {
          "output_type": "stream",
          "name": "stdout",
          "text": [
            "25443/25443 [==============================] - 25s 975us/step\n"
          ]
        },
        {
          "output_type": "execute_result",
          "data": {
            "text/plain": [
              "0.29524513855352413"
            ]
          },
          "metadata": {},
          "execution_count": 34
        }
      ],
      "source": [
        "train_predictions = model.predict(X_train)*max_sales\n",
        "get_metric(df_train['Sales'].values, train_predictions.reshape(-1))"
      ]
    },
    {
      "cell_type": "code",
      "execution_count": null,
      "metadata": {
        "id": "VTOX4kwcJSkc",
        "colab": {
          "base_uri": "https://localhost:8080/"
        },
        "outputId": "09f15caf-6f5b-4d40-85b9-c4b3e4253bb7"
      },
      "outputs": [
        {
          "output_type": "stream",
          "name": "stdout",
          "text": [
            "1284/1284 [==============================] - 1s 1ms/step\n"
          ]
        }
      ],
      "source": [
        "test_predictions = model.predict(X_test)*max_sales\n",
        "test_predictions[df_test['Open'] == 0] = 0"
      ]
    },
    {
      "cell_type": "code",
      "execution_count": null,
      "metadata": {
        "id": "iW7VlBT4JSkc"
      },
      "outputs": [],
      "source": [
        "sample_csv = pd.read_csv(path + 'dataset/sample_submission.csv')\n",
        "sample_csv['Sales'] = test_predictions\n",
        "sample_csv.head()\n",
        "\n",
        "sample_csv.to_csv(f'submision_baseline_{\"-\".join(X_columns)}.csv', index=False)\n"
      ]
    },
    {
      "cell_type": "code",
      "execution_count": null,
      "metadata": {
        "id": "1Ut_4KufJSkc",
        "colab": {
          "base_uri": "https://localhost:8080/",
          "height": 35
        },
        "outputId": "dafc2e34-6b02-4c87-be37-7996ef8c0529"
      },
      "outputs": [
        {
          "output_type": "execute_result",
          "data": {
            "text/plain": [
              "'/content/drive/MyDrive/Colab Notebooks/Redes Neuronales/TP2/submision_baseline_Store-DayOfWeek.csv'"
            ],
            "application/vnd.google.colaboratory.intrinsic+json": {
              "type": "string"
            }
          },
          "metadata": {},
          "execution_count": 39
        }
      ],
      "source": [
        "import shutil\n",
        "shutil.copy(\"/content/best_val_rmspe.hdf5\",\"/content/drive/MyDrive/Colab Notebooks/Redes Neuronales/TP2\")\n",
        "shutil.copy(\"/content/submision_baseline_Store-DayOfWeek.csv\",\"/content/drive/MyDrive/Colab Notebooks/Redes Neuronales/TP2\")"
      ]
    }
  ],
  "metadata": {
    "kernelspec": {
      "display_name": "Python [conda env:tensorflow2] *",
      "language": "python",
      "name": "conda-env-tensorflow2-py"
    },
    "language_info": {
      "codemirror_mode": {
        "name": "ipython",
        "version": 3
      },
      "file_extension": ".py",
      "mimetype": "text/x-python",
      "name": "python",
      "nbconvert_exporter": "python",
      "pygments_lexer": "ipython3",
      "version": "3.6.10"
    },
    "colab": {
      "provenance": []
    }
  },
  "nbformat": 4,
  "nbformat_minor": 0
}